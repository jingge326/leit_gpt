{
 "cells": [
  {
   "cell_type": "code",
   "execution_count": 1,
   "metadata": {},
   "outputs": [],
   "source": [
    "import os\n",
    "from pathlib import Path\n",
    "import pandas as pd\n",
    "\n",
    "p_project = Path(os.getcwd()).parents[0]\n",
    "path_data = p_project/'data'"
   ]
  },
  {
   "cell_type": "code",
   "execution_count": 16,
   "metadata": {},
   "outputs": [],
   "source": [
    "df_p12_data = pd.read_csv(path_data/'PhysioNet12/processed/p12_data.csv', index_col=0)\n",
    "df_p12_labels = pd.read_csv(path_data/'PhysioNet12/processed/p12_labels.csv', index_col=0)"
   ]
  },
  {
   "cell_type": "code",
   "execution_count": 17,
   "metadata": {},
   "outputs": [
    {
     "name": "stdout",
     "output_type": "stream",
     "text": [
      "Number of samples: 3989\n"
     ]
    }
   ],
   "source": [
    "ids_before = df_p12_data.loc[df_p12_data['Time'] < 1440].index.unique()\n",
    "ids_after = df_p12_data.loc[df_p12_data['Time'] > 1440].index.unique()\n",
    "ids_selected = set(ids_before) & set(ids_after)\n",
    "df_p12_data = df_p12_data.loc[list(ids_selected)]\n",
    "print(\"Number of samples: {}\".format(len(ids_selected)))"
   ]
  },
  {
   "cell_type": "code",
   "execution_count": 18,
   "metadata": {},
   "outputs": [],
   "source": [
    "df_mask_p12 = df_p12_data.filter(regex='Mask', axis=1)"
   ]
  },
  {
   "cell_type": "code",
   "execution_count": 19,
   "metadata": {},
   "outputs": [
    {
     "data": {
      "text/plain": [
       "75.00175482577087"
      ]
     },
     "execution_count": 19,
     "metadata": {},
     "output_type": "execute_result"
    }
   ],
   "source": [
    "p12_aveg_len = df_mask_p12.groupby('ID').size().mean()\n",
    "p12_aveg_len"
   ]
  },
  {
   "cell_type": "code",
   "execution_count": 20,
   "metadata": {},
   "outputs": [
    {
     "data": {
      "text/plain": [
       "85.73585439713587"
      ]
     },
     "execution_count": 20,
     "metadata": {},
     "output_type": "execute_result"
    }
   ],
   "source": [
    "p12_missing_rate = 100 * (1 - df_mask_p12.sum().sum() / (df_mask_p12.shape[0] * df_mask_p12.shape[1]))\n",
    "p12_missing_rate"
   ]
  },
  {
   "cell_type": "code",
   "execution_count": 29,
   "metadata": {},
   "outputs": [
    {
     "data": {
      "text/plain": [
       "labels    13.888193\n",
       "dtype: float64"
      ]
     },
     "execution_count": 29,
     "metadata": {},
     "output_type": "execute_result"
    }
   ],
   "source": [
    "df_p12_labels = df_p12_labels.loc[list(ids_selected)]\n",
    "p12_posi_rate = 100 * df_p12_labels.sum() / df_p12_labels.size\n",
    "p12_posi_rate"
   ]
  },
  {
   "cell_type": "code",
   "execution_count": null,
   "metadata": {},
   "outputs": [],
   "source": []
  },
  {
   "cell_type": "code",
   "execution_count": 2,
   "metadata": {},
   "outputs": [],
   "source": [
    "df_eicu_data = pd.read_csv(path_data/'eicu/processed/eicu_data.csv', index_col=0)\n",
    "df_eicu_labels = pd.read_csv(path_data/'eicu/processed/eicu_labels.csv', index_col=0)"
   ]
  },
  {
   "cell_type": "code",
   "execution_count": 3,
   "metadata": {},
   "outputs": [
    {
     "data": {
      "text/plain": [
       "22953"
      ]
     },
     "execution_count": 3,
     "metadata": {},
     "output_type": "execute_result"
    }
   ],
   "source": [
    "df_eicu_data.index.nunique()"
   ]
  },
  {
   "cell_type": "code",
   "execution_count": 4,
   "metadata": {},
   "outputs": [],
   "source": [
    "df_mask_eicu = df_eicu_data.filter(regex='Mask', axis=1)"
   ]
  },
  {
   "cell_type": "code",
   "execution_count": 5,
   "metadata": {},
   "outputs": [
    {
     "data": {
      "text/plain": [
       "90.45658519583496"
      ]
     },
     "execution_count": 5,
     "metadata": {},
     "output_type": "execute_result"
    }
   ],
   "source": [
    "eicu_aveg_len = df_mask_eicu.groupby('ID').size().mean()\n",
    "eicu_aveg_len"
   ]
  },
  {
   "cell_type": "code",
   "execution_count": 6,
   "metadata": {},
   "outputs": [
    {
     "data": {
      "text/plain": [
       "63.17033456609615"
      ]
     },
     "execution_count": 6,
     "metadata": {},
     "output_type": "execute_result"
    }
   ],
   "source": [
    "eicu_missing_rate = 100 * (1 - df_mask_eicu.sum().sum() / (df_mask_eicu.shape[0] * df_mask_eicu.shape[1]))\n",
    "eicu_missing_rate"
   ]
  },
  {
   "cell_type": "code",
   "execution_count": 7,
   "metadata": {},
   "outputs": [
    {
     "data": {
      "text/plain": [
       "labels    12.773929\n",
       "dtype: float64"
      ]
     },
     "execution_count": 7,
     "metadata": {},
     "output_type": "execute_result"
    }
   ],
   "source": [
    "df_eicu_labels = df_eicu_labels.loc[df_eicu_data.index.unique()]\n",
    "eicu_posi_rate = 100 * df_eicu_labels.sum() / df_eicu_labels.size\n",
    "eicu_posi_rate"
   ]
  },
  {
   "cell_type": "code",
   "execution_count": null,
   "metadata": {},
   "outputs": [],
   "source": []
  },
  {
   "cell_type": "code",
   "execution_count": 12,
   "metadata": {},
   "outputs": [],
   "source": [
    "df_mimic4_data = pd.read_csv(path_data/'mimic4/processed/mimic4_full_dataset.csv', index_col=0)\n",
    "df_mimic4_labels = pd.read_csv(path_data/'mimic4/processed/mortality_labels.csv', index_col=0)"
   ]
  },
  {
   "cell_type": "code",
   "execution_count": 13,
   "metadata": {},
   "outputs": [],
   "source": [
    "df_mask_mimic4 = df_mimic4_data.filter(regex='Mask', axis=1)"
   ]
  },
  {
   "cell_type": "code",
   "execution_count": 14,
   "metadata": {},
   "outputs": [
    {
     "data": {
      "text/plain": [
       "173.44000767165323"
      ]
     },
     "execution_count": 14,
     "metadata": {},
     "output_type": "execute_result"
    }
   ],
   "source": [
    "mimic4_aveg_len = df_mask_mimic4.groupby('ID').size().mean()\n",
    "mimic4_aveg_len"
   ]
  },
  {
   "cell_type": "code",
   "execution_count": 15,
   "metadata": {},
   "outputs": [
    {
     "data": {
      "text/plain": [
       "97.95070297314147"
      ]
     },
     "execution_count": 15,
     "metadata": {},
     "output_type": "execute_result"
    }
   ],
   "source": [
    "mimic4_missing_rate = 100 * (1 - df_mask_mimic4.sum().sum() / (df_mask_mimic4.shape[0] * df_mask_mimic4.shape[1]))\n",
    "mimic4_missing_rate"
   ]
  },
  {
   "cell_type": "code",
   "execution_count": 48,
   "metadata": {},
   "outputs": [
    {
     "data": {
      "text/plain": [
       "labels    13.390871\n",
       "dtype: float64"
      ]
     },
     "execution_count": 48,
     "metadata": {},
     "output_type": "execute_result"
    }
   ],
   "source": [
    "df_mimic4_labels = df_mimic4_labels.loc[df_mimic4_data.index.unique()]\n",
    "mimic4_posi_rate = 100 * df_mimic4_labels.sum() / df_mimic4_labels.size\n",
    "mimic4_posi_rate"
   ]
  },
  {
   "cell_type": "code",
   "execution_count": null,
   "metadata": {},
   "outputs": [],
   "source": []
  }
 ],
 "metadata": {
  "kernelspec": {
   "display_name": "leit",
   "language": "python",
   "name": "python3"
  },
  "language_info": {
   "codemirror_mode": {
    "name": "ipython",
    "version": 3
   },
   "file_extension": ".py",
   "mimetype": "text/x-python",
   "name": "python",
   "nbconvert_exporter": "python",
   "pygments_lexer": "ipython3",
   "version": "3.10.8"
  },
  "orig_nbformat": 4
 },
 "nbformat": 4,
 "nbformat_minor": 2
}
