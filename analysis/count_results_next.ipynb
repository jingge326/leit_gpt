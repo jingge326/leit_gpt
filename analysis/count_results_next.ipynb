{
 "cells": [
  {
   "cell_type": "code",
   "execution_count": 21,
   "metadata": {},
   "outputs": [],
   "source": [
    "import re\n",
    "import subprocess\n",
    "\n",
    "import numpy as np"
   ]
  },
  {
   "cell_type": "code",
   "execution_count": 22,
   "metadata": {},
   "outputs": [],
   "source": [
    "file = \"gpts_extrap_p12_r2_initialize_test.log\""
   ]
  },
  {
   "cell_type": "code",
   "execution_count": 23,
   "metadata": {},
   "outputs": [],
   "source": [
    "patience = 5"
   ]
  },
  {
   "cell_type": "code",
   "execution_count": 24,
   "metadata": {},
   "outputs": [
    {
     "name": "stdout",
     "output_type": "stream",
     "text": [
      "mse: 0.502±0.026\n",
      "[0.46487, 0.4769, 0.52538, 0.52621, 0.51463]\n",
      "\n",
      "time_e: 20.5 * 32.8\n",
      "[21.68158, 24.0361, 22.09138, 17.53336, 17.11491]\n",
      "[37.0, 36.0, 25.0, 26.0, 40.0]\n",
      "\n",
      "time_f: 0.000±0.000\n",
      "[0.0, 0.0, 0.0, 0.0, 0.0]\n"
     ]
    }
   ],
   "source": [
    "path_log = \"/home/xiao/project/leit_gpt/log/\"\n",
    "reg_obj = re.search(\"_r(\\d+)_\", file)\n",
    "\n",
    "def cal_mean_std(list_num):\n",
    "    arr_num = np.array(list_num)\n",
    "    val_mean = np.mean(arr_num)\n",
    "    val_std = np.std(arr_num)\n",
    "    return val_mean, val_std\n",
    "\n",
    "mse = []\n",
    "time_e = []\n",
    "time_f = []\n",
    "epochs = []\n",
    "for i in range(1, 6):\n",
    "    file_i = file[:reg_obj.start()+2] + str(i) + file[reg_obj.end()-1:]\n",
    "    lines = str(subprocess.check_output(['tail', path_log + file_i]))\n",
    "    mse.append(float(re.search(\"test_mse=([\\d.]*\\d+)\", lines).group(1)))\n",
    "    time_e.append(float(re.search(\"epoch_duration_mean=([\\d.]*\\d+)\", lines).group(1)))\n",
    "    time_f.append(float(re.search(\"test_forward_time=([\\d.]*\\d+)\", lines).group(1)))\n",
    "    epochs.append(float(re.search(\"epoch=([\\d.]*\\d+)\", lines).group(1)) - patience)\n",
    "    \n",
    "print(u\"mse: {:.3f}\\u00B1{:.3f}\".format(*cal_mean_std(mse)))\n",
    "print(mse)\n",
    "print(u\"\\ntime_e: {:.1f} * {:.1f}\".format(cal_mean_std(time_e)[0],cal_mean_std(epochs)[0]))\n",
    "print(time_e)\n",
    "print(epochs)\n",
    "print(u\"\\ntime_f: {:.3f}\\u00B1{:.3f}\".format(*cal_mean_std(time_f)))\n",
    "print(time_f)"
   ]
  }
 ],
 "metadata": {
  "kernelspec": {
   "display_name": "leit",
   "language": "python",
   "name": "python3"
  },
  "language_info": {
   "codemirror_mode": {
    "name": "ipython",
    "version": 3
   },
   "file_extension": ".py",
   "mimetype": "text/x-python",
   "name": "python",
   "nbconvert_exporter": "python",
   "pygments_lexer": "ipython3",
   "version": "3.8.16"
  },
  "orig_nbformat": 4,
  "vscode": {
   "interpreter": {
    "hash": "5c6db37f2dbfa0dc7724e0c837d07e3540b86643967779554e04bc9c17696e47"
   }
  }
 },
 "nbformat": 4,
 "nbformat_minor": 2
}
