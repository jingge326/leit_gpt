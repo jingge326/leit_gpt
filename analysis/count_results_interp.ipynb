{
 "cells": [
  {
   "cell_type": "code",
   "execution_count": 1,
   "metadata": {},
   "outputs": [],
   "source": [
    "import re\n",
    "import subprocess\n",
    "\n",
    "import numpy as np"
   ]
  },
  {
   "cell_type": "code",
   "execution_count": 2,
   "metadata": {},
   "outputs": [],
   "source": [
    "file = \"gpts_interp_p12_r1_reconstruct_bert_cls.log\""
   ]
  },
  {
   "cell_type": "code",
   "execution_count": 3,
   "metadata": {},
   "outputs": [],
   "source": [
    "patience = 5"
   ]
  },
  {
   "cell_type": "code",
   "execution_count": 4,
   "metadata": {},
   "outputs": [
    {
     "name": "stdout",
     "output_type": "stream",
     "text": [
      "mse: 0.576±0.050\n",
      "[0.57974, 0.51776, 0.57724, 0.54166, 0.66439]\n",
      "[22.0, 27.0, 11.0, 20.0, 12.0]\n"
     ]
    }
   ],
   "source": [
    "path_log = \"/home/xiao/project/leit_gpt/log/\"\n",
    "reg_obj = re.search(\"_r(\\d+)_\", file)\n",
    "\n",
    "def cal_mean_std(list_num):\n",
    "    arr_num = np.array(list_num)\n",
    "    val_mean = np.mean(arr_num)\n",
    "    val_std = np.std(arr_num)\n",
    "    return val_mean, val_std\n",
    "\n",
    "mse = []\n",
    "time_e = []\n",
    "time_f = []\n",
    "epochs = []\n",
    "for i in range(1, 6):\n",
    "    file_i = file[:reg_obj.start()+2] + str(i) + file[reg_obj.end()-1:]\n",
    "    lines = str(subprocess.check_output(['tail', path_log + file_i]))\n",
    "    mse.append(float(re.search(\"test_mse_interp=([\\d.]*\\d+)\", lines).group(1)))\n",
    "    epochs.append(float(re.search(\"epoch=([\\d.]*\\d+)\", lines).group(1)) - patience)\n",
    "    \n",
    "print(u\"mse: {:.3f}\\u00B1{:.3f}\".format(*cal_mean_std(mse)))\n",
    "print(mse)\n",
    "print(epochs)\n"
   ]
  }
 ],
 "metadata": {
  "kernelspec": {
   "display_name": "leit",
   "language": "python",
   "name": "python3"
  },
  "language_info": {
   "codemirror_mode": {
    "name": "ipython",
    "version": 3
   },
   "file_extension": ".py",
   "mimetype": "text/x-python",
   "name": "python",
   "nbconvert_exporter": "python",
   "pygments_lexer": "ipython3",
   "version": "3.10.8"
  },
  "orig_nbformat": 4,
  "vscode": {
   "interpreter": {
    "hash": "5c6db37f2dbfa0dc7724e0c837d07e3540b86643967779554e04bc9c17696e47"
   }
  }
 },
 "nbformat": 4,
 "nbformat_minor": 2
}
