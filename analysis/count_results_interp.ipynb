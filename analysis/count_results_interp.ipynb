{
 "cells": [
  {
   "cell_type": "code",
   "execution_count": 58,
   "metadata": {},
   "outputs": [],
   "source": [
    "import re\n",
    "import subprocess\n",
    "\n",
    "import numpy as np"
   ]
  },
  {
   "cell_type": "code",
   "execution_count": 59,
   "metadata": {},
   "outputs": [],
   "source": [
    "file = \"red_vae_extrap_m4_smooth_r3_initialize_ode_True_best.log\""
   ]
  },
  {
   "cell_type": "code",
   "execution_count": 60,
   "metadata": {},
   "outputs": [],
   "source": [
    "patience = 5"
   ]
  },
  {
   "cell_type": "code",
   "execution_count": 61,
   "metadata": {},
   "outputs": [
    {
     "name": "stdout",
     "output_type": "stream",
     "text": [
      "mse: 0.769±0.024\n",
      "[0.78826, 0.77868, 0.79661, 0.74207, 0.74032]\n",
      "\n",
      "time_e: 4675.1 * 42.6\n",
      "[4523.26497, 4251.98542, 5043.10734, 4788.07056, 4768.85182]\n",
      "[42.0, 74.0, 45.0, 28.0, 24.0]\n",
      "\n",
      "time_f: 3.059±0.404\n",
      "[2.9068, 2.6409, 2.66532, 3.5528, 3.52706]\n"
     ]
    }
   ],
   "source": [
    "path_log = \"/home/xiao/project/leit/log/\"\n",
    "reg_obj = re.search(\"_r(\\d+)_\", file)\n",
    "\n",
    "def cal_mean_std(list_num):\n",
    "    arr_num = np.array(list_num)\n",
    "    val_mean = np.mean(arr_num)\n",
    "    val_std = np.std(arr_num)\n",
    "    return val_mean, val_std\n",
    "\n",
    "mse = []\n",
    "time_e = []\n",
    "time_f = []\n",
    "epochs = []\n",
    "for i in range(1, 6):\n",
    "    file_i = file[:reg_obj.start()+2] + str(i) + file[reg_obj.end()-1:]\n",
    "    lines = str(subprocess.check_output(['tail', path_log + file_i]))\n",
    "    mse.append(float(re.search(\"test_mse_interp=([\\d.]*\\d+)\", lines).group(1)))\n",
    "    time_e.append(float(re.search(\"epoch_duration_mean=([\\d.]*\\d+)\", lines).group(1)))\n",
    "    time_f.append(float(re.search(\"test_forward_time=([\\d.]*\\d+)\", lines).group(1)))\n",
    "    epochs.append(float(re.search(\"epoch=([\\d.]*\\d+)\", lines).group(1)) - patience)\n",
    "    \n",
    "print(u\"mse: {:.3f}\\u00B1{:.3f}\".format(*cal_mean_std(mse)))\n",
    "print(mse)\n",
    "print(u\"\\ntime_e: {:.1f} * {:.1f}\".format(cal_mean_std(time_e)[0],cal_mean_std(epochs)[0]))\n",
    "print(time_e)\n",
    "print(epochs)\n",
    "print(u\"\\ntime_f: {:.3f}\\u00B1{:.3f}\".format(*cal_mean_std(time_f)))\n",
    "print(time_f)"
   ]
  }
 ],
 "metadata": {
  "kernelspec": {
   "display_name": "leit",
   "language": "python",
   "name": "python3"
  },
  "language_info": {
   "codemirror_mode": {
    "name": "ipython",
    "version": 3
   },
   "file_extension": ".py",
   "mimetype": "text/x-python",
   "name": "python",
   "nbconvert_exporter": "python",
   "pygments_lexer": "ipython3",
   "version": "3.10.8"
  },
  "orig_nbformat": 4,
  "vscode": {
   "interpreter": {
    "hash": "5c6db37f2dbfa0dc7724e0c837d07e3540b86643967779554e04bc9c17696e47"
   }
  }
 },
 "nbformat": 4,
 "nbformat_minor": 2
}
