{
 "cells": [
  {
   "cell_type": "code",
   "execution_count": 53,
   "metadata": {},
   "outputs": [],
   "source": [
    "import re\n",
    "import subprocess\n",
    "\n",
    "import numpy as np"
   ]
  },
  {
   "cell_type": "code",
   "execution_count": 54,
   "metadata": {},
   "outputs": [],
   "source": [
    "file = \"ivp_vae_biclass_m4_smooth_r5_initialize_resnetflow_True_False_klw.log\""
   ]
  },
  {
   "cell_type": "code",
   "execution_count": 55,
   "metadata": {},
   "outputs": [],
   "source": [
    "patience = 5"
   ]
  },
  {
   "cell_type": "code",
   "execution_count": 56,
   "metadata": {},
   "outputs": [
    {
     "name": "stdout",
     "output_type": "stream",
     "text": [
      "auroc: 0.792±0.007\n",
      "[0.78715, 0.80163, 0.78723]\n",
      "\n",
      "auprc: 0.403±0.015\n",
      "[0.42342, 0.39871, 0.38732]\n",
      "\n",
      "time_e: 1803.2*11.7\n",
      "[1647.12064, 1915.48831, 1847.06864]\n",
      "[12.0, 14.0, 9.0]\n",
      "\n",
      "time_f: 0.020±0.002\n",
      "[0.01786, 0.02122, 0.02126]\n"
     ]
    }
   ],
   "source": [
    "path_log = \"/home/xiao/project/leit/log/\"\n",
    "reg_obj = re.search(\"_r(\\d+)_\", file)\n",
    "\n",
    "def cal_mean_std(list_num):\n",
    "    arr_num = np.array(list_num)\n",
    "    val_mean = np.mean(arr_num)\n",
    "    val_std = np.std(arr_num)\n",
    "    return val_mean, val_std\n",
    "\n",
    "auroc = []\n",
    "auprc = []\n",
    "time_e = []\n",
    "time_f = []\n",
    "epochs = []\n",
    "for i in range(1, 6):\n",
    "    file_i = file[:reg_obj.start()+2] + str(i) + file[reg_obj.end()-1:]\n",
    "    lines = str(subprocess.check_output(['tail', path_log + file_i]))\n",
    "    auroc.append(float(re.search(\"test_auroc=([\\d.]*\\d+)\", lines).group(1)))\n",
    "    auprc.append(float(re.search(\"test_auprc=([\\d.]*\\d+)\", lines).group(1)))\n",
    "    time_e.append(float(re.search(\"epoch_duration_mean=([\\d.]*\\d+)\", lines).group(1)))\n",
    "    epochs.append(float(re.search(\"epoch=([\\d.]*\\d+)\", lines).group(1)) - patience)\n",
    "    time_f.append(float(re.search(\"val_forward_time=([\\d.]*\\d+)\", lines).group(1)))\n",
    "\n",
    "print(u\"auroc: {:.3f}\\u00B1{:.3f}\".format(*cal_mean_std(auroc)))\n",
    "print(auroc)\n",
    "print(u\"\\nauprc: {:.3f}\\u00B1{:.3f}\".format(*cal_mean_std(auprc)))\n",
    "print(auprc)\n",
    "print(u\"\\ntime_e: {:.1f}*{:.1f}\".format(cal_mean_std(time_e)[0],cal_mean_std(epochs)[0]))\n",
    "print(time_e)\n",
    "print(epochs)\n",
    "print(u\"\\ntime_f: {:.3f}\\u00B1{:.3f}\".format(*cal_mean_std(time_f)))\n",
    "print(time_f)"
   ]
  }
 ],
 "metadata": {
  "kernelspec": {
   "display_name": "leit",
   "language": "python",
   "name": "python3"
  },
  "language_info": {
   "codemirror_mode": {
    "name": "ipython",
    "version": 3
   },
   "file_extension": ".py",
   "mimetype": "text/x-python",
   "name": "python",
   "nbconvert_exporter": "python",
   "pygments_lexer": "ipython3",
   "version": "3.10.8"
  },
  "orig_nbformat": 4,
  "vscode": {
   "interpreter": {
    "hash": "5c6db37f2dbfa0dc7724e0c837d07e3540b86643967779554e04bc9c17696e47"
   }
  }
 },
 "nbformat": 4,
 "nbformat_minor": 2
}
