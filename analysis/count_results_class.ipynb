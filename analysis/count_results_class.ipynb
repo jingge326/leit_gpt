{
 "cells": [
  {
   "cell_type": "code",
   "execution_count": 9,
   "metadata": {},
   "outputs": [],
   "source": [
    "import re\n",
    "import subprocess\n",
    "\n",
    "import numpy as np"
   ]
  },
  {
   "cell_type": "code",
   "execution_count": 10,
   "metadata": {},
   "outputs": [],
   "source": [
    "file = \"gpts_biclass_p12_r2_reconstruct_bert_cls.log\""
   ]
  },
  {
   "cell_type": "code",
   "execution_count": 11,
   "metadata": {},
   "outputs": [],
   "source": [
    "patience = 5"
   ]
  },
  {
   "cell_type": "code",
   "execution_count": 12,
   "metadata": {},
   "outputs": [
    {
     "name": "stdout",
     "output_type": "stream",
     "text": [
      "auroc: 0.781±0.021\n",
      "[0.77294, 0.76505, 0.78385, 0.8202, 0.7621]\n",
      "\n",
      "auprc: 0.357±0.049\n",
      "[0.3224, 0.32745, 0.41873, 0.41426, 0.30389]\n",
      "\n",
      "time_e: 35.4*24.0\n",
      "[37.70226, 37.77041, 37.24057, 26.98466, 37.4826]\n",
      "[17.0, 44.0, 32.0, 10.0, 17.0]\n",
      "\n",
      "time_f: 0.025±0.006\n",
      "[0.02836, 0.02736, 0.02738, 0.01302, 0.02812]\n"
     ]
    }
   ],
   "source": [
    "path_log = \"/home/xiao/project/leit_gpt/log/\"\n",
    "reg_obj = re.search(\"_r(\\d+)_\", file)\n",
    "\n",
    "def cal_mean_std(list_num):\n",
    "    arr_num = np.array(list_num)\n",
    "    val_mean = np.mean(arr_num)\n",
    "    val_std = np.std(arr_num)\n",
    "    return val_mean, val_std\n",
    "\n",
    "auroc = []\n",
    "auprc = []\n",
    "time_e = []\n",
    "time_f = []\n",
    "epochs = []\n",
    "for i in range(1, 6):\n",
    "    file_i = file[:reg_obj.start()+2] + str(i) + file[reg_obj.end()-1:]\n",
    "    lines = str(subprocess.check_output(['tail', path_log + file_i]))\n",
    "    auroc.append(float(re.search(\"test_auroc=([\\d.]*\\d+)\", lines).group(1)))\n",
    "    auprc.append(float(re.search(\"test_auprc=([\\d.]*\\d+)\", lines).group(1)))\n",
    "    time_e.append(float(re.search(\"epoch_duration_mean=([\\d.]*\\d+)\", lines).group(1)))\n",
    "    epochs.append(float(re.search(\"epoch=([\\d.]*\\d+)\", lines).group(1)) - patience)\n",
    "    time_f.append(float(re.search(\"val_forward_time=([\\d.]*\\d+)\", lines).group(1)))\n",
    "\n",
    "print(u\"auroc: {:.3f}\\u00B1{:.3f}\".format(*cal_mean_std(auroc)))\n",
    "print(auroc)\n",
    "print(u\"\\nauprc: {:.3f}\\u00B1{:.3f}\".format(*cal_mean_std(auprc)))\n",
    "print(auprc)\n",
    "print(u\"\\ntime_e: {:.1f}*{:.1f}\".format(cal_mean_std(time_e)[0],cal_mean_std(epochs)[0]))\n",
    "print(time_e)\n",
    "print(epochs)\n",
    "print(u\"\\ntime_f: {:.3f}\\u00B1{:.3f}\".format(*cal_mean_std(time_f)))\n",
    "print(time_f)"
   ]
  }
 ],
 "metadata": {
  "kernelspec": {
   "display_name": "leit",
   "language": "python",
   "name": "python3"
  },
  "language_info": {
   "codemirror_mode": {
    "name": "ipython",
    "version": 3
   },
   "file_extension": ".py",
   "mimetype": "text/x-python",
   "name": "python",
   "nbconvert_exporter": "python",
   "pygments_lexer": "ipython3",
   "version": "3.10.8"
  },
  "orig_nbformat": 4,
  "vscode": {
   "interpreter": {
    "hash": "5c6db37f2dbfa0dc7724e0c837d07e3540b86643967779554e04bc9c17696e47"
   }
  }
 },
 "nbformat": 4,
 "nbformat_minor": 2
}
