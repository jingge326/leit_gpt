{
 "cells": [
  {
   "cell_type": "code",
   "execution_count": 13,
   "metadata": {},
   "outputs": [],
   "source": [
    "import re\n",
    "import subprocess\n",
    "\n",
    "import numpy as np"
   ]
  },
  {
   "cell_type": "code",
   "execution_count": 14,
   "metadata": {},
   "outputs": [],
   "source": [
    "file = \"gpts_biclass_p12_r1_initialize_last.log\""
   ]
  },
  {
   "cell_type": "code",
   "execution_count": 15,
   "metadata": {},
   "outputs": [],
   "source": [
    "patience = 5"
   ]
  },
  {
   "cell_type": "code",
   "execution_count": 16,
   "metadata": {},
   "outputs": [
    {
     "name": "stderr",
     "output_type": "stream",
     "text": [
      "tail: cannot open '/home/xiao/project/leit_gpt/log/gpts_biclass_p12_r2_initialize_last.log' for reading: No such file or directory\n"
     ]
    },
    {
     "ename": "CalledProcessError",
     "evalue": "Command '['tail', '/home/xiao/project/leit_gpt/log/gpts_biclass_p12_r2_initialize_last.log']' returned non-zero exit status 1.",
     "output_type": "error",
     "traceback": [
      "\u001b[0;31m---------------------------------------------------------------------------\u001b[0m",
      "\u001b[0;31mCalledProcessError\u001b[0m                        Traceback (most recent call last)",
      "Cell \u001b[0;32mIn[16], line 17\u001b[0m\n\u001b[1;32m     15\u001b[0m \u001b[39mfor\u001b[39;00m i \u001b[39min\u001b[39;00m \u001b[39mrange\u001b[39m(\u001b[39m1\u001b[39m, \u001b[39m6\u001b[39m):\n\u001b[1;32m     16\u001b[0m     file_i \u001b[39m=\u001b[39m file[:reg_obj\u001b[39m.\u001b[39mstart()\u001b[39m+\u001b[39m\u001b[39m2\u001b[39m] \u001b[39m+\u001b[39m \u001b[39mstr\u001b[39m(i) \u001b[39m+\u001b[39m file[reg_obj\u001b[39m.\u001b[39mend()\u001b[39m-\u001b[39m\u001b[39m1\u001b[39m:]\n\u001b[0;32m---> 17\u001b[0m     lines \u001b[39m=\u001b[39m \u001b[39mstr\u001b[39m(subprocess\u001b[39m.\u001b[39;49mcheck_output([\u001b[39m'\u001b[39;49m\u001b[39mtail\u001b[39;49m\u001b[39m'\u001b[39;49m, path_log \u001b[39m+\u001b[39;49m file_i]))\n\u001b[1;32m     18\u001b[0m     auroc\u001b[39m.\u001b[39mappend(\u001b[39mfloat\u001b[39m(re\u001b[39m.\u001b[39msearch(\u001b[39m\"\u001b[39m\u001b[39mtest_auroc=([\u001b[39m\u001b[39m\\\u001b[39m\u001b[39md.]*\u001b[39m\u001b[39m\\\u001b[39m\u001b[39md+)\u001b[39m\u001b[39m\"\u001b[39m, lines)\u001b[39m.\u001b[39mgroup(\u001b[39m1\u001b[39m)))\n\u001b[1;32m     19\u001b[0m     auprc\u001b[39m.\u001b[39mappend(\u001b[39mfloat\u001b[39m(re\u001b[39m.\u001b[39msearch(\u001b[39m\"\u001b[39m\u001b[39mtest_auprc=([\u001b[39m\u001b[39m\\\u001b[39m\u001b[39md.]*\u001b[39m\u001b[39m\\\u001b[39m\u001b[39md+)\u001b[39m\u001b[39m\"\u001b[39m, lines)\u001b[39m.\u001b[39mgroup(\u001b[39m1\u001b[39m)))\n",
      "File \u001b[0;32m~/tools/miniconda3/envs/leit/lib/python3.8/subprocess.py:415\u001b[0m, in \u001b[0;36mcheck_output\u001b[0;34m(timeout, *popenargs, **kwargs)\u001b[0m\n\u001b[1;32m    412\u001b[0m         empty \u001b[39m=\u001b[39m \u001b[39mb\u001b[39m\u001b[39m'\u001b[39m\u001b[39m'\u001b[39m\n\u001b[1;32m    413\u001b[0m     kwargs[\u001b[39m'\u001b[39m\u001b[39minput\u001b[39m\u001b[39m'\u001b[39m] \u001b[39m=\u001b[39m empty\n\u001b[0;32m--> 415\u001b[0m \u001b[39mreturn\u001b[39;00m run(\u001b[39m*\u001b[39;49mpopenargs, stdout\u001b[39m=\u001b[39;49mPIPE, timeout\u001b[39m=\u001b[39;49mtimeout, check\u001b[39m=\u001b[39;49m\u001b[39mTrue\u001b[39;49;00m,\n\u001b[1;32m    416\u001b[0m            \u001b[39m*\u001b[39;49m\u001b[39m*\u001b[39;49mkwargs)\u001b[39m.\u001b[39mstdout\n",
      "File \u001b[0;32m~/tools/miniconda3/envs/leit/lib/python3.8/subprocess.py:516\u001b[0m, in \u001b[0;36mrun\u001b[0;34m(input, capture_output, timeout, check, *popenargs, **kwargs)\u001b[0m\n\u001b[1;32m    514\u001b[0m     retcode \u001b[39m=\u001b[39m process\u001b[39m.\u001b[39mpoll()\n\u001b[1;32m    515\u001b[0m     \u001b[39mif\u001b[39;00m check \u001b[39mand\u001b[39;00m retcode:\n\u001b[0;32m--> 516\u001b[0m         \u001b[39mraise\u001b[39;00m CalledProcessError(retcode, process\u001b[39m.\u001b[39margs,\n\u001b[1;32m    517\u001b[0m                                  output\u001b[39m=\u001b[39mstdout, stderr\u001b[39m=\u001b[39mstderr)\n\u001b[1;32m    518\u001b[0m \u001b[39mreturn\u001b[39;00m CompletedProcess(process\u001b[39m.\u001b[39margs, retcode, stdout, stderr)\n",
      "\u001b[0;31mCalledProcessError\u001b[0m: Command '['tail', '/home/xiao/project/leit_gpt/log/gpts_biclass_p12_r2_initialize_last.log']' returned non-zero exit status 1."
     ]
    }
   ],
   "source": [
    "path_log = \"/home/xiao/project/leit_gpt/log/\"\n",
    "reg_obj = re.search(\"_r(\\d+)_\", file)\n",
    "\n",
    "def cal_mean_std(list_num):\n",
    "    arr_num = np.array(list_num)\n",
    "    val_mean = np.mean(arr_num)\n",
    "    val_std = np.std(arr_num)\n",
    "    return val_mean, val_std\n",
    "\n",
    "auroc = []\n",
    "auprc = []\n",
    "time_e = []\n",
    "time_f = []\n",
    "epochs = []\n",
    "for i in range(1, 6):\n",
    "    file_i = file[:reg_obj.start()+2] + str(i) + file[reg_obj.end()-1:]\n",
    "    lines = str(subprocess.check_output(['tail', path_log + file_i]))\n",
    "    auroc.append(float(re.search(\"test_auroc=([\\d.]*\\d+)\", lines).group(1)))\n",
    "    auprc.append(float(re.search(\"test_auprc=([\\d.]*\\d+)\", lines).group(1)))\n",
    "    time_e.append(float(re.search(\"epoch_duration_mean=([\\d.]*\\d+)\", lines).group(1)))\n",
    "    epochs.append(float(re.search(\"epoch=([\\d.]*\\d+)\", lines).group(1)) - patience)\n",
    "    time_f.append(float(re.search(\"val_forward_time=([\\d.]*\\d+)\", lines).group(1)))\n",
    "\n",
    "print(u\"auroc: {:.3f}\\u00B1{:.3f}\".format(*cal_mean_std(auroc)))\n",
    "print(auroc)\n",
    "print(u\"\\nauprc: {:.3f}\\u00B1{:.3f}\".format(*cal_mean_std(auprc)))\n",
    "print(auprc)\n",
    "print(u\"\\ntime_e: {:.1f}*{:.1f}\".format(cal_mean_std(time_e)[0],cal_mean_std(epochs)[0]))\n",
    "print(time_e)\n",
    "print(epochs)\n",
    "print(u\"\\ntime_f: {:.3f}\\u00B1{:.3f}\".format(*cal_mean_std(time_f)))\n",
    "print(time_f)"
   ]
  }
 ],
 "metadata": {
  "kernelspec": {
   "display_name": "leit",
   "language": "python",
   "name": "python3"
  },
  "language_info": {
   "codemirror_mode": {
    "name": "ipython",
    "version": 3
   },
   "file_extension": ".py",
   "mimetype": "text/x-python",
   "name": "python",
   "nbconvert_exporter": "python",
   "pygments_lexer": "ipython3",
   "version": "3.8.16"
  },
  "orig_nbformat": 4,
  "vscode": {
   "interpreter": {
    "hash": "5c6db37f2dbfa0dc7724e0c837d07e3540b86643967779554e04bc9c17696e47"
   }
  }
 },
 "nbformat": 4,
 "nbformat_minor": 2
}
