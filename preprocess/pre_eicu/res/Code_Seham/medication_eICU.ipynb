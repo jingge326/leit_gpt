{
 "cells": [
  {
   "cell_type": "markdown",
   "metadata": {},
   "source": [
    "# eICU data - dataset construction medications"
   ]
  },
  {
   "cell_type": "code",
   "execution_count": 15,
   "metadata": {},
   "outputs": [],
   "source": [
    "import pandas as pd\n",
    "import re\n",
    "pd.set_option('display.max_rows', 50)\n",
    "pd.set_option('display.max_columns', 300)"
   ]
  },
  {
   "cell_type": "code",
   "execution_count": 16,
   "metadata": {},
   "outputs": [],
   "source": [
    "patients = pd.read_csv('../2.0/patient.csv')\n",
    "med = pd.read_csv('../2.0/medication.csv.gz')\n",
    "patients_med = patients.merge(med, how='inner', on='patientunitstayid')"
   ]
  },
  {
   "cell_type": "code",
   "execution_count": 17,
   "metadata": {},
   "outputs": [],
   "source": [
    "patients_med = patients_med[patients_med['drugorderoffset'] >=0 ]"
   ]
  },
  {
   "cell_type": "code",
   "execution_count": 18,
   "metadata": {},
   "outputs": [],
   "source": [
    "#11 Variables overlapping between eICU data ,medication table, and MIMIC III data ,prescription table.\n",
    "subset = [ 'Acetaminophen TAB', 'aspirin','bisacodyl','Insulin Aspart','Heparin','docusate sodium','Potassium Chloride Inj 2 MEQ/ML VIAL',\n",
    "          'Magnesium Sulfate 2g/50mL SSO','metoprolol tartrate','Sodium Chloride 0.9%','pantoprazole']\n",
    "patients_med = patients_med.loc[patients_med['drugname'].isin(subset)]"
   ]
  },
  {
   "cell_type": "markdown",
   "metadata": {},
   "source": [
    "### Cleaning "
   ]
  },
  {
   "cell_type": "code",
   "execution_count": 19,
   "metadata": {},
   "outputs": [],
   "source": [
    "#patients_med_selected.to_csv('patients_med_selected.csv')\n",
    "patients_med_new=patients_med\n",
    "patients_med_new['dosage_r']=\"\"\n",
    "patients_med_new['unit']=\"\"\n",
    "#put the units into a separate columns\n",
    "patients_med_new['dosage_r'] = patients_med_new['dosage'].str.split(\" \",n =1,expand =True)\n",
    "patients_med_new['unit'] = patients_med_new['dosage'].str.split(\" \",n =1,expand =True)[1]\n"
   ]
  },
  {
   "cell_type": "code",
   "execution_count": 20,
   "metadata": {},
   "outputs": [],
   "source": [
    "\n",
    "inf_drug_filtered=patients_med_new.loc[(patients_med_new['unit'].str.contains(\"mg\")) | (patients_med_new['unit'].str.contains(\"mL\")) |\n",
    "                (patients_med_new['unit'].str.contains(\"MG\")) | (patients_med_new['unit'].str.contains(\"MEQ\")) |\n",
    "                (patients_med_new['unit'].str.contains(\"ML\")) | (patients_med_new['unit'].str.contains(\"g\"))|\n",
    "                                      (patients_med_new['unit'].str.contains(\"UNITS\"))]\n",
    "\n",
    "#we remove all the garbage values (non-float values) from the drugrate to keep it purely numerical for further use\n",
    "inf_drug_filtered=inf_drug_filtered.loc[~(inf_drug_filtered['dosage_r']=='OFF\\\\.br\\\\\\\\.br\\\\') & ~(inf_drug_filtered['dosage_r']=='30\\\\.br\\\\') &\n",
    "                     ~(inf_drug_filtered['dosage_r']=='50 mcg/min') & ~(inf_drug_filtered['dosage_r']=='50mcg/min\\\\.br\\\\') &\n",
    "                     ~(inf_drug_filtered['dosage_r']=='OFF') & ~(inf_drug_filtered['dosage_r']=='Documentation undone')]"
   ]
  },
  {
   "cell_type": "code",
   "execution_count": 21,
   "metadata": {},
   "outputs": [
    {
     "name": "stdout",
     "output_type": "stream",
     "text": [
      "drugname                              unit  \n",
      "Acetaminophen TAB                     mg        1131\n",
      "Heparin                               UNITS      601\n",
      "                                      ML          10\n",
      "Insulin Aspart                        UNITS      403\n",
      "Magnesium Sulfate 2g/50mL SSO         g         1054\n",
      "Potassium Chloride Inj 2 MEQ/ML VIAL  MEQ       2137\n",
      "Sodium Chloride 0.9%                  ML        1500\n",
      "                                      mL         810\n",
      "                                      Charge     174\n",
      "aspirin                               mg        8096\n",
      "                                      Charge      10\n",
      "bisacodyl                             mg        4354\n",
      "                                      Charge       2\n",
      "docusate sodium                       mg        2095\n",
      "                                      MG           2\n",
      "metoprolol tartrate                   mg        2417\n",
      "                                      MG          81\n",
      "pantoprazole                          mg        4623\n",
      "                                      MG         214\n",
      "                                      Charge       7\n",
      "Name: unit, dtype: int64\n"
     ]
    }
   ],
   "source": [
    "print(inf_drug_filtered.groupby(\"drugname\")[\"unit\"].value_counts())"
   ]
  },
  {
   "cell_type": "code",
   "execution_count": 22,
   "metadata": {},
   "outputs": [],
   "source": [
    "frequent_meds = patients_med.groupby('drugname')['patientunitstayid'].nunique().sort_values(ascending=False)"
   ]
  },
  {
   "cell_type": "code",
   "execution_count": 23,
   "metadata": {},
   "outputs": [
    {
     "name": "stdout",
     "output_type": "stream",
     "text": [
      "                                      icu_stays  avg_length\n",
      "drugname                                                   \n",
      "Heparin                                     763    1.888598\n",
      "metoprolol tartrate                        1463    1.707450\n",
      "Acetaminophen TAB                           736    1.550272\n",
      "Sodium Chloride 0.9%                       1864    1.900751\n",
      "Insulin Aspart                             1924    1.823805\n",
      "pantoprazole                               3528    2.005952\n",
      "bisacodyl                                  3065    1.425449\n",
      "Magnesium Sulfate 2g/50mL SSO               473    2.255814\n",
      "docusate sodium                            1320    1.594697\n",
      "Potassium Chloride Inj 2 MEQ/ML VIAL        990    2.250505\n",
      "aspirin                                    4988    1.658380\n"
     ]
    }
   ],
   "source": [
    "long_meds = patients_med.groupby('drugname').apply(lambda x: x.groupby('patientunitstayid').size().mean()).sort_values(ascending=False)\n",
    "selected_meds = set(list(long_meds.index)) & set(list(frequent_meds.index))\n",
    "# To have a look at what lab measurements you have selected\n",
    "meds_selected_df = pd.concat([frequent_meds.loc[selected_meds], long_meds.loc[selected_meds]], axis=1).rename({'patientunitstayid': 'icu_stays', 0: 'avg_length'}, axis=1)\n",
    "print(meds_selected_df.to_string())\n",
    "\n",
    "patients_med_selected = patients_med[patients_med['drugname'].isin(selected_meds)]"
   ]
  },
  {
   "cell_type": "code",
   "execution_count": 24,
   "metadata": {},
   "outputs": [],
   "source": [
    "patients_med_selected['med_times'] = (patients_med_selected['drugorderoffset'])\n",
    "med_dict=dict(zip(list(selected_meds),range(len(selected_meds))))\n",
    "patients_med_selected['med_code']=patients_med_selected['drugname'].map(med_dict)\n",
    "patients_med_selected_short = patients_med_selected[['patientunitstayid', 'med_times', 'med_code', 'dosage_r', 'unit']].rename({'patientunitstayid': 'id'}, axis=1)\n"
   ]
  },
  {
   "cell_type": "code",
   "execution_count": 25,
   "metadata": {},
   "outputs": [],
   "source": [
    "patients_med_selected_short['dosage_r'] = patients_med_selected_short['dosage_r'].str.replace(',','')\n",
    "patients_med_selected_short['dosage_r'] = patients_med_selected_short['dosage_r'].str.replace(\"Manual\",'')"
   ]
  },
  {
   "cell_type": "code",
   "execution_count": 26,
   "metadata": {},
   "outputs": [],
   "source": [
    "patients_med_selected_short['dosage_r'] = pd.to_numeric(patients_med_selected_short['dosage_r'],errors='coerce')"
   ]
  },
  {
   "cell_type": "code",
   "execution_count": 27,
   "metadata": {},
   "outputs": [],
   "source": [
    "patients_med_selected_short_gb = patients_med_selected_short.groupby(['id', 'med_times', 'med_code'], as_index=False).mean()"
   ]
  },
  {
   "cell_type": "code",
   "execution_count": 28,
   "metadata": {},
   "outputs": [],
   "source": [
    "patients_med_selected_short.to_csv('medication_processed.csv')"
   ]
  },
  {
   "cell_type": "code",
   "execution_count": null,
   "metadata": {},
   "outputs": [],
   "source": []
  }
 ],
 "metadata": {
  "kernelspec": {
   "display_name": "Python 3",
   "language": "python",
   "name": "python3"
  },
  "language_info": {
   "codemirror_mode": {
    "name": "ipython",
    "version": 2
   },
   "file_extension": ".py",
   "mimetype": "text/x-python",
   "name": "python",
   "nbconvert_exporter": "python",
   "pygments_lexer": "ipython2",
   "version": "2.7.16"
  }
 },
 "nbformat": 4,
 "nbformat_minor": 2
}
