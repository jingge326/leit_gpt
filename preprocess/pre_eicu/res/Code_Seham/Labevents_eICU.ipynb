{
 "cells": [
  {
   "cell_type": "markdown",
   "metadata": {},
   "source": [
    "# eICU data - dataset construction Labevents"
   ]
  },
  {
   "cell_type": "code",
   "execution_count": 1,
   "metadata": {},
   "outputs": [],
   "source": [
    "import pandas as pd\n",
    "\n",
    "pd.set_option('display.max_rows', 50)\n",
    "pd.set_option('display.max_columns', 300)"
   ]
  },
  {
   "cell_type": "code",
   "execution_count": 2,
   "metadata": {},
   "outputs": [],
   "source": [
    "patients = pd.read_csv('../2.0/patient.csv')\n",
    "lab = pd.read_csv('../2.0/lab.csv')\n",
    "patients_lab = patients.merge(lab, how='inner', on='patientunitstayid')"
   ]
  },
  {
   "cell_type": "code",
   "execution_count": 3,
   "metadata": {},
   "outputs": [],
   "source": [
    "patients_lab = patients_lab[patients_lab['labresultoffset'] >=0 ]"
   ]
  },
  {
   "cell_type": "code",
   "execution_count": 4,
   "metadata": {},
   "outputs": [],
   "source": [
    "#27 Variables overlapping between eICU data and MIMIC III data\n",
    "subset = ['albumin','ALT (SGPT)','anion gap','AST (SGOT)','Base Excess','bicarbonate','total bilirubin','Total CO2','chloride',\n",
    "          'creatinine','glucose','lactate','MCH','MCV','magnesium','PT','PTT','phosphate','platelets x 1000','potassium',\n",
    "          'RDW','RBC','sodium','24 h urine urea nitrogen',\"WBC's in body fluid\",'paCO2','pH']\n",
    "\n",
    "patients_lab = patients_lab.loc[patients_lab['labname'].isin(subset)]"
   ]
  },
  {
   "cell_type": "code",
   "execution_count": 5,
   "metadata": {},
   "outputs": [],
   "source": [
    "frequent_labs = patients_lab.groupby('labname')['patientunitstayid'].nunique().sort_values(ascending=False)"
   ]
  },
  {
   "cell_type": "code",
   "execution_count": 6,
   "metadata": {},
   "outputs": [],
   "source": [
    "long_labs = patients_lab.groupby('labname').apply(lambda x: x.groupby('patientunitstayid').size().mean()).sort_values(ascending=False)"
   ]
  },
  {
   "cell_type": "code",
   "execution_count": 7,
   "metadata": {},
   "outputs": [],
   "source": [
    "selected_labs = set(list(long_labs.index)) & set(list(frequent_labs.index))"
   ]
  },
  {
   "cell_type": "code",
   "execution_count": 8,
   "metadata": {},
   "outputs": [
    {
     "name": "stdout",
     "output_type": "stream",
     "text": [
      "                          icu_stays  avg_length\n",
      "labname                                        \n",
      "total bilirubin               99659    3.162996\n",
      "Total CO2                     26273    5.279450\n",
      "paCO2                         68243    4.712351\n",
      "pH                            67645    4.717156\n",
      "creatinine                   180325    5.876928\n",
      "PT                            81511    3.525230\n",
      "sodium                       180373    6.324899\n",
      "Base Excess                   55187    4.631544\n",
      "AST (SGOT)                   102100    3.144094\n",
      "anion gap                    144031    5.925599\n",
      "ALT (SGPT)                   101477    3.142584\n",
      "albumin                      109111    3.528068\n",
      "chloride                     179453    5.921701\n",
      "glucose                      179557    6.044170\n",
      "RDW                          163314    5.266438\n",
      "bicarbonate                  170272    5.848613\n",
      "potassium                    180476    6.836987\n",
      "WBC's in body fluid            1341    1.215511\n",
      "RBC                          175531    5.277666\n",
      "PTT                           56265    3.724322\n",
      "MCH                          163566    5.306311\n",
      "platelets x 1000             175903    5.335520\n",
      "phosphate                     87056    4.505043\n",
      "magnesium                    125461    4.593292\n",
      "lactate                       51562    2.787033\n",
      "MCV                          170918    5.297078\n",
      "24 h urine urea nitrogen        144    1.104167\n"
     ]
    }
   ],
   "source": [
    "# To have a look at what lab measurements you have selected\n",
    "labs_selected_df = pd.concat([frequent_labs.loc[selected_labs], long_labs.loc[selected_labs]], axis=1).rename({'patientunitstayid': 'icu_stays', 0: 'avg_length'}, axis=1)\n",
    "print(labs_selected_df.to_string())\n",
    "\n",
    "patients_lab_selected = patients_lab[patients_lab['labname'].isin(selected_labs)]"
   ]
  },
  {
   "cell_type": "code",
   "execution_count": 9,
   "metadata": {},
   "outputs": [],
   "source": [
    "\n",
    "patients_lab_selected['lab_times'] = (patients_lab_selected['labresultoffset'])"
   ]
  },
  {
   "cell_type": "code",
   "execution_count": 10,
   "metadata": {},
   "outputs": [],
   "source": [
    "lab_dict=dict(zip(list(selected_labs),range(len(selected_labs))))\n",
    "patients_lab_selected['lab_code']=patients_lab_selected['labname'].map(lab_dict)"
   ]
  },
  {
   "cell_type": "code",
   "execution_count": 11,
   "metadata": {},
   "outputs": [],
   "source": [
    "patients_lab_selected_short = patients_lab_selected[['patientunitstayid', 'lab_times', 'lab_code', 'labresult']].rename({'patientunitstayid': 'id'}, axis=1)\n"
   ]
  },
  {
   "cell_type": "code",
   "execution_count": 12,
   "metadata": {},
   "outputs": [],
   "source": [
    "patients_lab_selected_short_gb = patients_lab_selected_short.groupby(['id', 'lab_times', 'lab_code'], as_index=False).mean()"
   ]
  },
  {
   "cell_type": "code",
   "execution_count": 13,
   "metadata": {},
   "outputs": [],
   "source": [
    "patients_lab_selected_short_gb.to_csv(\"lab_processed.csv\")"
   ]
  },
  {
   "cell_type": "code",
   "execution_count": null,
   "metadata": {},
   "outputs": [],
   "source": []
  }
 ],
 "metadata": {
  "kernelspec": {
   "display_name": "Python 3",
   "language": "python",
   "name": "python3"
  },
  "language_info": {
   "codemirror_mode": {
    "name": "ipython",
    "version": 2
   },
   "file_extension": ".py",
   "mimetype": "text/x-python",
   "name": "python",
   "nbconvert_exporter": "python",
   "pygments_lexer": "ipython2",
   "version": "2.7.16"
  }
 },
 "nbformat": 4,
 "nbformat_minor": 2
}
