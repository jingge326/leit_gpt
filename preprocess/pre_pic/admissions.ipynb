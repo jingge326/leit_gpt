{
 "cells": [
  {
   "cell_type": "code",
   "execution_count": 1,
   "metadata": {},
   "outputs": [],
   "source": [
    "import os\n",
    "import pathlib\n",
    "\n",
    "p_project = str(pathlib.Path(os.getcwd()).parents[1])"
   ]
  },
  {
   "cell_type": "code",
   "execution_count": 2,
   "metadata": {},
   "outputs": [],
   "source": [
    "import pandas as pd\n",
    "import matplotlib.pyplot as plt\n",
    "\n",
    "from datetime import datetime\n",
    "from datetime import timedelta\n",
    "\n",
    "import numpy as np"
   ]
  },
  {
   "cell_type": "code",
   "execution_count": 4,
   "metadata": {
    "scrolled": true
   },
   "outputs": [
    {
     "data": {
      "text/html": [
       "<div>\n",
       "<style scoped>\n",
       "    .dataframe tbody tr th:only-of-type {\n",
       "        vertical-align: middle;\n",
       "    }\n",
       "\n",
       "    .dataframe tbody tr th {\n",
       "        vertical-align: top;\n",
       "    }\n",
       "\n",
       "    .dataframe thead th {\n",
       "        text-align: right;\n",
       "    }\n",
       "</style>\n",
       "<table border=\"1\" class=\"dataframe\">\n",
       "  <thead>\n",
       "    <tr style=\"text-align: right;\">\n",
       "      <th></th>\n",
       "      <th>ROW_ID</th>\n",
       "      <th>SUBJECT_ID</th>\n",
       "      <th>HADM_ID</th>\n",
       "      <th>ADMITTIME</th>\n",
       "      <th>DISCHTIME</th>\n",
       "      <th>DEATHTIME</th>\n",
       "      <th>ADMISSION_DEPARTMENT</th>\n",
       "      <th>DISCHARGE_DEPARTMENT</th>\n",
       "      <th>INSURANCE</th>\n",
       "      <th>LANGUAGE</th>\n",
       "      <th>RELIGION</th>\n",
       "      <th>MARITAL_STATUS</th>\n",
       "      <th>ETHNICITY</th>\n",
       "      <th>EDREGTIME</th>\n",
       "      <th>EDOUTTIME</th>\n",
       "      <th>DIAGNOSIS</th>\n",
       "      <th>ICD10_CODE_CN</th>\n",
       "      <th>HOSPITAL_EXPIRE_FLAG</th>\n",
       "      <th>HAS_CHARTEVENTS_DATA</th>\n",
       "    </tr>\n",
       "  </thead>\n",
       "  <tbody>\n",
       "    <tr>\n",
       "      <th>0</th>\n",
       "      <td>1</td>\n",
       "      <td>26</td>\n",
       "      <td>100000</td>\n",
       "      <td>2098-11-09 18:30:55</td>\n",
       "      <td>2098-11-14 09:18:00</td>\n",
       "      <td>NaN</td>\n",
       "      <td>General ICU</td>\n",
       "      <td>General ICU</td>\n",
       "      <td>Self Pay</td>\n",
       "      <td>CHN</td>\n",
       "      <td>Not specified</td>\n",
       "      <td>Single</td>\n",
       "      <td>Han ethnic</td>\n",
       "      <td>2098-11-09 18:30:55</td>\n",
       "      <td>2098-11-14 09:18:00</td>\n",
       "      <td>肠粘膜炎</td>\n",
       "      <td>K52.901</td>\n",
       "      <td>0</td>\n",
       "      <td>0</td>\n",
       "    </tr>\n",
       "    <tr>\n",
       "      <th>1</th>\n",
       "      <td>2</td>\n",
       "      <td>28</td>\n",
       "      <td>100001</td>\n",
       "      <td>2104-09-03 10:36:47</td>\n",
       "      <td>2104-09-12 14:51:00</td>\n",
       "      <td>2104-09-12 14:51:00</td>\n",
       "      <td>General ICU</td>\n",
       "      <td>General ICU</td>\n",
       "      <td>Self Pay</td>\n",
       "      <td>CHN</td>\n",
       "      <td>Not specified</td>\n",
       "      <td>Single</td>\n",
       "      <td>Han ethnic</td>\n",
       "      <td>2104-09-03 10:36:47</td>\n",
       "      <td>2104-09-12 14:51:00</td>\n",
       "      <td>心肌炎</td>\n",
       "      <td>I51.403</td>\n",
       "      <td>1</td>\n",
       "      <td>0</td>\n",
       "    </tr>\n",
       "    <tr>\n",
       "      <th>2</th>\n",
       "      <td>3</td>\n",
       "      <td>29</td>\n",
       "      <td>100002</td>\n",
       "      <td>2062-11-29 20:52:52</td>\n",
       "      <td>2062-12-07 14:27:00</td>\n",
       "      <td>NaN</td>\n",
       "      <td>General ICU</td>\n",
       "      <td>General ICU</td>\n",
       "      <td>Self Pay</td>\n",
       "      <td>CHN</td>\n",
       "      <td>Not specified</td>\n",
       "      <td>Single</td>\n",
       "      <td>Han ethnic</td>\n",
       "      <td>2062-11-29 20:52:52</td>\n",
       "      <td>2062-12-07 14:27:00</td>\n",
       "      <td>溺水</td>\n",
       "      <td>T75.101</td>\n",
       "      <td>0</td>\n",
       "      <td>0</td>\n",
       "    </tr>\n",
       "    <tr>\n",
       "      <th>3</th>\n",
       "      <td>4</td>\n",
       "      <td>30</td>\n",
       "      <td>100003</td>\n",
       "      <td>2098-11-21 15:38:47</td>\n",
       "      <td>2098-11-26 01:33:00</td>\n",
       "      <td>2098-11-26 01:33:00</td>\n",
       "      <td>General ICU</td>\n",
       "      <td>General ICU</td>\n",
       "      <td>Discount</td>\n",
       "      <td>CHN</td>\n",
       "      <td>Not specified</td>\n",
       "      <td>Single</td>\n",
       "      <td>Han ethnic</td>\n",
       "      <td>2098-11-21 15:38:47</td>\n",
       "      <td>2098-11-26 01:33:00</td>\n",
       "      <td>NaN</td>\n",
       "      <td>NaN</td>\n",
       "      <td>1</td>\n",
       "      <td>0</td>\n",
       "    </tr>\n",
       "    <tr>\n",
       "      <th>4</th>\n",
       "      <td>5</td>\n",
       "      <td>31</td>\n",
       "      <td>100004</td>\n",
       "      <td>2071-11-13 19:43:13</td>\n",
       "      <td>2071-11-15 13:40:00</td>\n",
       "      <td>2071-11-15 13:40:00</td>\n",
       "      <td>General ICU</td>\n",
       "      <td>General ICU</td>\n",
       "      <td>Self Pay</td>\n",
       "      <td>CHN</td>\n",
       "      <td>Not specified</td>\n",
       "      <td>Single</td>\n",
       "      <td>Han ethnic</td>\n",
       "      <td>2071-11-13 19:43:13</td>\n",
       "      <td>2071-11-15 13:40:00</td>\n",
       "      <td>腹泻病</td>\n",
       "      <td>K52.904</td>\n",
       "      <td>1</td>\n",
       "      <td>0</td>\n",
       "    </tr>\n",
       "  </tbody>\n",
       "</table>\n",
       "</div>"
      ],
      "text/plain": [
       "   ROW_ID  SUBJECT_ID  HADM_ID            ADMITTIME            DISCHTIME  \\\n",
       "0       1          26   100000  2098-11-09 18:30:55  2098-11-14 09:18:00   \n",
       "1       2          28   100001  2104-09-03 10:36:47  2104-09-12 14:51:00   \n",
       "2       3          29   100002  2062-11-29 20:52:52  2062-12-07 14:27:00   \n",
       "3       4          30   100003  2098-11-21 15:38:47  2098-11-26 01:33:00   \n",
       "4       5          31   100004  2071-11-13 19:43:13  2071-11-15 13:40:00   \n",
       "\n",
       "             DEATHTIME ADMISSION_DEPARTMENT DISCHARGE_DEPARTMENT INSURANCE  \\\n",
       "0                  NaN          General ICU          General ICU  Self Pay   \n",
       "1  2104-09-12 14:51:00          General ICU          General ICU  Self Pay   \n",
       "2                  NaN          General ICU          General ICU  Self Pay   \n",
       "3  2098-11-26 01:33:00          General ICU          General ICU  Discount   \n",
       "4  2071-11-15 13:40:00          General ICU          General ICU  Self Pay   \n",
       "\n",
       "  LANGUAGE       RELIGION MARITAL_STATUS   ETHNICITY            EDREGTIME  \\\n",
       "0      CHN  Not specified         Single  Han ethnic  2098-11-09 18:30:55   \n",
       "1      CHN  Not specified         Single  Han ethnic  2104-09-03 10:36:47   \n",
       "2      CHN  Not specified         Single  Han ethnic  2062-11-29 20:52:52   \n",
       "3      CHN  Not specified         Single  Han ethnic  2098-11-21 15:38:47   \n",
       "4      CHN  Not specified         Single  Han ethnic  2071-11-13 19:43:13   \n",
       "\n",
       "             EDOUTTIME DIAGNOSIS ICD10_CODE_CN  HOSPITAL_EXPIRE_FLAG  \\\n",
       "0  2098-11-14 09:18:00      肠粘膜炎       K52.901                     0   \n",
       "1  2104-09-12 14:51:00       心肌炎       I51.403                     1   \n",
       "2  2062-12-07 14:27:00        溺水       T75.101                     0   \n",
       "3  2098-11-26 01:33:00       NaN           NaN                     1   \n",
       "4  2071-11-15 13:40:00       腹泻病       K52.904                     1   \n",
       "\n",
       "   HAS_CHARTEVENTS_DATA  \n",
       "0                     0  \n",
       "1                     0  \n",
       "2                     0  \n",
       "3                     0  \n",
       "4                     0  "
      ]
     },
     "execution_count": 4,
     "metadata": {},
     "output_type": "execute_result"
    }
   ],
   "source": [
    "adm=pd.read_csv(p_project + \"/data/pic/ADMISSIONS.csv.gz\", compression='gzip')\n",
    "adm.head()"
   ]
  },
  {
   "cell_type": "code",
   "execution_count": 5,
   "metadata": {},
   "outputs": [],
   "source": [
    "#Load the patients data base and add the Date of birth to the admission dataset.\n",
    "patients_df=pd.read_csv(p_project + \"/data/pic/PATIENTS.csv.gz\", compression=\"gzip\")\n",
    "patients_df[\"DOBTIME\"]=pd.to_datetime(patients_df[\"DOB\"], format='%Y-%m-%d')\n",
    "adm_dob=pd.merge(patients_df[[\"SUBJECT_ID\",\"DOBTIME\"]],adm,on=\"SUBJECT_ID\")"
   ]
  },
  {
   "cell_type": "code",
   "execution_count": 6,
   "metadata": {},
   "outputs": [
    {
     "data": {
      "image/png": "[encoded data removed]",
      "text/plain": [
       "<Figure size 432x288 with 1 Axes>"
      ]
     },
     "metadata": {
      "needs_background": "light"
     },
     "output_type": "display_data"
    },
    {
     "name": "stdout",
     "output_type": "stream",
     "text": [
      "Number of patients with specific number of admissions : \n",
      " 1    12413\n",
      "2      389\n",
      "3       62\n",
      "4       14\n",
      "5        2\n",
      "6        1\n",
      "Name: HADM_ID, dtype: int64\n"
     ]
    }
   ],
   "source": [
    "#Number of admissions by patient\n",
    "df=adm.groupby(\"SUBJECT_ID\")[\"HADM_ID\"].nunique()\n",
    "plt.hist(df,bins=100)\n",
    "plt.show()\n",
    "print(\"Number of patients with specific number of admissions : \\n\",df.value_counts())"
   ]
  },
  {
   "cell_type": "markdown",
   "metadata": {},
   "source": [
    "As the majortity of patients only present a single admission, we filter out all the patients with more than 1 admission"
   ]
  },
  {
   "cell_type": "code",
   "execution_count": 7,
   "metadata": {},
   "outputs": [
    {
     "name": "stdout",
     "output_type": "stream",
     "text": [
      "Number of patients remaining in the dataframe: \n",
      "12413\n"
     ]
    }
   ],
   "source": [
    "subj_ids=list(df[df==1].index) #index of patients with only one visit.\n",
    "adm_1=adm_dob.loc[adm_dob[\"SUBJECT_ID\"].isin(subj_ids)] #filter out the patients with more than one visit\n",
    "print(\"Number of patients remaining in the dataframe: \")\n",
    "print(len(adm_1.index))"
   ]
  },
  {
   "cell_type": "code",
   "execution_count": 8,
   "metadata": {},
   "outputs": [
    {
     "data": {
      "image/png": "[encoded data removed]",
      "text/plain": [
       "<Figure size 432x288 with 1 Axes>"
      ]
     },
     "metadata": {
      "needs_background": "light"
     },
     "output_type": "display_data"
    },
    {
     "name": "stdout",
     "output_type": "stream",
     "text": [
      "Number of patients with specific duration of admissions in days : \n",
      " 7      725\n",
      "8      650\n",
      "6      634\n",
      "9      575\n",
      "13     569\n",
      "      ... \n",
      "104      1\n",
      "129      1\n",
      "444      1\n",
      "221      1\n",
      "106      1\n",
      "Name: ELAPSED_DAYS, Length: 141, dtype: int64\n"
     ]
    }
   ],
   "source": [
    "#We now add a new column with the duration of each stay.\n",
    "adm_1=adm_1.copy()\n",
    "adm_1['ADMITTIME']=pd.to_datetime(adm_1[\"ADMITTIME\"], format='%Y-%m-%d %H:%M:%S')\n",
    "adm_1['DISCHTIME']=pd.to_datetime(adm_1[\"DISCHTIME\"], format='%Y-%m-%d %H:%M:%S')\n",
    "\n",
    "adm_1[\"ELAPSED_TIME\"]=adm_1[\"DISCHTIME\"]-adm_1[\"ADMITTIME\"]\n",
    "adm_1[\"ELAPSED_DAYS\"]=adm_1[\"ELAPSED_TIME\"].dt.days #Elapsed time in days in ICU\n",
    "plt.hist(adm_1[\"ELAPSED_DAYS\"],bins=200)\n",
    "plt.show()\n",
    "print(\"Number of patients with specific duration of admissions in days : \\n\",adm_1[\"ELAPSED_DAYS\"].value_counts())"
   ]
  },
  {
   "cell_type": "code",
   "execution_count": 9,
   "metadata": {},
   "outputs": [
    {
     "data": {
      "image/png": "[encoded data removed]",
      "text/plain": [
       "<Figure size 432x288 with 1 Axes>"
      ]
     },
     "metadata": {
      "needs_background": "light"
     },
     "output_type": "display_data"
    }
   ],
   "source": [
    "#Let's now report the death rate in function of the duration stay in ICU.\n",
    "adm_1[\"DEATHTAG\"]=0\n",
    "adm_1.loc[adm_1.DEATHTIME.notnull(),\"DEATHTAG\"]=1\n",
    "\n",
    "df_deaths_per_duration=adm_1.groupby(\"ELAPSED_DAYS\")[\"DEATHTAG\"].sum()\n",
    "df_patients_per_duration=adm_1.groupby(\"ELAPSED_DAYS\")[\"SUBJECT_ID\"].nunique()\n",
    "df_death_ratio_per_duration=df_deaths_per_duration/df_patients_per_duration\n",
    "plt.plot(df_death_ratio_per_duration)\n",
    "plt.title(\"Death Ratio per ICU stay duration\")\n",
    "plt.xlabel(\"Duration in days\")\n",
    "plt.ylabel(\"Death rate (Number of deaths/Nunber of patients)\")\n",
    "plt.show()"
   ]
  },
  {
   "cell_type": "markdown",
   "metadata": {},
   "source": [
    "Given the results above, we select patients with a least 48 hours in the ICU and with less than 30 days stay."
   ]
  },
  {
   "cell_type": "code",
   "execution_count": 16,
   "metadata": {},
   "outputs": [
    {
     "name": "stdout",
     "output_type": "stream",
     "text": [
      "Number of patients remaining in the dataframe: \n",
      "9520\n"
     ]
    }
   ],
   "source": [
    "adm_2=adm_1.loc[(adm_1[\"ELAPSED_DAYS\"]<30) & (adm_1[\"ELAPSED_DAYS\"]>2)]\n",
    "print(\"Number of patients remaining in the dataframe: \")\n",
    "print(len(adm_2.index))"
   ]
  },
  {
   "cell_type": "markdown",
   "metadata": {},
   "source": [
    "We remove the admissions with no chart events data."
   ]
  },
  {
   "cell_type": "code",
   "execution_count": 18,
   "metadata": {},
   "outputs": [
    {
     "name": "stdout",
     "output_type": "stream",
     "text": [
      "Number of patients remaining in the dataframe: \n",
      "7712\n"
     ]
    }
   ],
   "source": [
    "adm_2_chart=adm_2.loc[adm_2[\"HAS_CHARTEVENTS_DATA\"]==1].copy()\n",
    "print(\"Number of patients remaining in the dataframe: \")\n",
    "print(len(adm_2_chart.index))"
   ]
  },
  {
   "cell_type": "code",
   "execution_count": 21,
   "metadata": {},
   "outputs": [
    {
     "data": {
      "text/plain": [
       "ADMISSION_DEPARTMENT\n",
       "Burn/Neurosurgery department                      1108\n",
       "CICU                                                54\n",
       "Cardiac surgery department                        1927\n",
       "Cardiovascular department                           86\n",
       "Endocrinology department                            33\n",
       "Gastroenterology department                         47\n",
       "General ICU                                         44\n",
       "General surgery/Endoscopy department               289\n",
       "General surgery/Neonatology surgery department     753\n",
       "Infectious diseases department                      41\n",
       "NICU                                              1141\n",
       "Neonatology department(1)                           75\n",
       "Neonatology department(2)                           75\n",
       "Neurology department                                53\n",
       "Ophthalmology department/ENT                        61\n",
       "Orthopedics/Traumatology department                 15\n",
       "PICU                                               924\n",
       "Respiratory medicine department(1)                  52\n",
       "Respiratory medicine department(2)                  59\n",
       "SICU                                                87\n",
       "Thoracic surgery/Oncology department               788\n",
       "Name: SUBJECT_ID, dtype: int64"
      ]
     },
     "execution_count": 21,
     "metadata": {},
     "output_type": "execute_result"
    }
   ],
   "source": [
    "#We now investigate the admission_type\n",
    "df_type=adm_2_chart.groupby(\"ADMISSION_DEPARTMENT\")[\"SUBJECT_ID\"].count()\n",
    "df_type"
   ]
  },
  {
   "cell_type": "markdown",
   "metadata": {},
   "source": [
    "We remove the newborns as they are specific"
   ]
  },
  {
   "cell_type": "code",
   "execution_count": null,
   "metadata": {},
   "outputs": [],
   "source": [
    "# adm_3=adm_2_chart.loc[adm_2_chart[\"ADMISSION_TYPE\"]!=\"NEWBORN\"]\n",
    "# print(\"Number of patients remaining in the dataframe: \")\n",
    "# print(adm_3[\"SUBJECT_ID\"].nunique())"
   ]
  },
  {
   "cell_type": "code",
   "execution_count": 23,
   "metadata": {},
   "outputs": [],
   "source": [
    "adm_2_chart.to_csv(p_project + \"/temp/pic/processed/admissions_processed.csv\")"
   ]
  }
 ],
 "metadata": {
  "kernelspec": {
   "display_name": "Python 3 (ipykernel)",
   "language": "python",
   "name": "python3"
  },
  "language_info": {
   "codemirror_mode": {
    "name": "ipython",
    "version": 3
   },
   "file_extension": ".py",
   "mimetype": "text/x-python",
   "name": "python",
   "nbconvert_exporter": "python",
   "pygments_lexer": "ipython3",
   "version": "3.8.12"
  }
 },
 "nbformat": 4,
 "nbformat_minor": 4
}
