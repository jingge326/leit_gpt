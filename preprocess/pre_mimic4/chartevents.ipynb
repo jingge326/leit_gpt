{
    "cells": [
        {
            "attachments": {},
            "cell_type": "markdown",
            "metadata": {},
            "source": [
                "# MIMIC 4 data - dataset construction chartevents"
            ]
        },
        {
            "attachments": {},
            "cell_type": "markdown",
            "metadata": {},
            "source": [
                "Code taken from GRU-ODE-Bayes preprocessing; simplified and adapted for MIMIC 4 1.0"
            ]
        },
        {
            "cell_type": "code",
            "execution_count": 5,
            "metadata": {},
            "outputs": [],
            "source": [
                "import os\n",
                "import pathlib\n",
                "import pandas as pd\n",
                "\n",
                "p_project = str(pathlib.Path(os.getcwd()).parents[1])"
            ]
        },
        {
            "cell_type": "code",
            "execution_count": 6,
            "metadata": {},
            "outputs": [],
            "source": [
                "path_mimic = p_project + '/data/mimic4'"
            ]
        },
        {
            "cell_type": "code",
            "execution_count": 7,
            "metadata": {},
            "outputs": [],
            "source": [
                "adm = pd.read_csv(path_mimic + '/processed/admissions_processed.csv')"
            ]
        },
        {
            "cell_type": "code",
            "execution_count": 8,
            "metadata": {},
            "outputs": [],
            "source": [
                "# only choose previously selected admission ids\n",
                "adm_ids=list(adm['hadm_id'])\n",
                "charts = pd.DataFrame()\n",
                "for chunk in pd.read_csv(path_mimic + '/raw/icu/chartevents.csv.gz', chunksize=10000000, low_memory=False):\n",
                "    chunk=chunk.loc[chunk['hadm_id'].isin(adm_ids)]\n",
                "    charts = pd.concat([charts, chunk[['subject_id', 'hadm_id', 'charttime', 'itemid', 'valuenum', 'valueuom']]])\n",
                "    \n",
                "charts = charts.reset_index(drop=True)"
            ]
        },
        {
            "cell_type": "code",
            "execution_count": 9,
            "metadata": {},
            "outputs": [
                {
                    "name": "stdout",
                    "output_type": "stream",
                    "text": [
                        "Number of patients remaining in the database: \n",
                        "42087\n"
                    ]
                }
            ],
            "source": [
                "# only choose previously selected admission ids.\n",
                "print('Number of patients remaining in the database: ')\n",
                "print(charts['subject_id'].nunique())"
            ]
        },
        {
            "cell_type": "code",
            "execution_count": 10,
            "metadata": {},
            "outputs": [
                {
                    "data": {
                        "text/html": [
                            "<div>\n",
                            "<style scoped>\n",
                            "    .dataframe tbody tr th:only-of-type {\n",
                            "        vertical-align: middle;\n",
                            "    }\n",
                            "\n",
                            "    .dataframe tbody tr th {\n",
                            "        vertical-align: top;\n",
                            "    }\n",
                            "\n",
                            "    .dataframe thead th {\n",
                            "        text-align: right;\n",
                            "    }\n",
                            "</style>\n",
                            "<table border=\"1\" class=\"dataframe\">\n",
                            "  <thead>\n",
                            "    <tr style=\"text-align: right;\">\n",
                            "      <th></th>\n",
                            "      <th>subject_id</th>\n",
                            "      <th>hadm_id</th>\n",
                            "      <th>charttime</th>\n",
                            "      <th>itemid</th>\n",
                            "      <th>valuenum</th>\n",
                            "      <th>valueuom</th>\n",
                            "      <th>label</th>\n",
                            "    </tr>\n",
                            "  </thead>\n",
                            "  <tbody>\n",
                            "    <tr>\n",
                            "      <th>0</th>\n",
                            "      <td>10001217</td>\n",
                            "      <td>24597018</td>\n",
                            "      <td>2157-11-21 19:00:00</td>\n",
                            "      <td>220045</td>\n",
                            "      <td>101.0</td>\n",
                            "      <td>bpm</td>\n",
                            "      <td>Heart Rate</td>\n",
                            "    </tr>\n",
                            "    <tr>\n",
                            "      <th>1</th>\n",
                            "      <td>10001217</td>\n",
                            "      <td>24597018</td>\n",
                            "      <td>2157-11-21 20:00:00</td>\n",
                            "      <td>220045</td>\n",
                            "      <td>96.0</td>\n",
                            "      <td>bpm</td>\n",
                            "      <td>Heart Rate</td>\n",
                            "    </tr>\n",
                            "    <tr>\n",
                            "      <th>2</th>\n",
                            "      <td>10001217</td>\n",
                            "      <td>24597018</td>\n",
                            "      <td>2157-11-21 21:00:00</td>\n",
                            "      <td>220045</td>\n",
                            "      <td>93.0</td>\n",
                            "      <td>bpm</td>\n",
                            "      <td>Heart Rate</td>\n",
                            "    </tr>\n",
                            "    <tr>\n",
                            "      <th>3</th>\n",
                            "      <td>10001217</td>\n",
                            "      <td>24597018</td>\n",
                            "      <td>2157-11-21 00:00:00</td>\n",
                            "      <td>220045</td>\n",
                            "      <td>98.0</td>\n",
                            "      <td>bpm</td>\n",
                            "      <td>Heart Rate</td>\n",
                            "    </tr>\n",
                            "    <tr>\n",
                            "      <th>4</th>\n",
                            "      <td>10001217</td>\n",
                            "      <td>24597018</td>\n",
                            "      <td>2157-11-21 08:00:00</td>\n",
                            "      <td>220045</td>\n",
                            "      <td>85.0</td>\n",
                            "      <td>bpm</td>\n",
                            "      <td>Heart Rate</td>\n",
                            "    </tr>\n",
                            "  </tbody>\n",
                            "</table>\n",
                            "</div>"
                        ],
                        "text/plain": [
                            "   subject_id   hadm_id            charttime  itemid  valuenum valueuom  \\\n",
                            "0    10001217  24597018  2157-11-21 19:00:00  220045     101.0      bpm   \n",
                            "1    10001217  24597018  2157-11-21 20:00:00  220045      96.0      bpm   \n",
                            "2    10001217  24597018  2157-11-21 21:00:00  220045      93.0      bpm   \n",
                            "3    10001217  24597018  2157-11-21 00:00:00  220045      98.0      bpm   \n",
                            "4    10001217  24597018  2157-11-21 08:00:00  220045      85.0      bpm   \n",
                            "\n",
                            "        label  \n",
                            "0  Heart Rate  \n",
                            "1  Heart Rate  \n",
                            "2  Heart Rate  \n",
                            "3  Heart Rate  \n",
                            "4  Heart Rate  "
                        ]
                    },
                    "execution_count": 10,
                    "metadata": {},
                    "output_type": "execute_result"
                }
            ],
            "source": [
                "# get item ids\n",
                "item_id=pd.read_csv(path_mimic + '/raw/icu/d_items.csv.gz')[['itemid','label']]\n",
                "\n",
                "# get names of administered items\n",
                "charts2=pd.merge(charts, item_id, on='itemid')\n",
                "charts2.head()"
            ]
        },
        {
            "cell_type": "code",
            "execution_count": 11,
            "metadata": {},
            "outputs": [],
            "source": [
                "\n",
                "pat_for_item=charts2.groupby('label')['subject_id'].nunique().sort_values(ascending=False)\n",
                "\n",
                "label_counts=charts2['label'].value_counts()"
            ]
        },
        {
            "cell_type": "code",
            "execution_count": 12,
            "metadata": {},
            "outputs": [],
            "source": [
                "# get only top 50 most used tests\n",
                "frequent_labels1=pat_for_item[:100]\n",
                "frequent_labels2=label_counts.head(200)\n",
                "\n",
                "fre_labels = frequent_labels1.loc[frequent_labels1.index.isin(frequent_labels2.index)]"
            ]
        },
        {
            "cell_type": "code",
            "execution_count": 13,
            "metadata": {},
            "outputs": [
                {
                    "data": {
                        "text/plain": [
                            "Index(['Heart Rate', 'O2 saturation pulseoxymetry', 'GCS - Eye Opening',\n",
                            "       'GCS - Verbal Response', 'GCS - Motor Response', 'Alarms On',\n",
                            "       'Head of Bed', 'Heart rate Alarm - High', 'Heart Rate Alarm - Low',\n",
                            "       'O2 Saturation Pulseoxymetry Alarm - Low', 'Respiratory Rate',\n",
                            "       'Skin Integrity', 'RUL Lung Sounds', 'LUL Lung Sounds',\n",
                            "       'O2 Saturation Pulseoxymetry Alarm - High', 'RLL Lung Sounds',\n",
                            "       'Skin Temperature', 'LLL Lung Sounds', 'Resp Alarm - High',\n",
                            "       'Resp Alarm - Low', 'Skin Condition', 'Turn', 'Braden Mobility',\n",
                            "       'Braden Activity', 'Braden Sensory Perception', 'Braden Moisture',\n",
                            "       'Abdominal Assessment', 'Braden Nutrition', 'Braden Friction/Shear',\n",
                            "       'Heart Rhythm', 'Parameters Checked', 'Bowel Sounds', 'Skin Color',\n",
                            "       'Oral Cavity', 'Activity Tolerance', 'Temperature Site',\n",
                            "       'SpO2 Desat Limit', 'Urine Source', 'Diet Type',\n",
                            "       'Pain Assessment Method', 'Potassium (serum)', 'IV/Saline lock',\n",
                            "       'Gait/Transferring', 'Ambulatory aid', 'Secondary diagnosis',\n",
                            "       'Mental status', 'Edema Location', 'Pain Present',\n",
                            "       'History of falling (within 3 mnths)', 'O2 Delivery Device(s)',\n",
                            "       'Position', 'Dorsal PedPulse R', 'Dorsal PedPulse L', 'Safety Measures',\n",
                            "       'Non Invasive Blood Pressure systolic',\n",
                            "       'Non Invasive Blood Pressure diastolic',\n",
                            "       'Non Invasive Blood Pressure mean', 'Therapeutic Bed',\n",
                            "       'Temperature Fahrenheit', 'Ectopy Type 1', 'Urine Color',\n",
                            "       'Daily Wake Up', 'Pain Location', 'Cough Effort', 'Urine Appearance',\n",
                            "       'Speech', 'Education Learner', 'Education Topic', 'Education Method',\n",
                            "       'Education Barrier', 'Education Response', 'PostTib. Pulses R',\n",
                            "       'PostTib. Pulses L', 'Pain Level Acceptable', 'Pain Level',\n",
                            "       'Problem List', 'Support Systems',\n",
                            "       'Non-Invasive Blood Pressure Alarm - Low',\n",
                            "       'Non-Invasive Blood Pressure Alarm - High', 'NBP Alarm Source',\n",
                            "       'Pupil Size Right', 'Pupil Size Left', 'Pupil Response Right',\n",
                            "       'Pupil Response Left', 'Pain Management'],\n",
                            "      dtype='object', name='label')"
                        ]
                    },
                    "execution_count": 13,
                    "metadata": {},
                    "output_type": "execute_result"
                }
            ],
            "source": [
                "fre_labels.index"
            ]
        },
        {
            "cell_type": "code",
            "execution_count": 14,
            "metadata": {},
            "outputs": [],
            "source": [
                "mask_df = charts2['label'].isin(fre_labels.index)"
            ]
        },
        {
            "cell_type": "code",
            "execution_count": 15,
            "metadata": {},
            "outputs": [
                {
                    "data": {
                        "text/plain": [
                            "121115943"
                        ]
                    },
                    "execution_count": 15,
                    "metadata": {},
                    "output_type": "execute_result"
                }
            ],
            "source": [
                "mask_df.sum()"
            ]
        },
        {
            "cell_type": "code",
            "execution_count": 16,
            "metadata": {},
            "outputs": [],
            "source": [
                "charts3=charts2.loc[mask_df]"
            ]
        },
        {
            "cell_type": "code",
            "execution_count": 17,
            "metadata": {},
            "outputs": [
                {
                    "data": {
                        "text/plain": [
                            "(121115943, 7)"
                        ]
                    },
                    "execution_count": 17,
                    "metadata": {},
                    "output_type": "execute_result"
                }
            ],
            "source": [
                "charts3.shape"
            ]
        },
        {
            "cell_type": "code",
            "execution_count": 18,
            "metadata": {},
            "outputs": [
                {
                    "name": "stderr",
                    "output_type": "stream",
                    "text": [
                        "/tmp/ipykernel_2681118/715067778.py:1: SettingWithCopyWarning: \n",
                        "A value is trying to be set on a copy of a slice from a DataFrame\n",
                        "\n",
                        "See the caveats in the documentation: https://pandas.pydata.org/pandas-docs/stable/user_guide/indexing.html#returning-a-view-versus-a-copy\n",
                        "  charts3.dropna(inplace=True)\n"
                    ]
                }
            ],
            "source": [
                "charts3.dropna(inplace=True)"
            ]
        },
        {
            "cell_type": "code",
            "execution_count": 19,
            "metadata": {},
            "outputs": [
                {
                    "data": {
                        "text/plain": [
                            "(35019071, 7)"
                        ]
                    },
                    "execution_count": 19,
                    "metadata": {},
                    "output_type": "execute_result"
                }
            ],
            "source": [
                "charts3.shape"
            ]
        },
        {
            "cell_type": "code",
            "execution_count": 20,
            "metadata": {},
            "outputs": [],
            "source": [
                "charts3.to_csv(path_mimic + '/processed/charts_processed.csv')"
            ]
        },
        {
            "cell_type": "code",
            "execution_count": 21,
            "metadata": {},
            "outputs": [
                {
                    "data": {
                        "text/plain": [
                            "array(['Heart Rate', 'Non Invasive Blood Pressure systolic',\n",
                            "       'Non Invasive Blood Pressure diastolic',\n",
                            "       'Non Invasive Blood Pressure mean', 'Respiratory Rate',\n",
                            "       'O2 saturation pulseoxymetry', 'Temperature Fahrenheit',\n",
                            "       'Heart rate Alarm - High', 'Heart Rate Alarm - Low',\n",
                            "       'Non-Invasive Blood Pressure Alarm - High',\n",
                            "       'Non-Invasive Blood Pressure Alarm - Low',\n",
                            "       'O2 Saturation Pulseoxymetry Alarm - High',\n",
                            "       'O2 Saturation Pulseoxymetry Alarm - Low', 'Resp Alarm - High',\n",
                            "       'Resp Alarm - Low', 'SpO2 Desat Limit', 'Potassium (serum)'],\n",
                            "      dtype=object)"
                        ]
                    },
                    "execution_count": 21,
                    "metadata": {},
                    "output_type": "execute_result"
                }
            ],
            "source": [
                "charts3['label'].unique()"
            ]
        },
        {
            "cell_type": "code",
            "execution_count": 22,
            "metadata": {},
            "outputs": [],
            "source": [
                "itemid_valueuom = charts3.groupby([\"itemid\"])[\"valueuom\"].unique()"
            ]
        },
        {
            "cell_type": "code",
            "execution_count": 23,
            "metadata": {},
            "outputs": [
                {
                    "data": {
                        "text/plain": [
                            "itemid\n",
                            "220045         [bpm]\n",
                            "220046         [bpm]\n",
                            "220047         [bpm]\n",
                            "220179        [mmHg]\n",
                            "220180        [mmHg]\n",
                            "220181        [mmHg]\n",
                            "220210    [insp/min]\n",
                            "220277           [%]\n",
                            "223751        [mmHg]\n",
                            "223752        [mmHg]\n",
                            "223761          [°F]\n",
                            "223769           [%]\n",
                            "223770           [%]\n",
                            "224161    [insp/min]\n",
                            "224162    [insp/min]\n",
                            "226253           [%]\n",
                            "227442       [mEq/L]\n",
                            "Name: valueuom, dtype: object"
                        ]
                    },
                    "execution_count": 23,
                    "metadata": {},
                    "output_type": "execute_result"
                },
                {
                    "ename": "",
                    "evalue": "",
                    "output_type": "error",
                    "traceback": [
                        "\u001b[1;31mThe Kernel crashed while executing code in the the current cell or a previous cell. Please review the code in the cell(s) to identify a possible cause of the failure. Click <a href='https://aka.ms/vscodeJupyterKernelCrash'>here</a> for more info. View Jupyter <a href='command:jupyter.viewOutput'>log</a> for further details."
                    ]
                }
            ],
            "source": [
                "itemid_valueuom"
            ]
        },
        {
            "cell_type": "code",
            "execution_count": null,
            "metadata": {},
            "outputs": [],
            "source": []
        },
        {
            "cell_type": "code",
            "execution_count": null,
            "metadata": {},
            "outputs": [],
            "source": []
        }
    ],
    "metadata": {
        "kernelspec": {
            "display_name": "Python 3 (ipykernel)",
            "language": "python",
            "name": "python3"
        },
        "language_info": {
            "codemirror_mode": {
                "name": "ipython",
                "version": 3
            },
            "file_extension": ".py",
            "mimetype": "text/x-python",
            "name": "python",
            "nbconvert_exporter": "python",
            "pygments_lexer": "ipython3",
            "version": "3.8.16"
        },
        "vscode": {
            "interpreter": {
                "hash": "31f2aee4e71d21fbe5cf8b01ff0e069b9275f58929596ceb00d14d90e3e16cd6"
            }
        }
    },
    "nbformat": 4,
    "nbformat_minor": 4
}
