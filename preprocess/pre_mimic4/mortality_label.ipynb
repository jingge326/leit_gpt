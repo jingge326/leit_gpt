{
    "cells": [
        {
            "cell_type": "code",
            "execution_count": 1,
            "metadata": {},
            "outputs": [],
            "source": [
                "import os\n",
                "import pathlib\n",
                "\n",
                "import pandas as pd\n",
                "\n",
                "\n",
                "path_proj = pathlib.Path(os.getcwd()).parents[1]\n",
                "path_mimic4 = path_proj/'data/mimic4'\n",
                "path_processed = path_proj/'data/mimic4/processed'\n",
                "\n",
                "mimic4_df = pd.read_csv(path_processed/'mimic4_full_dataset_old.csv', index_col='ID')\n",
                "\n",
                "all_ids = pd.DataFrame(mimic4_df.index.unique(), columns=['ID'])\n",
                "\n",
                "adm = pd.read_csv(path_mimic4/'raw/core/admissions.csv.gz', compression='gzip')\n",
                "\n",
                "# Mortality label\n",
                "\n",
                "tvt_mortality_labels = adm[adm['hadm_id'].isin(mimic4_df.index)][['hadm_id', 'hospital_expire_flag']].rename(columns={'hadm_id': 'ID', 'hospital_expire_flag': 'labels'})\n",
                "\n",
                "tvt_mortality_labels.reset_index(drop=True).to_csv(path_processed/'mortality_labels.csv', index=False)"
            ]
        }
    ],
    "metadata": {
        "kernelspec": {
            "display_name": "leit",
            "language": "python",
            "name": "python3"
        },
        "language_info": {
            "codemirror_mode": {
                "name": "ipython",
                "version": 3
            },
            "file_extension": ".py",
            "mimetype": "text/x-python",
            "name": "python",
            "nbconvert_exporter": "python",
            "pygments_lexer": "ipython3",
            "version": "3.10.8"
        },
        "vscode": {
            "interpreter": {
                "hash": "5c6db37f2dbfa0dc7724e0c837d07e3540b86643967779554e04bc9c17696e47"
            }
        }
    },
    "nbformat": 4,
    "nbformat_minor": 4
}
