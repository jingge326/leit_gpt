{
    "cells": [
        {
            "attachments": {},
            "cell_type": "markdown",
            "metadata": {},
            "source": [
                "# MIMIC 4 data - dataset construction admissions"
            ]
        },
        {
            "attachments": {},
            "cell_type": "markdown",
            "metadata": {},
            "source": [
                "Code taken from GRU-ODE-Bayes preprocessing; simplified and adapted for MIMIC 4 1.0"
            ]
        },
        {
            "cell_type": "code",
            "execution_count": 7,
            "metadata": {},
            "outputs": [],
            "source": [
                "import os\n",
                "import pathlib\n",
                "import pandas as pd\n",
                "\n",
                "p_project = str(pathlib.Path(os.getcwd()).parents[1])"
            ]
        },
        {
            "cell_type": "code",
            "execution_count": 8,
            "metadata": {},
            "outputs": [],
            "source": [
                "path_data = p_project + '/data/mimic4'"
            ]
        },
        {
            "cell_type": "code",
            "execution_count": 9,
            "metadata": {},
            "outputs": [],
            "source": [
                "fn = path_data + '/raw/hosp/admissions.csv.gz'\n",
                "adm = pd.read_csv(fn, compression='gzip')"
            ]
        },
        {
            "cell_type": "code",
            "execution_count": 10,
            "metadata": {},
            "outputs": [],
            "source": [
                "#keep only patients present in patients data\n",
                "patients_df=pd.read_csv(path_data + '/raw/hosp/patients.csv.gz')\n",
                "adm_dob=pd.merge(patients_df[['subject_id','anchor_age']], adm, on='subject_id')"
            ]
        },
        {
            "cell_type": "code",
            "execution_count": 11,
            "metadata": {},
            "outputs": [],
            "source": [
                "#keep only patients present in ICU\n",
                "icustay_df = pd.read_csv(path_data + '/raw/icu/icustays.csv.gz', compression='gzip')\n",
                "adm_icu = pd.merge(icustay_df[['hadm_id', 'los']], adm_dob, on='hadm_id')\n",
                "adm_icu.rename(columns = {'los': 'icu_los'}, inplace = True)"
            ]
        },
        {
            "cell_type": "code",
            "execution_count": 12,
            "metadata": {},
            "outputs": [
                {
                    "name": "stdout",
                    "output_type": "stream",
                    "text": [
                        "Number of patients remaining in the dataframe: \n",
                        "57309\n"
                    ]
                }
            ],
            "source": [
                "adm_icu_selected=adm_icu.loc[(adm_icu['icu_los']<30) & (adm_icu['icu_los']>1)]\n",
                "print('Number of patients remaining in the dataframe: ')\n",
                "print(len(adm_icu_selected.index))"
            ]
        },
        {
            "cell_type": "code",
            "execution_count": 13,
            "metadata": {},
            "outputs": [
                {
                    "data": {
                        "text/html": [
                            "<div>\n",
                            "<style scoped>\n",
                            "    .dataframe tbody tr th:only-of-type {\n",
                            "        vertical-align: middle;\n",
                            "    }\n",
                            "\n",
                            "    .dataframe tbody tr th {\n",
                            "        vertical-align: top;\n",
                            "    }\n",
                            "\n",
                            "    .dataframe thead th {\n",
                            "        text-align: right;\n",
                            "    }\n",
                            "</style>\n",
                            "<table border=\"1\" class=\"dataframe\">\n",
                            "  <thead>\n",
                            "    <tr style=\"text-align: right;\">\n",
                            "      <th></th>\n",
                            "      <th>hadm_id</th>\n",
                            "      <th>icu_los</th>\n",
                            "      <th>subject_id</th>\n",
                            "      <th>anchor_age</th>\n",
                            "      <th>admittime</th>\n",
                            "      <th>dischtime</th>\n",
                            "      <th>deathtime</th>\n",
                            "      <th>admission_type</th>\n",
                            "      <th>admit_provider_id</th>\n",
                            "      <th>admission_location</th>\n",
                            "      <th>discharge_location</th>\n",
                            "      <th>insurance</th>\n",
                            "      <th>language</th>\n",
                            "      <th>marital_status</th>\n",
                            "      <th>race</th>\n",
                            "      <th>edregtime</th>\n",
                            "      <th>edouttime</th>\n",
                            "      <th>hospital_expire_flag</th>\n",
                            "    </tr>\n",
                            "  </thead>\n",
                            "  <tbody>\n",
                            "    <tr>\n",
                            "      <th>2</th>\n",
                            "      <td>24597018</td>\n",
                            "      <td>1.118032</td>\n",
                            "      <td>10001217</td>\n",
                            "      <td>55</td>\n",
                            "      <td>2157-11-18 22:56:00</td>\n",
                            "      <td>2157-11-25 18:00:00</td>\n",
                            "      <td>NaN</td>\n",
                            "      <td>EW EMER.</td>\n",
                            "      <td>P4645A</td>\n",
                            "      <td>EMERGENCY ROOM</td>\n",
                            "      <td>HOME HEALTH CARE</td>\n",
                            "      <td>Other</td>\n",
                            "      <td>?</td>\n",
                            "      <td>MARRIED</td>\n",
                            "      <td>WHITE</td>\n",
                            "      <td>2157-11-18 17:38:00</td>\n",
                            "      <td>2157-11-19 01:24:00</td>\n",
                            "      <td>0</td>\n",
                            "    </tr>\n",
                            "    <tr>\n",
                            "      <th>4</th>\n",
                            "      <td>25563031</td>\n",
                            "      <td>1.338588</td>\n",
                            "      <td>10001725</td>\n",
                            "      <td>46</td>\n",
                            "      <td>2110-04-11 15:08:00</td>\n",
                            "      <td>2110-04-14 15:00:00</td>\n",
                            "      <td>NaN</td>\n",
                            "      <td>EW EMER.</td>\n",
                            "      <td>P35SU0</td>\n",
                            "      <td>PACU</td>\n",
                            "      <td>HOME</td>\n",
                            "      <td>Other</td>\n",
                            "      <td>ENGLISH</td>\n",
                            "      <td>MARRIED</td>\n",
                            "      <td>WHITE</td>\n",
                            "      <td>NaN</td>\n",
                            "      <td>NaN</td>\n",
                            "      <td>0</td>\n",
                            "    </tr>\n",
                            "    <tr>\n",
                            "      <th>5</th>\n",
                            "      <td>26184834</td>\n",
                            "      <td>9.171817</td>\n",
                            "      <td>10001884</td>\n",
                            "      <td>68</td>\n",
                            "      <td>2131-01-07 20:39:00</td>\n",
                            "      <td>2131-01-20 05:15:00</td>\n",
                            "      <td>2131-01-20 05:15:00</td>\n",
                            "      <td>OBSERVATION ADMIT</td>\n",
                            "      <td>P874LG</td>\n",
                            "      <td>EMERGENCY ROOM</td>\n",
                            "      <td>DIED</td>\n",
                            "      <td>Medicare</td>\n",
                            "      <td>ENGLISH</td>\n",
                            "      <td>MARRIED</td>\n",
                            "      <td>BLACK/AFRICAN AMERICAN</td>\n",
                            "      <td>2131-01-07 13:36:00</td>\n",
                            "      <td>2131-01-07 22:13:00</td>\n",
                            "      <td>1</td>\n",
                            "    </tr>\n",
                            "    <tr>\n",
                            "      <th>6</th>\n",
                            "      <td>23581541</td>\n",
                            "      <td>1.314352</td>\n",
                            "      <td>10002013</td>\n",
                            "      <td>53</td>\n",
                            "      <td>2160-05-18 07:45:00</td>\n",
                            "      <td>2160-05-23 13:30:00</td>\n",
                            "      <td>NaN</td>\n",
                            "      <td>SURGICAL SAME DAY ADMISSION</td>\n",
                            "      <td>P47E1G</td>\n",
                            "      <td>PHYSICIAN REFERRAL</td>\n",
                            "      <td>HOME HEALTH CARE</td>\n",
                            "      <td>Medicare</td>\n",
                            "      <td>ENGLISH</td>\n",
                            "      <td>SINGLE</td>\n",
                            "      <td>OTHER</td>\n",
                            "      <td>NaN</td>\n",
                            "      <td>NaN</td>\n",
                            "      <td>0</td>\n",
                            "    </tr>\n",
                            "    <tr>\n",
                            "      <th>8</th>\n",
                            "      <td>23822395</td>\n",
                            "      <td>6.178912</td>\n",
                            "      <td>10002155</td>\n",
                            "      <td>80</td>\n",
                            "      <td>2129-08-04 12:44:00</td>\n",
                            "      <td>2129-08-18 16:53:00</td>\n",
                            "      <td>NaN</td>\n",
                            "      <td>EW EMER.</td>\n",
                            "      <td>P05HUO</td>\n",
                            "      <td>PROCEDURE SITE</td>\n",
                            "      <td>CHRONIC/LONG TERM ACUTE CARE</td>\n",
                            "      <td>Other</td>\n",
                            "      <td>ENGLISH</td>\n",
                            "      <td>MARRIED</td>\n",
                            "      <td>WHITE</td>\n",
                            "      <td>2129-08-04 11:00:00</td>\n",
                            "      <td>2129-08-04 12:35:00</td>\n",
                            "      <td>0</td>\n",
                            "    </tr>\n",
                            "  </tbody>\n",
                            "</table>\n",
                            "</div>"
                        ],
                        "text/plain": [
                            "    hadm_id   icu_los  subject_id  anchor_age            admittime  \\\n",
                            "2  24597018  1.118032    10001217          55  2157-11-18 22:56:00   \n",
                            "4  25563031  1.338588    10001725          46  2110-04-11 15:08:00   \n",
                            "5  26184834  9.171817    10001884          68  2131-01-07 20:39:00   \n",
                            "6  23581541  1.314352    10002013          53  2160-05-18 07:45:00   \n",
                            "8  23822395  6.178912    10002155          80  2129-08-04 12:44:00   \n",
                            "\n",
                            "             dischtime            deathtime               admission_type  \\\n",
                            "2  2157-11-25 18:00:00                  NaN                     EW EMER.   \n",
                            "4  2110-04-14 15:00:00                  NaN                     EW EMER.   \n",
                            "5  2131-01-20 05:15:00  2131-01-20 05:15:00            OBSERVATION ADMIT   \n",
                            "6  2160-05-23 13:30:00                  NaN  SURGICAL SAME DAY ADMISSION   \n",
                            "8  2129-08-18 16:53:00                  NaN                     EW EMER.   \n",
                            "\n",
                            "  admit_provider_id  admission_location            discharge_location  \\\n",
                            "2            P4645A      EMERGENCY ROOM              HOME HEALTH CARE   \n",
                            "4            P35SU0                PACU                          HOME   \n",
                            "5            P874LG      EMERGENCY ROOM                          DIED   \n",
                            "6            P47E1G  PHYSICIAN REFERRAL              HOME HEALTH CARE   \n",
                            "8            P05HUO      PROCEDURE SITE  CHRONIC/LONG TERM ACUTE CARE   \n",
                            "\n",
                            "  insurance language marital_status                    race  \\\n",
                            "2     Other        ?        MARRIED                   WHITE   \n",
                            "4     Other  ENGLISH        MARRIED                   WHITE   \n",
                            "5  Medicare  ENGLISH        MARRIED  BLACK/AFRICAN AMERICAN   \n",
                            "6  Medicare  ENGLISH         SINGLE                   OTHER   \n",
                            "8     Other  ENGLISH        MARRIED                   WHITE   \n",
                            "\n",
                            "             edregtime            edouttime  hospital_expire_flag  \n",
                            "2  2157-11-18 17:38:00  2157-11-19 01:24:00                     0  \n",
                            "4                  NaN                  NaN                     0  \n",
                            "5  2131-01-07 13:36:00  2131-01-07 22:13:00                     1  \n",
                            "6                  NaN                  NaN                     0  \n",
                            "8  2129-08-04 11:00:00  2129-08-04 12:35:00                     0  "
                        ]
                    },
                    "execution_count": 13,
                    "metadata": {},
                    "output_type": "execute_result"
                }
            ],
            "source": [
                "adm_icu_selected.head()"
            ]
        },
        {
            "cell_type": "code",
            "execution_count": 14,
            "metadata": {},
            "outputs": [],
            "source": [
                "path_processed = p_project + '/data/mimic4/processed'\n",
                "\n",
                "if not os.path.exists(path_processed):\n",
                "    os.mkdir(path_processed)"
            ]
        },
        {
            "cell_type": "code",
            "execution_count": 15,
            "metadata": {},
            "outputs": [],
            "source": [
                "adm_icu_selected.to_csv(path_processed + '/admissions_processed.csv')"
            ]
        }
    ],
    "metadata": {
        "kernelspec": {
            "display_name": "Python 3.8.12 ('transfer_ehr')",
            "language": "python",
            "name": "python3"
        },
        "language_info": {
            "codemirror_mode": {
                "name": "ipython",
                "version": 3
            },
            "file_extension": ".py",
            "mimetype": "text/x-python",
            "name": "python",
            "nbconvert_exporter": "python",
            "pygments_lexer": "ipython3",
            "version": "3.8.16"
        },
        "toc-autonumbering": false,
        "toc-showcode": false,
        "toc-showmarkdowntxt": false,
        "toc-showtags": false,
        "vscode": {
            "interpreter": {
                "hash": "5ae865abb88ad0a991db65fb0a3113ce9d7dd5f50b65ef8b203d3356ff36831c"
            }
        }
    },
    "nbformat": 4,
    "nbformat_minor": 4
}
