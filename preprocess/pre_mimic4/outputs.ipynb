{
    "cells": [
        {
            "attachments": {},
            "cell_type": "markdown",
            "metadata": {},
            "source": [
                "# MIMIC 4 data - dataset construction inputevents"
            ]
        },
        {
            "attachments": {},
            "cell_type": "markdown",
            "metadata": {},
            "source": [
                "Code taken from GRU-ODE-Bayes preprocessing; simplified and adapted for MIMIC 4 1.0"
            ]
        },
        {
            "cell_type": "code",
            "execution_count": 1,
            "metadata": {},
            "outputs": [],
            "source": [
                "import os\n",
                "import pathlib\n",
                "import pandas as pd\n",
                "\n",
                "p_project = str(pathlib.Path(os.getcwd()).parents[1])"
            ]
        },
        {
            "cell_type": "code",
            "execution_count": 2,
            "metadata": {},
            "outputs": [],
            "source": [
                "pd.set_option('display.max_rows', 50)\n",
                "pd.set_option('display.max_columns', 300)"
            ]
        },
        {
            "cell_type": "code",
            "execution_count": 3,
            "metadata": {},
            "outputs": [],
            "source": [
                "path_data = p_project + '/data/mimic4'"
            ]
        },
        {
            "cell_type": "code",
            "execution_count": 4,
            "metadata": {},
            "outputs": [],
            "source": [
                "adm = pd.read_csv(path_data + '/processed/admissions_processed.csv')"
            ]
        },
        {
            "cell_type": "code",
            "execution_count": 5,
            "metadata": {},
            "outputs": [
                {
                    "data": {
                        "text/html": [
                            "<div>\n",
                            "<style scoped>\n",
                            "    .dataframe tbody tr th:only-of-type {\n",
                            "        vertical-align: middle;\n",
                            "    }\n",
                            "\n",
                            "    .dataframe tbody tr th {\n",
                            "        vertical-align: top;\n",
                            "    }\n",
                            "\n",
                            "    .dataframe thead th {\n",
                            "        text-align: right;\n",
                            "    }\n",
                            "</style>\n",
                            "<table border=\"1\" class=\"dataframe\">\n",
                            "  <thead>\n",
                            "    <tr style=\"text-align: right;\">\n",
                            "      <th></th>\n",
                            "      <th>subject_id</th>\n",
                            "      <th>hadm_id</th>\n",
                            "      <th>stay_id</th>\n",
                            "      <th>caregiver_id</th>\n",
                            "      <th>charttime</th>\n",
                            "      <th>storetime</th>\n",
                            "      <th>itemid</th>\n",
                            "      <th>value</th>\n",
                            "      <th>valueuom</th>\n",
                            "    </tr>\n",
                            "  </thead>\n",
                            "  <tbody>\n",
                            "    <tr>\n",
                            "      <th>4234962</th>\n",
                            "      <td>19999987</td>\n",
                            "      <td>23865745</td>\n",
                            "      <td>36195440</td>\n",
                            "      <td>86756</td>\n",
                            "      <td>2145-11-03 05:00:00</td>\n",
                            "      <td>2145-11-03 05:48:00</td>\n",
                            "      <td>226559</td>\n",
                            "      <td>25.0</td>\n",
                            "      <td>ml</td>\n",
                            "    </tr>\n",
                            "    <tr>\n",
                            "      <th>4234963</th>\n",
                            "      <td>19999987</td>\n",
                            "      <td>23865745</td>\n",
                            "      <td>36195440</td>\n",
                            "      <td>86756</td>\n",
                            "      <td>2145-11-03 05:48:00</td>\n",
                            "      <td>2145-11-03 05:48:00</td>\n",
                            "      <td>226576</td>\n",
                            "      <td>300.0</td>\n",
                            "      <td>ml</td>\n",
                            "    </tr>\n",
                            "    <tr>\n",
                            "      <th>4234964</th>\n",
                            "      <td>19999987</td>\n",
                            "      <td>23865745</td>\n",
                            "      <td>36195440</td>\n",
                            "      <td>86756</td>\n",
                            "      <td>2145-11-03 07:00:00</td>\n",
                            "      <td>2145-11-03 07:00:00</td>\n",
                            "      <td>226559</td>\n",
                            "      <td>30.0</td>\n",
                            "      <td>ml</td>\n",
                            "    </tr>\n",
                            "    <tr>\n",
                            "      <th>4234965</th>\n",
                            "      <td>19999987</td>\n",
                            "      <td>23865745</td>\n",
                            "      <td>36195440</td>\n",
                            "      <td>90295</td>\n",
                            "      <td>2145-11-02 23:25:00</td>\n",
                            "      <td>2145-11-02 23:25:00</td>\n",
                            "      <td>226627</td>\n",
                            "      <td>200.0</td>\n",
                            "      <td>ml</td>\n",
                            "    </tr>\n",
                            "    <tr>\n",
                            "      <th>4234966</th>\n",
                            "      <td>19999987</td>\n",
                            "      <td>23865745</td>\n",
                            "      <td>36195440</td>\n",
                            "      <td>91879</td>\n",
                            "      <td>2145-11-04 20:03:00</td>\n",
                            "      <td>2145-11-04 20:03:00</td>\n",
                            "      <td>226560</td>\n",
                            "      <td>325.0</td>\n",
                            "      <td>ml</td>\n",
                            "    </tr>\n",
                            "  </tbody>\n",
                            "</table>\n",
                            "</div>"
                        ],
                        "text/plain": [
                            "         subject_id   hadm_id   stay_id  caregiver_id            charttime  \\\n",
                            "4234962    19999987  23865745  36195440         86756  2145-11-03 05:00:00   \n",
                            "4234963    19999987  23865745  36195440         86756  2145-11-03 05:48:00   \n",
                            "4234964    19999987  23865745  36195440         86756  2145-11-03 07:00:00   \n",
                            "4234965    19999987  23865745  36195440         90295  2145-11-02 23:25:00   \n",
                            "4234966    19999987  23865745  36195440         91879  2145-11-04 20:03:00   \n",
                            "\n",
                            "                   storetime  itemid  value valueuom  \n",
                            "4234962  2145-11-03 05:48:00  226559   25.0       ml  \n",
                            "4234963  2145-11-03 05:48:00  226576  300.0       ml  \n",
                            "4234964  2145-11-03 07:00:00  226559   30.0       ml  \n",
                            "4234965  2145-11-02 23:25:00  226627  200.0       ml  \n",
                            "4234966  2145-11-04 20:03:00  226560  325.0       ml  "
                        ]
                    },
                    "execution_count": 5,
                    "metadata": {},
                    "output_type": "execute_result"
                }
            ],
            "source": [
                "outputs = pd.read_csv(path_data + '/raw/icu/outputevents.csv.gz')\n",
                "outputs.tail()"
            ]
        },
        {
            "cell_type": "code",
            "execution_count": 6,
            "metadata": {},
            "outputs": [
                {
                    "name": "stdout",
                    "output_type": "stream",
                    "text": [
                        "Number of patients remaining in the database: \n",
                        "41780\n"
                    ]
                }
            ],
            "source": [
                "# only choose previously selected admission ids\n",
                "adm_ids=list(adm['hadm_id'])\n",
                "outputs=outputs.loc[outputs['hadm_id'].isin(adm_ids)]\n",
                "\n",
                "print('Number of patients remaining in the database: ')\n",
                "print(outputs['subject_id'].nunique())"
            ]
        },
        {
            "cell_type": "code",
            "execution_count": 7,
            "metadata": {},
            "outputs": [
                {
                    "name": "stdout",
                    "output_type": "stream",
                    "text": [
                        "Number of patients remaining in the database: \n",
                        "41780\n"
                    ]
                }
            ],
            "source": [
                "# get item names\n",
                "item_id=pd.read_csv(path_data + '/raw/icu/d_items.csv.gz')\n",
                "item_id_1=item_id[['itemid','label']]\n",
                "item_id_1.head()\n",
                "\n",
                "outputs_2=pd.merge(outputs,item_id_1,on='itemid')\n",
                "outputs_2.head()\n",
                "print('Number of patients remaining in the database: ')\n",
                "print(outputs_2['subject_id'].nunique())"
            ]
        },
        {
            "cell_type": "code",
            "execution_count": 8,
            "metadata": {},
            "outputs": [
                {
                    "name": "stdout",
                    "output_type": "stream",
                    "text": [
                        "Number of patients remaining in the database: \n",
                        "41621\n",
                        "Number of datapoints remaining in the database: \n",
                        "3506859\n"
                    ]
                }
            ],
            "source": [
                "#Select entries\n",
                "outputs_label_list=['Foley', 'Void', 'OR Urine', 'Chest Tube #1', 'Oral Gastric', 'Pre-Admission', 'TF Residual', 'OR EBL', 'Emesis', 'Nasogastric', 'Stool', 'Jackson Pratt #1', 'Straight Cath', 'TF Residual Output', 'Fecal Bag']\n",
                "outputs_bis=outputs_2.loc[outputs_2['label'].isin(outputs_label_list)].copy()\n",
                "\n",
                "print('Number of patients remaining in the database: ')\n",
                "print(outputs_bis['subject_id'].nunique())\n",
                "print('Number of datapoints remaining in the database: ')\n",
                "print(len(outputs_bis.index))\n",
                "\n",
                "outputs_3=outputs_bis.copy()"
            ]
        },
        {
            "cell_type": "code",
            "execution_count": 9,
            "metadata": {},
            "outputs": [
                {
                    "data": {
                        "text/plain": [
                            "label               valueuom\n",
                            "Chest Tube #1       ml           249449\n",
                            "Emesis              ml             7831\n",
                            "Fecal Bag           ml            11726\n",
                            "Foley               ml          2749279\n",
                            "Jackson Pratt #1    ml            53454\n",
                            "Nasogastric         ml            27250\n",
                            "OR EBL              ml             8903\n",
                            "OR Urine            ml            16155\n",
                            "Oral Gastric        ml            23153\n",
                            "Pre-Admission       ml            10751\n",
                            "Stool               ml            13590\n",
                            "Straight Cath       ml             9375\n",
                            "TF Residual         ml            75858\n",
                            "TF Residual Output  ml             7366\n",
                            "Void                ml           242719\n",
                            "Name: valueuom, dtype: int64"
                        ]
                    },
                    "execution_count": 9,
                    "metadata": {},
                    "output_type": "execute_result"
                }
            ],
            "source": [
                "# Verification that all input labels have the same amounts units\n",
                "outputs_3.groupby('label')['valueuom'].value_counts() "
            ]
        },
        {
            "cell_type": "code",
            "execution_count": 10,
            "metadata": {},
            "outputs": [],
            "source": [
                "outputs_3.to_csv(path_data + '/processed/outputs_processed.csv')"
            ]
        }
    ],
    "metadata": {
        "kernelspec": {
            "display_name": "Python 3 (ipykernel)",
            "language": "python",
            "name": "python3"
        },
        "language_info": {
            "codemirror_mode": {
                "name": "ipython",
                "version": 3
            },
            "file_extension": ".py",
            "mimetype": "text/x-python",
            "name": "python",
            "nbconvert_exporter": "python",
            "pygments_lexer": "ipython3",
            "version": "3.8.16"
        },
        "vscode": {
            "interpreter": {
                "hash": "31f2aee4e71d21fbe5cf8b01ff0e069b9275f58929596ceb00d14d90e3e16cd6"
            }
        }
    },
    "nbformat": 4,
    "nbformat_minor": 4
}
