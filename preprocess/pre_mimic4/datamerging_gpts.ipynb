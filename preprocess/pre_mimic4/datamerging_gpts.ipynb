{
    "cells": [
        {
            "cell_type": "code",
            "execution_count": 1,
            "id": "0e16786e",
            "metadata": {},
            "outputs": [],
            "source": [
                "import os\n",
                "from pathlib import Path\n",
                "import numpy as np\n",
                "import pandas as pd\n",
                "from datetime import timedelta\n",
                "\n",
                "# p_project = Path(__file__).parents[2]\n",
                "p_project = Path(os.getcwd()).parents[1]\n",
                "path_m4 = p_project/'data/mimic4'"
            ]
        },
        {
            "cell_type": "code",
            "execution_count": 2,
            "id": "c8c64cf0",
            "metadata": {},
            "outputs": [
                {
                    "name": "stderr",
                    "output_type": "stream",
                    "text": [
                        "/tmp/ipykernel_3169417/1552399567.py:3: DtypeWarning: Columns (12) have mixed types. Specify dtype option on import or set low_memory=False.\n",
                        "  inputs_df = pd.read_csv(path_m4/'processed/inputs_processed.csv')[\n",
                        "/tmp/ipykernel_3169417/1552399567.py:7: DtypeWarning: Columns (12,15,18) have mixed types. Specify dtype option on import or set low_memory=False.\n",
                        "  presc_df = pd.read_csv(path_m4/'processed/prescriptions_processed.csv')[\n"
                    ]
                }
            ],
            "source": [
                "lab_df = pd.read_csv(path_m4/'processed/lab_processed.csv')[\n",
                "    ['subject_id', 'hadm_id', 'charttime', 'valuenum', 'label']]\n",
                "inputs_df = pd.read_csv(path_m4/'processed/inputs_processed.csv')[\n",
                "    ['subject_id', 'hadm_id', 'charttime', 'amount', 'label']]\n",
                "outputs_df = pd.read_csv(path_m4/'processed/outputs_processed.csv')[\n",
                "    ['subject_id', 'hadm_id', 'charttime', 'value', 'label']]\n",
                "presc_df = pd.read_csv(path_m4/'processed/prescriptions_processed.csv')[\n",
                "    ['subject_id', 'hadm_id', 'charttime', 'dose_val_rx', 'drug']]\n",
                "charts_df = pd.read_csv(path_m4/'processed/charts_processed.csv')[\n",
                "    ['subject_id', 'hadm_id', 'charttime', 'valuenum', 'label']]\n",
                "\n",
                "# Change the name of amount. Valuenum for every table\n",
                "inputs_df['valuenum'] = inputs_df['amount']\n",
                "inputs_df = inputs_df.drop(columns=['amount']).copy()\n",
                "\n",
                "outputs_df['valuenum'] = outputs_df['value']\n",
                "outputs_df = outputs_df.drop(columns=['value']).copy()\n",
                "\n",
                "presc_df['valuenum'] = presc_df['dose_val_rx']\n",
                "presc_df = presc_df.drop(columns=['dose_val_rx']).copy()\n",
                "presc_df['label'] = presc_df['drug']\n",
                "presc_df = presc_df.drop(columns=['drug']).copy()\n",
                "\n",
                "# Tag to distinguish between lab and inputs events\n",
                "inputs_df['Origin'] = 'Inputs'\n",
                "lab_df['Origin'] = 'Lab'\n",
                "outputs_df['Origin'] = 'Outputs'\n",
                "presc_df['Origin'] = 'Prescriptions'\n",
                "charts_df['Origin'] = 'Charts'\n",
                "\n",
                "merged_df = pd.concat((inputs_df, lab_df, charts_df, outputs_df, presc_df)).reset_index()\n",
                "\n",
                "# Check that all labels have different names.\n",
                "assert(merged_df['label'].nunique() == (inputs_df['label'].nunique()+lab_df['label'].nunique()\n",
                "                                        +charts_df['label'].nunique()+outputs_df['label'].nunique()\n",
                "                                        +presc_df['label'].nunique()))"
            ]
        },
        {
            "cell_type": "code",
            "execution_count": 3,
            "id": "2125dcee",
            "metadata": {},
            "outputs": [],
            "source": [
                "ids_set = set(lab_df['hadm_id'].unique()) & set(inputs_df['hadm_id'].unique()) & set(outputs_df['hadm_id'].unique()) & set(presc_df['hadm_id'].unique()) & set(charts_df['hadm_id'].unique())\n",
                "\n",
                "merged_df = merged_df.loc[merged_df['hadm_id'].isin(ids_set)]"
            ]
        },
        {
            "cell_type": "code",
            "execution_count": 4,
            "id": "38be1987",
            "metadata": {},
            "outputs": [
                {
                    "data": {
                        "text/html": [
                            "<div>\n",
                            "<style scoped>\n",
                            "    .dataframe tbody tr th:only-of-type {\n",
                            "        vertical-align: middle;\n",
                            "    }\n",
                            "\n",
                            "    .dataframe tbody tr th {\n",
                            "        vertical-align: top;\n",
                            "    }\n",
                            "\n",
                            "    .dataframe thead th {\n",
                            "        text-align: right;\n",
                            "    }\n",
                            "</style>\n",
                            "<table border=\"1\" class=\"dataframe\">\n",
                            "  <thead>\n",
                            "    <tr style=\"text-align: right;\">\n",
                            "      <th></th>\n",
                            "      <th>index</th>\n",
                            "      <th>subject_id</th>\n",
                            "      <th>hadm_id</th>\n",
                            "      <th>charttime</th>\n",
                            "      <th>label</th>\n",
                            "      <th>valuenum</th>\n",
                            "      <th>Origin</th>\n",
                            "    </tr>\n",
                            "  </thead>\n",
                            "  <tbody>\n",
                            "    <tr>\n",
                            "      <th>0</th>\n",
                            "      <td>0</td>\n",
                            "      <td>10001725</td>\n",
                            "      <td>25563031.0</td>\n",
                            "      <td>2110-04-11 20:51:00</td>\n",
                            "      <td>Magnesium Sulfate</td>\n",
                            "      <td>0.5</td>\n",
                            "      <td>Inputs</td>\n",
                            "    </tr>\n",
                            "    <tr>\n",
                            "      <th>1</th>\n",
                            "      <td>1</td>\n",
                            "      <td>10001725</td>\n",
                            "      <td>25563031.0</td>\n",
                            "      <td>2110-04-11 21:21:00</td>\n",
                            "      <td>Magnesium Sulfate</td>\n",
                            "      <td>0.5</td>\n",
                            "      <td>Inputs</td>\n",
                            "    </tr>\n",
                            "    <tr>\n",
                            "      <th>2</th>\n",
                            "      <td>2</td>\n",
                            "      <td>10001725</td>\n",
                            "      <td>25563031.0</td>\n",
                            "      <td>2110-04-11 21:51:00</td>\n",
                            "      <td>Magnesium Sulfate</td>\n",
                            "      <td>0.5</td>\n",
                            "      <td>Inputs</td>\n",
                            "    </tr>\n",
                            "    <tr>\n",
                            "      <th>3</th>\n",
                            "      <td>3</td>\n",
                            "      <td>10001725</td>\n",
                            "      <td>25563031.0</td>\n",
                            "      <td>2110-04-11 22:21:00</td>\n",
                            "      <td>Magnesium Sulfate</td>\n",
                            "      <td>0.5</td>\n",
                            "      <td>Inputs</td>\n",
                            "    </tr>\n",
                            "    <tr>\n",
                            "      <th>4</th>\n",
                            "      <td>4</td>\n",
                            "      <td>10001725</td>\n",
                            "      <td>25563031.0</td>\n",
                            "      <td>2110-04-11 22:31:00</td>\n",
                            "      <td>Magnesium Sulfate</td>\n",
                            "      <td>0.5</td>\n",
                            "      <td>Inputs</td>\n",
                            "    </tr>\n",
                            "  </tbody>\n",
                            "</table>\n",
                            "</div>"
                        ],
                        "text/plain": [
                            "   index  subject_id     hadm_id            charttime              label  \\\n",
                            "0      0    10001725  25563031.0  2110-04-11 20:51:00  Magnesium Sulfate   \n",
                            "1      1    10001725  25563031.0  2110-04-11 21:21:00  Magnesium Sulfate   \n",
                            "2      2    10001725  25563031.0  2110-04-11 21:51:00  Magnesium Sulfate   \n",
                            "3      3    10001725  25563031.0  2110-04-11 22:21:00  Magnesium Sulfate   \n",
                            "4      4    10001725  25563031.0  2110-04-11 22:31:00  Magnesium Sulfate   \n",
                            "\n",
                            "   valuenum  Origin  \n",
                            "0       0.5  Inputs  \n",
                            "1       0.5  Inputs  \n",
                            "2       0.5  Inputs  \n",
                            "3       0.5  Inputs  \n",
                            "4       0.5  Inputs  "
                        ]
                    },
                    "execution_count": 4,
                    "metadata": {},
                    "output_type": "execute_result"
                }
            ],
            "source": [
                "merged_df.head()"
            ]
        },
        {
            "cell_type": "code",
            "execution_count": 5,
            "id": "7247d181",
            "metadata": {},
            "outputs": [],
            "source": [
                "icustay_df = pd.read_csv(path_m4/'raw/icu/icustays.csv.gz', compression='gzip')\n",
                "\n",
                "icustay_df['outtime'] = pd.to_datetime(icustay_df['outtime'])\n",
                "\n",
                "merged_df_tmp=pd.merge(merged_df, icustay_df[['hadm_id', 'outtime']], on='hadm_id')\n",
                "\n",
                "merged_df_tmp2 = merged_df_tmp[merged_df_tmp['charttime'] <= merged_df_tmp['outtime']]\n",
                "\n",
                "merged_df = merged_df_tmp2.drop(columns=['outtime']).copy()"
            ]
        },
        {
            "cell_type": "code",
            "execution_count": 6,
            "id": "95861979",
            "metadata": {},
            "outputs": [],
            "source": [
                "# set the timestamp as the time delta between the first chart time for each admission\n",
                "merged_df['charttime'] = pd.to_datetime(\n",
                "    merged_df['charttime'], format='%Y-%m-%d %H:%M:%S')\n",
                "ref_time = merged_df.groupby('hadm_id')['charttime'].min()\n",
                "merged_df_1 = pd.merge(ref_time.to_frame(name='ref_time'),\n",
                "                       merged_df, left_index=True, right_on='hadm_id')\n",
                "merged_df_1['time_stamp'] = merged_df_1['charttime']-merged_df_1['ref_time']\n",
                "assert(len(merged_df_1.loc[merged_df_1['time_stamp']\n",
                "       < timedelta(hours=0)].index) == 0)\n",
                "\n",
                "# Create a label code (int) for the labels.\n",
                "label_dict = dict(zip(list(merged_df_1['label'].unique()), range(\n",
                "    len(list(merged_df_1['label'].unique())))))\n",
                "merged_df_1['label_code'] = merged_df_1['label'].map(label_dict)\n",
                "\n",
                "label_dict_df = pd.Series(merged_df_1['label'].unique()).reset_index()\n",
                "label_dict_df.columns = ['index', 'label']\n",
                "label_dict_df['label_code'] = label_dict_df['label'].map(label_dict)\n",
                "label_dict_df.drop(columns=['index'], inplace=True)\n",
                "label_dict_df.to_csv(path_m4/'processed/variable_name_dict.csv')\n",
                "\n",
                "merged_df_short = merged_df_1[['hadm_id', 'valuenum', 'time_stamp', 'label_code']].rename(\n",
                "    columns={'hadm_id': 'ID', 'time_stamp': 'Time'})\n",
                "\n",
                "# The sampling interval is 1 minute\n",
                "merged_df_short['Time'] = merged_df_short['Time'].dt.total_seconds().div(60).astype(int)"
            ]
        },
        {
            "cell_type": "code",
            "execution_count": 10,
            "id": "e927c733",
            "metadata": {},
            "outputs": [],
            "source": [
                "value_df = pd.pivot_table(merged_df_short, values='valuenum', index=[\n",
                "                          'ID', 'Time'], columns=['label_code'], aggfunc=np.max)\n",
                "mask_df = value_df.notna()\n",
                "\n",
                "d_values = {}\n",
                "d_masks = {}\n",
                "for i in value_df.columns:\n",
                "    d_values[i] = \"Value_\" + str(i)\n",
                "    d_masks[i] = \"Mask_\" + str(i)\n",
                "    \n",
                "value_df.rename(columns=d_values, inplace=True)\n",
                "mask_df.rename(columns=d_masks, inplace=True)\n",
                "\n",
                "value_df.fillna(0, inplace=True)\n",
                "mask_df = mask_df.astype(int)\n",
                "\n",
                "value_df.reset_index(inplace=True)\n",
                "mask_df.reset_index(inplace=True)\n",
                "\n",
                "value_df.to_csv(path_m4/'processed/tmp_value_df.csv')\n",
                "mask_df.to_csv(path_m4/'processed/tmp_mask_df.csv')"
            ]
        },
        {
            "cell_type": "code",
            "execution_count": null,
            "id": "54432c42",
            "metadata": {},
            "outputs": [],
            "source": []
        },
        {
            "cell_type": "code",
            "execution_count": null,
            "id": "59b83fa0",
            "metadata": {},
            "outputs": [],
            "source": [
                "import gc\n",
                "\n",
                "del inputs_df, lab_df, outputs_df, presc_df, charts_df, merged_df, merged_df_tmp, merged_df_tmp2, merged_df_1, merged_df_short, value_df, mask_df, label_dict_df, label_dict, ref_time, icustay_df, ids_set\n",
                "\n",
                "gc.collect()"
            ]
        },
        {
            "cell_type": "code",
            "execution_count": 2,
            "id": "b8fbc53c",
            "metadata": {},
            "outputs": [],
            "source": [
                "df = pd.DataFrame()\n",
                "for chunk1, chunk2 in zip(pd.read_csv(path_m4/'processed/tmp_value_df.csv', chunksize=2000000), pd.read_csv(path_m4/'processed/tmp_mask_df.csv', chunksize=2000000)):\n",
                "    df_tmp = pd.merge(chunk1, chunk2, on=['ID', 'Time'])\n",
                "    df = pd.concat((df, df_tmp))\n",
                "    \n",
                "df['ID'] = df['ID'].astype(int)\n",
                "df.to_csv(path_m4/'processed/mimic4_full_dataset_gpts_rough.csv')"
            ]
        },
        {
            "cell_type": "code",
            "execution_count": 1,
            "id": "ffb09517",
            "metadata": {},
            "outputs": [],
            "source": [
                "! cd ../../ && cut --complement -f 1,2,118 -d ',' data/mimic4/processed/mimic4_full_dataset_gpts_rough.csv | sort -g -t ',' -k1 -k2 > data/mimic4/processed/mimic4_full_dataset_gpts.csv"
            ]
        },
        {
            "cell_type": "code",
            "execution_count": null,
            "id": "cfadcd3e",
            "metadata": {},
            "outputs": [],
            "source": []
        },
        {
            "cell_type": "code",
            "execution_count": 4,
            "id": "e13cd058",
            "metadata": {},
            "outputs": [],
            "source": [
                "df_tmp = pd.read_csv(path_m4/'processed/mimic4_full_dataset_gpts.csv', \n",
                "                    usecols=[0,1], index_col=0)"
            ]
        },
        {
            "cell_type": "code",
            "execution_count": 5,
            "id": "19ab7e94",
            "metadata": {},
            "outputs": [
                {
                    "data": {
                        "text/html": [
                            "<div>\n",
                            "<style scoped>\n",
                            "    .dataframe tbody tr th:only-of-type {\n",
                            "        vertical-align: middle;\n",
                            "    }\n",
                            "\n",
                            "    .dataframe tbody tr th {\n",
                            "        vertical-align: top;\n",
                            "    }\n",
                            "\n",
                            "    .dataframe thead th {\n",
                            "        text-align: right;\n",
                            "    }\n",
                            "</style>\n",
                            "<table border=\"1\" class=\"dataframe\">\n",
                            "  <thead>\n",
                            "    <tr style=\"text-align: right;\">\n",
                            "      <th></th>\n",
                            "      <th>Time</th>\n",
                            "    </tr>\n",
                            "    <tr>\n",
                            "      <th>ID</th>\n",
                            "      <th></th>\n",
                            "    </tr>\n",
                            "  </thead>\n",
                            "  <tbody>\n",
                            "    <tr>\n",
                            "      <th>20000147</th>\n",
                            "      <td>0</td>\n",
                            "    </tr>\n",
                            "    <tr>\n",
                            "      <th>20000147</th>\n",
                            "      <td>510</td>\n",
                            "    </tr>\n",
                            "    <tr>\n",
                            "      <th>20000147</th>\n",
                            "      <td>578</td>\n",
                            "    </tr>\n",
                            "    <tr>\n",
                            "      <th>20000147</th>\n",
                            "      <td>599</td>\n",
                            "    </tr>\n",
                            "    <tr>\n",
                            "      <th>20000147</th>\n",
                            "      <td>693</td>\n",
                            "    </tr>\n",
                            "  </tbody>\n",
                            "</table>\n",
                            "</div>"
                        ],
                        "text/plain": [
                            "          Time\n",
                            "ID            \n",
                            "20000147     0\n",
                            "20000147   510\n",
                            "20000147   578\n",
                            "20000147   599\n",
                            "20000147   693"
                        ]
                    },
                    "execution_count": 5,
                    "metadata": {},
                    "output_type": "execute_result"
                }
            ],
            "source": [
                "df_tmp.head()"
            ]
        },
        {
            "cell_type": "code",
            "execution_count": 6,
            "id": "9b838103",
            "metadata": {},
            "outputs": [
                {
                    "data": {
                        "text/plain": [
                            "51373"
                        ]
                    },
                    "execution_count": 6,
                    "metadata": {},
                    "output_type": "execute_result"
                }
            ],
            "source": [
                "df_tmp.index.nunique()"
            ]
        },
        {
            "cell_type": "code",
            "execution_count": 7,
            "id": "60a4feb1",
            "metadata": {},
            "outputs": [],
            "source": [
                "num_obs = df_tmp.groupby('ID')['Time'].count().sort_values()"
            ]
        },
        {
            "cell_type": "code",
            "execution_count": 8,
            "id": "ee3f35e8",
            "metadata": {},
            "outputs": [
                {
                    "data": {
                        "text/plain": [
                            "<Axes: >"
                        ]
                    },
                    "execution_count": 8,
                    "metadata": {},
                    "output_type": "execute_result"
                },
                {
                    "data": {
                        "image/png": "[encoded data removed]",
                        "text/plain": [
                            "<Figure size 640x480 with 1 Axes>"
                        ]
                    },
                    "metadata": {},
                    "output_type": "display_data"
                }
            ],
            "source": [
                "num_obs.hist(bins=100)"
            ]
        },
        {
            "cell_type": "code",
            "execution_count": 9,
            "id": "4346294b",
            "metadata": {},
            "outputs": [
                {
                    "data": {
                        "text/plain": [
                            "count    51373.000000\n",
                            "mean       431.850758\n",
                            "std        687.038156\n",
                            "min         12.000000\n",
                            "25%        119.000000\n",
                            "50%        208.000000\n",
                            "75%        435.000000\n",
                            "max      25420.000000\n",
                            "Name: Time, dtype: float64"
                        ]
                    },
                    "execution_count": 9,
                    "metadata": {},
                    "output_type": "execute_result"
                }
            ],
            "source": [
                "num_obs.describe()"
            ]
        },
        {
            "cell_type": "code",
            "execution_count": null,
            "id": "de5b0395",
            "metadata": {},
            "outputs": [],
            "source": []
        },
        {
            "cell_type": "code",
            "execution_count": 2,
            "id": "12b3a49f",
            "metadata": {},
            "outputs": [
                {
                    "ename": "",
                    "evalue": "",
                    "output_type": "error",
                    "traceback": [
                        "\u001b[1;31mCannot execute code, session has been disposed. Please try restarting the Kernel."
                    ]
                },
                {
                    "ename": "",
                    "evalue": "",
                    "output_type": "error",
                    "traceback": [
                        "\u001b[1;31mThe Kernel crashed while executing code in the the current cell or a previous cell. Please review the code in the cell(s) to identify a possible cause of the failure. Click <a href='https://aka.ms/vscodeJupyterKernelCrash'>here</a> for more info. View Jupyter <a href='command:jupyter.viewOutput'>log</a> for further details."
                    ]
                }
            ],
            "source": [
                "df_tmp = pd.read_csv(path_m4/'processed/mimic4_full_dataset_gpts.csv', index_col=0)"
            ]
        },
        {
            "cell_type": "code",
            "execution_count": 2,
            "id": "1b16af23",
            "metadata": {},
            "outputs": [
                {
                    "ename": "",
                    "evalue": "",
                    "output_type": "error",
                    "traceback": [
                        "\u001b[1;31mCannot execute code, session has been disposed. Please try restarting the Kernel."
                    ]
                },
                {
                    "ename": "",
                    "evalue": "",
                    "output_type": "error",
                    "traceback": [
                        "\u001b[1;31mThe Kernel crashed while executing code in the the current cell or a previous cell. Please review the code in the cell(s) to identify a possible cause of the failure. Click <a href='https://aka.ms/vscodeJupyterKernelCrash'>here</a> for more info. View Jupyter <a href='command:jupyter.viewOutput'>log</a> for further details."
                    ]
                }
            ],
            "source": [
                "import csv\n",
                "import h5py\n",
                "\n",
                "def csv_to_hdf(csv_file, hdf_file, dataset_name='data'):\n",
                "    # Open the CSV file for reading\n",
                "    with open(csv_file, 'r') as csvfile:\n",
                "        csvreader = csv.reader(csvfile)\n",
                "        data = list(csvreader)\n",
                "\n",
                "    # Create an HDF5 file\n",
                "    with h5py.File(hdf_file, 'w') as hdf:\n",
                "        # Create a dataset in the HDF5 file\n",
                "        hdf.create_dataset(dataset_name, data=data)\n",
                "\n",
                "# Convert CSV to HDF5\n",
                "csv_to_hdf(path_m4/'processed/mimic4_full_dataset_gpts.csv', path_m4/'processed/mimic4_full_dataset_gpts.h5')\n"
            ]
        },
        {
            "cell_type": "code",
            "execution_count": null,
            "id": "6ed3f39b",
            "metadata": {},
            "outputs": [],
            "source": [
                "import os\n",
                "import pandas as pd\n",
                "\n",
                "# Path to the large CSV file\n",
                "large_csv_path = path_m4/'processed/mimic4_full_dataset_gpts.csv'\n",
                "\n",
                "# Name of the field to split the CSV file\n",
                "split_field = 'ID'\n",
                "\n",
                "# Create a directory to store the small CSV files\n",
                "output_dir = path_m4/'processed/split'\n",
                "\n",
                "# Read the large CSV file in chunks\n",
                "chunk_size = 1000000  # Adjust the chunk size according to your memory capacity\n",
                "reader = pd.read_csv(large_csv_path, chunksize=chunk_size)\n",
                "\n",
                "# Iterate over each chunk\n",
                "for i, chunk in enumerate(reader):\n",
                "    # Group the chunk by the split field\n",
                "    groups = chunk.groupby(split_field)\n",
                "    \n",
                "    # Iterate over each group\n",
                "    for group_name, group_data in groups:\n",
                "        # Generate the output file path based on the group name\n",
                "        output_file = os.path.join(output_dir, f'{group_name}.csv')\n",
                "        \n",
                "        # Save the group data to a small CSV file\n",
                "        group_data.to_csv(output_file, index=False, mode='a', header=not os.path.exists(output_file))\n",
                "        \n",
                "        print(f'Saved {output_file}')\n",
                "\n",
                "print('Splitting complete.')\n"
            ]
        },
        {
            "cell_type": "code",
            "execution_count": null,
            "id": "114f5cd8",
            "metadata": {},
            "outputs": [],
            "source": []
        },
        {
            "cell_type": "code",
            "execution_count": 3,
            "id": "d646b5cb",
            "metadata": {},
            "outputs": [],
            "source": [
                "import csv\n",
                "import math\n",
                "\n",
                "def normalize_csv(csv_path, fields_to_normalize):\n",
                "    # Open the input CSV file for reading\n",
                "    with open(csv_path, 'r') as input_file:\n",
                "        reader = csv.reader(input_file)\n",
                "        \n",
                "        # Read the header row\n",
                "        header = next(reader)\n",
                "        \n",
                "        # Find the indices of the fields to normalize\n",
                "        field_indices = [header.index(field) for field in fields_to_normalize]\n",
                "        \n",
                "        # Initialize lists to store the values of the fields\n",
                "        field_values = [[] for _ in field_indices]\n",
                "        \n",
                "        # Read and process each row\n",
                "        for row in reader:\n",
                "            for i, index in enumerate(field_indices):\n",
                "                value = float(row[index])  # Convert the value to float\n",
                "                field_values[i].append(value)\n",
                "    \n",
                "    # Calculate the mean and standard deviation for each field\n",
                "    means = [sum(values) / len(values) for values in field_values]\n",
                "    std_devs = [math.sqrt(sum((value - mean) ** 2 for value in values) / len(values)) for values, mean in zip(field_values, means)]\n",
                "    \n",
                "    # Open the input CSV file again for normalization\n",
                "    with open(csv_path, 'r') as input_file:\n",
                "        reader = csv.reader(input_file)\n",
                "        \n",
                "        # Create a new CSV file for writing the normalized data\n",
                "        output_path = csv_path.replace('.csv', '_normalized.csv')\n",
                "        with open(output_path, 'w', newline='') as output_file:\n",
                "            writer = csv.writer(output_file)\n",
                "            \n",
                "            # Write the header row to the output file\n",
                "            writer.writerow(header)\n",
                "            \n",
                "            # Read and normalize each row\n",
                "            for row in reader:\n",
                "                normalized_row = []\n",
                "                for i, index in enumerate(field_indices):\n",
                "                    value = float(row[index])  # Convert the value to float\n",
                "                    mean = means[i]\n",
                "                    std_dev = std_devs[i]\n",
                "                    normalized_value = (value - mean) / std_dev\n",
                "                    normalized_row.append(normalized_value)\n",
                "                \n",
                "                # Append the remaining fields as-is\n",
                "                normalized_row.extend(row[index + 1:] for index in field_indices)\n",
                "                \n",
                "                # Write the normalized row to the output file\n",
                "                writer.writerow(normalized_row)\n",
                "    \n",
                "    print(f'Normalization complete. Normalized data saved to {output_path}')\n",
                "\n",
                "\n",
                "# Example usage\n",
                "csv_path = path_m4/'processed/mimic4_full_dataset_gpts.csv'\n",
                "\n",
                "fields_to_normalize = []\n",
                "for i in range(113):\n",
                "    fields_to_normalize.append(\"Value_\" + str(i))\n",
                "    \n",
                "normalize_csv(csv_path, fields_to_normalize)\n"
            ]
        },
        {
            "cell_type": "code",
            "execution_count": null,
            "id": "0ada6b5a",
            "metadata": {},
            "outputs": [],
            "source": []
        },
        {
            "cell_type": "code",
            "execution_count": 6,
            "id": "f255cb87",
            "metadata": {},
            "outputs": [],
            "source": [
                "import pandas as pd\n",
                "\n",
                "p_project\n",
                "\n",
                "\n",
                "tmp_df = pd.read_csv(p_project/'tmp44.info')"
            ]
        },
        {
            "cell_type": "code",
            "execution_count": 9,
            "id": "8c58df2a",
            "metadata": {},
            "outputs": [
                {
                    "data": {
                        "text/plain": [
                            "<Axes: >"
                        ]
                    },
                    "execution_count": 9,
                    "metadata": {},
                    "output_type": "execute_result"
                },
                {
                    "data": {
                        "image/png": "[encoded data removed]",
                        "text/plain": [
                            "<Figure size 640x480 with 1 Axes>"
                        ]
                    },
                    "metadata": {},
                    "output_type": "display_data"
                }
            ],
            "source": [
                "tmp_df[\"Value_1\"].hist(bins=100)"
            ]
        },
        {
            "cell_type": "code",
            "execution_count": 11,
            "id": "54804b75",
            "metadata": {},
            "outputs": [
                {
                    "data": {
                        "text/plain": [
                            "count    2.218547e+07\n",
                            "mean    -6.286593e-16\n",
                            "std      1.620905e-01\n",
                            "min     -4.985253e-01\n",
                            "25%      0.000000e+00\n",
                            "50%      0.000000e+00\n",
                            "75%      0.000000e+00\n",
                            "max      2.373112e+02\n",
                            "Name: Value_1, dtype: float64"
                        ]
                    },
                    "execution_count": 11,
                    "metadata": {},
                    "output_type": "execute_result"
                }
            ],
            "source": [
                "tmp_df[\"Value_1\"].describe()"
            ]
        },
        {
            "cell_type": "code",
            "execution_count": null,
            "id": "34b96f92",
            "metadata": {},
            "outputs": [],
            "source": []
        },
        {
            "cell_type": "code",
            "execution_count": null,
            "id": "bc6711f7",
            "metadata": {},
            "outputs": [],
            "source": []
        }
    ],
    "metadata": {
        "kernelspec": {
            "display_name": "Python 3.8.12 ('transfer_ehr')",
            "language": "python",
            "name": "python3"
        },
        "language_info": {
            "codemirror_mode": {
                "name": "ipython",
                "version": 3
            },
            "file_extension": ".py",
            "mimetype": "text/x-python",
            "name": "python",
            "nbconvert_exporter": "python",
            "pygments_lexer": "ipython3",
            "version": "3.8.16"
        },
        "vscode": {
            "interpreter": {
                "hash": "5ae865abb88ad0a991db65fb0a3113ce9d7dd5f50b65ef8b203d3356ff36831c"
            }
        }
    },
    "nbformat": 4,
    "nbformat_minor": 5
}
