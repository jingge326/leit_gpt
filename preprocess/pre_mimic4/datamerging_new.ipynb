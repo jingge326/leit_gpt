{
    "cells": [
        {
            "cell_type": "code",
            "execution_count": 1,
            "id": "0e16786e",
            "metadata": {},
            "outputs": [],
            "source": [
                "import os\n",
                "from pathlib import Path\n",
                "import numpy as np\n",
                "import pandas as pd\n",
                "from datetime import timedelta\n",
                "\n",
                "# p_project = Path(__file__).parents[2]\n",
                "p_project = Path(os.getcwd()).parents[1]\n",
                "path_m4 = p_project/'data/mimic4'"
            ]
        },
        {
            "cell_type": "code",
            "execution_count": 5,
            "id": "c8c64cf0",
            "metadata": {},
            "outputs": [
                {
                    "name": "stderr",
                    "output_type": "stream",
                    "text": [
                        "/tmp/ipykernel_761391/4199856774.py:7: DtypeWarning: Columns (12) have mixed types. Specify dtype option on import or set low_memory=False.\n",
                        "  inputs_df = pd.read_csv(path_m4/'processed/tables/inputs_processed.csv')[\n",
                        "/tmp/ipykernel_761391/4199856774.py:11: DtypeWarning: Columns (8,11,14) have mixed types. Specify dtype option on import or set low_memory=False.\n",
                        "  presc_df = pd.read_csv(path_m4/'processed/tables/prescriptions_processed.csv')[\n"
                    ]
                }
            ],
            "source": [
                "lab_df = pd.read_csv(path_m4/'processed/tables/lab_processed.csv')[\n",
                "    ['subject_id', 'hadm_id', 'charttime', 'valuenum', 'label']]\n",
                "inputs_df = pd.read_csv(path_m4/'processed/tables/inputs_processed.csv')[\n",
                "    ['subject_id', 'hadm_id', 'charttime', 'amount', 'label']]\n",
                "outputs_df = pd.read_csv(path_m4/'processed/tables/outputs_processed.csv')[\n",
                "    ['subject_id', 'hadm_id', 'charttime', 'value', 'label']]\n",
                "presc_df = pd.read_csv(path_m4/'processed/tables/prescriptions_processed.csv')[\n",
                "    ['subject_id', 'hadm_id', 'charttime', 'dose_val_rx', 'drug']]\n",
                "\n",
                "# Change the name of amount. Valuenum for every table\n",
                "inputs_df['valuenum'] = inputs_df['amount']\n",
                "inputs_df = inputs_df.drop(columns=['amount']).copy()\n",
                "\n",
                "outputs_df['valuenum'] = outputs_df['value']\n",
                "outputs_df = outputs_df.drop(columns=['value']).copy()\n",
                "\n",
                "presc_df['valuenum'] = presc_df['dose_val_rx']\n",
                "presc_df = presc_df.drop(columns=['dose_val_rx']).copy()\n",
                "presc_df['label'] = presc_df['drug']\n",
                "presc_df = presc_df.drop(columns=['drug']).copy()\n",
                "\n",
                "# Tag to distinguish between lab and inputs events\n",
                "inputs_df['Origin'] = 'Inputs'\n",
                "lab_df['Origin'] = 'Lab'\n",
                "outputs_df['Origin'] = 'Outputs'\n",
                "presc_df['Origin'] = 'Prescriptions'\n",
                "\n",
                "merged_df = pd.concat((inputs_df, lab_df, outputs_df, presc_df)).reset_index()\n",
                "\n",
                "# Check that all labels have different names.\n",
                "assert(merged_df['label'].nunique() == (inputs_df['label'].nunique(\n",
                ")+lab_df['label'].nunique()+outputs_df['label'].nunique()+presc_df['label'].nunique()))"
            ]
        },
        {
            "cell_type": "code",
            "execution_count": null,
            "id": "95861979",
            "metadata": {},
            "outputs": [],
            "source": [
                "# set the timestamp as the time delta between the first chart time for each admission\n",
                "merged_df['charttime'] = pd.to_datetime(\n",
                "    merged_df['charttime'], format='%Y-%m-%d %H:%M:%S')\n",
                "ref_time = merged_df.groupby('hadm_id')['charttime'].min()\n",
                "merged_df_1 = pd.merge(ref_time.to_frame(name='ref_time'),\n",
                "                       merged_df, left_index=True, right_on='hadm_id')\n",
                "merged_df_1['time_stamp'] = merged_df_1['charttime']-merged_df_1['ref_time']\n",
                "assert(len(merged_df_1.loc[merged_df_1['time_stamp']\n",
                "       < timedelta(hours=0)].index) == 0)\n",
                "\n",
                "# Create a label code (int) for the labels.\n",
                "label_dict = dict(zip(list(merged_df_1['label'].unique()), range(\n",
                "    len(list(merged_df_1['label'].unique())))))\n",
                "merged_df_1['label_code'] = merged_df_1['label'].map(label_dict)\n",
                "\n",
                "label_dict_df = pd.Series(merged_df_1['label'].unique()).reset_index()\n",
                "label_dict_df.columns = ['index', 'label']\n",
                "label_dict_df['label_code'] = label_dict_df['label'].map(label_dict)\n",
                "label_dict_df.drop(columns=['index'], inplace=True)\n",
                "label_dict_df.to_csv(path_m4/'processed/tables/variable_name_dict.csv')\n",
                "\n",
                "merged_df_short = merged_df_1[['hadm_id', 'valuenum', 'time_stamp', 'label_code']].rename(\n",
                "    columns={'hadm_id': 'ID', 'time_stamp': 'Time'})\n",
                "\n",
                "# select patients who have records in both the first 24 hours and the second 24 hours\n",
                "ids_before_24 = merged_df_short.loc[(\n",
                "    merged_df_short['Time'] < timedelta(hours=24))]['ID'].unique()\n",
                "\n",
                "ids_after_24 = merged_df_short.loc[(merged_df_short['Time'] >= timedelta(hours=24)) &\n",
                "                                   (merged_df_short['Time'] < timedelta(hours=48))]['ID'].unique()\n",
                "\n",
                "merged_df_short = merged_df_short.loc[merged_df_short['ID'].isin(\n",
                "    set(ids_before_24) & set(ids_after_24))]\n",
                "\n",
                "# select 48h records\n",
                "merged_df_short = merged_df_short.loc[merged_df_short['Time'] < timedelta(\n",
                "    hours=48)]\n",
                "\n",
                "# The sampling interval is 1 minute\n",
                "merged_df_short['Time'] = merged_df_short['Time'].dt.total_seconds().div(\n",
                "    60).astype(int)\n",
                "assert(len(merged_df_short.loc[merged_df_short['Time'] > 2880].index) == 0)\n",
                "\n",
                "value_df = pd.pivot_table(merged_df_short, values='valuenum', index=[\n",
                "                          'ID', 'Time'], columns=['label_code'], aggfunc=np.max)\n",
                "mask_df = value_df.notna()\n",
                "\n",
                "d_values = {}\n",
                "d_masks = {}\n",
                "for i in value_df.columns:\n",
                "    d_values[i] = \"Value_\" + str(i)\n",
                "    d_masks[i] = \"Mask_\" + str(i)\n",
                "\n",
                "value_df.rename(columns=d_values, inplace=True)\n",
                "mask_df.rename(columns=d_masks, inplace=True)\n",
                "\n",
                "value_df.fillna(0, inplace=True)\n",
                "mask_df = mask_df.astype(int)\n",
                "\n",
                "complete_df = pd.concat((value_df, mask_df), axis=1).reset_index()\n",
                "\n",
                "complete_df['ID'] = complete_df['ID'].astype(int)\n",
                "\n",
                "complete_df.sort_values([\"ID\", \"Time\"], inplace=True)\n"
            ]
        },
        {
            "cell_type": "code",
            "execution_count": 2,
            "id": "0190afa5",
            "metadata": {},
            "outputs": [],
            "source": [
                "complete_df = pd.read_csv(path_m4/'processed/mimic4_full_dataset_old2.csv', index_col=0)"
            ]
        },
        {
            "cell_type": "code",
            "execution_count": null,
            "id": "e964afc9",
            "metadata": {},
            "outputs": [],
            "source": []
        },
        {
            "cell_type": "code",
            "execution_count": 3,
            "id": "7c173967",
            "metadata": {},
            "outputs": [
                {
                    "data": {
                        "text/html": [
                            "<div>\n",
                            "<style scoped>\n",
                            "    .dataframe tbody tr th:only-of-type {\n",
                            "        vertical-align: middle;\n",
                            "    }\n",
                            "\n",
                            "    .dataframe tbody tr th {\n",
                            "        vertical-align: top;\n",
                            "    }\n",
                            "\n",
                            "    .dataframe thead th {\n",
                            "        text-align: right;\n",
                            "    }\n",
                            "</style>\n",
                            "<table border=\"1\" class=\"dataframe\">\n",
                            "  <thead>\n",
                            "    <tr style=\"text-align: right;\">\n",
                            "      <th></th>\n",
                            "      <th>Time</th>\n",
                            "      <th>Value_0</th>\n",
                            "      <th>Value_1</th>\n",
                            "      <th>Value_2</th>\n",
                            "      <th>Value_3</th>\n",
                            "      <th>Value_4</th>\n",
                            "      <th>Value_5</th>\n",
                            "      <th>Value_6</th>\n",
                            "      <th>Value_7</th>\n",
                            "      <th>Value_8</th>\n",
                            "      <th>...</th>\n",
                            "      <th>Mask_86</th>\n",
                            "      <th>Mask_87</th>\n",
                            "      <th>Mask_88</th>\n",
                            "      <th>Mask_89</th>\n",
                            "      <th>Mask_90</th>\n",
                            "      <th>Mask_91</th>\n",
                            "      <th>Mask_92</th>\n",
                            "      <th>Mask_93</th>\n",
                            "      <th>Mask_94</th>\n",
                            "      <th>Mask_95</th>\n",
                            "    </tr>\n",
                            "    <tr>\n",
                            "      <th>ID</th>\n",
                            "      <th></th>\n",
                            "      <th></th>\n",
                            "      <th></th>\n",
                            "      <th></th>\n",
                            "      <th></th>\n",
                            "      <th></th>\n",
                            "      <th></th>\n",
                            "      <th></th>\n",
                            "      <th></th>\n",
                            "      <th></th>\n",
                            "      <th></th>\n",
                            "      <th></th>\n",
                            "      <th></th>\n",
                            "      <th></th>\n",
                            "      <th></th>\n",
                            "      <th></th>\n",
                            "      <th></th>\n",
                            "      <th></th>\n",
                            "      <th></th>\n",
                            "      <th></th>\n",
                            "      <th></th>\n",
                            "    </tr>\n",
                            "  </thead>\n",
                            "  <tbody>\n",
                            "    <tr>\n",
                            "      <th>20000147</th>\n",
                            "      <td>0</td>\n",
                            "      <td>0.0</td>\n",
                            "      <td>0.0</td>\n",
                            "      <td>0.0</td>\n",
                            "      <td>0.0</td>\n",
                            "      <td>0.0</td>\n",
                            "      <td>0.0</td>\n",
                            "      <td>0.0</td>\n",
                            "      <td>0.0</td>\n",
                            "      <td>0.0</td>\n",
                            "      <td>...</td>\n",
                            "      <td>0</td>\n",
                            "      <td>0</td>\n",
                            "      <td>0</td>\n",
                            "      <td>0</td>\n",
                            "      <td>0</td>\n",
                            "      <td>0</td>\n",
                            "      <td>0</td>\n",
                            "      <td>0</td>\n",
                            "      <td>0</td>\n",
                            "      <td>0</td>\n",
                            "    </tr>\n",
                            "    <tr>\n",
                            "      <th>20000147</th>\n",
                            "      <td>578</td>\n",
                            "      <td>0.0</td>\n",
                            "      <td>0.0</td>\n",
                            "      <td>0.0</td>\n",
                            "      <td>0.0</td>\n",
                            "      <td>0.0</td>\n",
                            "      <td>0.0</td>\n",
                            "      <td>0.0</td>\n",
                            "      <td>0.0</td>\n",
                            "      <td>0.0</td>\n",
                            "      <td>...</td>\n",
                            "      <td>0</td>\n",
                            "      <td>0</td>\n",
                            "      <td>0</td>\n",
                            "      <td>0</td>\n",
                            "      <td>0</td>\n",
                            "      <td>0</td>\n",
                            "      <td>0</td>\n",
                            "      <td>0</td>\n",
                            "      <td>0</td>\n",
                            "      <td>0</td>\n",
                            "    </tr>\n",
                            "    <tr>\n",
                            "      <th>20000147</th>\n",
                            "      <td>599</td>\n",
                            "      <td>0.0</td>\n",
                            "      <td>0.0</td>\n",
                            "      <td>0.0</td>\n",
                            "      <td>0.0</td>\n",
                            "      <td>0.0</td>\n",
                            "      <td>0.0</td>\n",
                            "      <td>0.0</td>\n",
                            "      <td>0.0</td>\n",
                            "      <td>0.0</td>\n",
                            "      <td>...</td>\n",
                            "      <td>0</td>\n",
                            "      <td>0</td>\n",
                            "      <td>0</td>\n",
                            "      <td>0</td>\n",
                            "      <td>0</td>\n",
                            "      <td>0</td>\n",
                            "      <td>0</td>\n",
                            "      <td>0</td>\n",
                            "      <td>0</td>\n",
                            "      <td>0</td>\n",
                            "    </tr>\n",
                            "    <tr>\n",
                            "      <th>20000147</th>\n",
                            "      <td>693</td>\n",
                            "      <td>0.0</td>\n",
                            "      <td>0.0</td>\n",
                            "      <td>0.0</td>\n",
                            "      <td>0.0</td>\n",
                            "      <td>0.0</td>\n",
                            "      <td>0.0</td>\n",
                            "      <td>0.0</td>\n",
                            "      <td>0.0</td>\n",
                            "      <td>0.0</td>\n",
                            "      <td>...</td>\n",
                            "      <td>0</td>\n",
                            "      <td>0</td>\n",
                            "      <td>0</td>\n",
                            "      <td>0</td>\n",
                            "      <td>0</td>\n",
                            "      <td>0</td>\n",
                            "      <td>0</td>\n",
                            "      <td>0</td>\n",
                            "      <td>0</td>\n",
                            "      <td>0</td>\n",
                            "    </tr>\n",
                            "    <tr>\n",
                            "      <th>20000147</th>\n",
                            "      <td>720</td>\n",
                            "      <td>0.0</td>\n",
                            "      <td>0.0</td>\n",
                            "      <td>0.0</td>\n",
                            "      <td>0.0</td>\n",
                            "      <td>0.0</td>\n",
                            "      <td>0.0</td>\n",
                            "      <td>0.0</td>\n",
                            "      <td>0.0</td>\n",
                            "      <td>0.0</td>\n",
                            "      <td>...</td>\n",
                            "      <td>0</td>\n",
                            "      <td>0</td>\n",
                            "      <td>0</td>\n",
                            "      <td>0</td>\n",
                            "      <td>0</td>\n",
                            "      <td>0</td>\n",
                            "      <td>0</td>\n",
                            "      <td>0</td>\n",
                            "      <td>0</td>\n",
                            "      <td>0</td>\n",
                            "    </tr>\n",
                            "  </tbody>\n",
                            "</table>\n",
                            "<p>5 rows × 193 columns</p>\n",
                            "</div>"
                        ],
                        "text/plain": [
                            "          Time  Value_0  Value_1  Value_2  Value_3  Value_4  Value_5  Value_6  \\\n",
                            "ID                                                                              \n",
                            "20000147     0      0.0      0.0      0.0      0.0      0.0      0.0      0.0   \n",
                            "20000147   578      0.0      0.0      0.0      0.0      0.0      0.0      0.0   \n",
                            "20000147   599      0.0      0.0      0.0      0.0      0.0      0.0      0.0   \n",
                            "20000147   693      0.0      0.0      0.0      0.0      0.0      0.0      0.0   \n",
                            "20000147   720      0.0      0.0      0.0      0.0      0.0      0.0      0.0   \n",
                            "\n",
                            "          Value_7  Value_8  ...  Mask_86  Mask_87  Mask_88  Mask_89  Mask_90  \\\n",
                            "ID                          ...                                                \n",
                            "20000147      0.0      0.0  ...        0        0        0        0        0   \n",
                            "20000147      0.0      0.0  ...        0        0        0        0        0   \n",
                            "20000147      0.0      0.0  ...        0        0        0        0        0   \n",
                            "20000147      0.0      0.0  ...        0        0        0        0        0   \n",
                            "20000147      0.0      0.0  ...        0        0        0        0        0   \n",
                            "\n",
                            "          Mask_91  Mask_92  Mask_93  Mask_94  Mask_95  \n",
                            "ID                                                     \n",
                            "20000147        0        0        0        0        0  \n",
                            "20000147        0        0        0        0        0  \n",
                            "20000147        0        0        0        0        0  \n",
                            "20000147        0        0        0        0        0  \n",
                            "20000147        0        0        0        0        0  \n",
                            "\n",
                            "[5 rows x 193 columns]"
                        ]
                    },
                    "execution_count": 3,
                    "metadata": {},
                    "output_type": "execute_result"
                }
            ],
            "source": [
                "complete_df.head()"
            ]
        },
        {
            "cell_type": "code",
            "execution_count": 9,
            "id": "d7423fd5",
            "metadata": {},
            "outputs": [
                {
                    "data": {
                        "text/plain": [
                            "(5670039, 193)"
                        ]
                    },
                    "execution_count": 9,
                    "metadata": {},
                    "output_type": "execute_result"
                }
            ],
            "source": [
                "complete_df.shape"
            ]
        },
        {
            "cell_type": "code",
            "execution_count": 10,
            "id": "be2bd4dc",
            "metadata": {},
            "outputs": [],
            "source": [
                "# Calculate the standard deviation of elements along the axis 0. \n",
                "# Turn elements out of 5 times of the standard deviation into 0.\n",
                "def remove_outlier(data, mask, threshold=5):\n",
                "    mean = np.mean(data, axis=0)\n",
                "    std = np.std(data, axis=0)\n",
                "    mask_outlier = abs(data - mean) > threshold * std\n",
                "    data = np.where(mask_outlier, 0, data)\n",
                "    mask = np.where(mask_outlier, 0, mask)\n",
                "    return data, mask\n",
                "\n",
                "value_cols = []\n",
                "mask_cols = []\n",
                "for col in complete_df.columns:\n",
                "    value_cols.append(col.startswith(\"Value\"))\n",
                "    mask_cols.append(col.startswith(\"Mask\"))\n",
                "\n",
                "value = complete_df.loc[:, value_cols].values\n",
                "mask = complete_df.loc[:, mask_cols].values\n",
                "value_new, mask_new = remove_outlier(value, mask)\n",
                "complete_df.loc[:, value_cols] = value_new\n",
                "complete_df.loc[:, mask_cols] = mask_new\n",
                "complete_df = complete_df.loc[complete_df.loc[:, mask_cols].sum(axis=1) > 0]"
            ]
        },
        {
            "cell_type": "code",
            "execution_count": 12,
            "id": "5d5987d3",
            "metadata": {},
            "outputs": [
                {
                    "data": {
                        "text/plain": [
                            "(4928645, 193)"
                        ]
                    },
                    "execution_count": 12,
                    "metadata": {},
                    "output_type": "execute_result"
                }
            ],
            "source": [
                "complete_df.shape"
            ]
        },
        {
            "cell_type": "code",
            "execution_count": 15,
            "id": "32b45828",
            "metadata": {},
            "outputs": [],
            "source": [
                "Mask_df = complete_df.filter(regex='^(?!.*Value).*', axis=1) # Exclude columns with Value in the name"
            ]
        },
        {
            "cell_type": "code",
            "execution_count": 16,
            "id": "bd54c227",
            "metadata": {},
            "outputs": [
                {
                    "data": {
                        "text/html": [
                            "<div>\n",
                            "<style scoped>\n",
                            "    .dataframe tbody tr th:only-of-type {\n",
                            "        vertical-align: middle;\n",
                            "    }\n",
                            "\n",
                            "    .dataframe tbody tr th {\n",
                            "        vertical-align: top;\n",
                            "    }\n",
                            "\n",
                            "    .dataframe thead th {\n",
                            "        text-align: right;\n",
                            "    }\n",
                            "</style>\n",
                            "<table border=\"1\" class=\"dataframe\">\n",
                            "  <thead>\n",
                            "    <tr style=\"text-align: right;\">\n",
                            "      <th></th>\n",
                            "      <th>Time</th>\n",
                            "      <th>Mask_0</th>\n",
                            "      <th>Mask_1</th>\n",
                            "      <th>Mask_2</th>\n",
                            "      <th>Mask_3</th>\n",
                            "      <th>Mask_4</th>\n",
                            "      <th>Mask_5</th>\n",
                            "      <th>Mask_6</th>\n",
                            "      <th>Mask_7</th>\n",
                            "      <th>Mask_8</th>\n",
                            "      <th>...</th>\n",
                            "      <th>Mask_86</th>\n",
                            "      <th>Mask_87</th>\n",
                            "      <th>Mask_88</th>\n",
                            "      <th>Mask_89</th>\n",
                            "      <th>Mask_90</th>\n",
                            "      <th>Mask_91</th>\n",
                            "      <th>Mask_92</th>\n",
                            "      <th>Mask_93</th>\n",
                            "      <th>Mask_94</th>\n",
                            "      <th>Mask_95</th>\n",
                            "    </tr>\n",
                            "    <tr>\n",
                            "      <th>ID</th>\n",
                            "      <th></th>\n",
                            "      <th></th>\n",
                            "      <th></th>\n",
                            "      <th></th>\n",
                            "      <th></th>\n",
                            "      <th></th>\n",
                            "      <th></th>\n",
                            "      <th></th>\n",
                            "      <th></th>\n",
                            "      <th></th>\n",
                            "      <th></th>\n",
                            "      <th></th>\n",
                            "      <th></th>\n",
                            "      <th></th>\n",
                            "      <th></th>\n",
                            "      <th></th>\n",
                            "      <th></th>\n",
                            "      <th></th>\n",
                            "      <th></th>\n",
                            "      <th></th>\n",
                            "      <th></th>\n",
                            "    </tr>\n",
                            "  </thead>\n",
                            "  <tbody>\n",
                            "    <tr>\n",
                            "      <th>20000147</th>\n",
                            "      <td>578</td>\n",
                            "      <td>0</td>\n",
                            "      <td>0</td>\n",
                            "      <td>0</td>\n",
                            "      <td>0</td>\n",
                            "      <td>0</td>\n",
                            "      <td>0</td>\n",
                            "      <td>0</td>\n",
                            "      <td>0</td>\n",
                            "      <td>0</td>\n",
                            "      <td>...</td>\n",
                            "      <td>0</td>\n",
                            "      <td>0</td>\n",
                            "      <td>0</td>\n",
                            "      <td>0</td>\n",
                            "      <td>0</td>\n",
                            "      <td>0</td>\n",
                            "      <td>0</td>\n",
                            "      <td>0</td>\n",
                            "      <td>0</td>\n",
                            "      <td>0</td>\n",
                            "    </tr>\n",
                            "    <tr>\n",
                            "      <th>20000147</th>\n",
                            "      <td>599</td>\n",
                            "      <td>0</td>\n",
                            "      <td>0</td>\n",
                            "      <td>0</td>\n",
                            "      <td>0</td>\n",
                            "      <td>0</td>\n",
                            "      <td>0</td>\n",
                            "      <td>0</td>\n",
                            "      <td>0</td>\n",
                            "      <td>0</td>\n",
                            "      <td>...</td>\n",
                            "      <td>0</td>\n",
                            "      <td>0</td>\n",
                            "      <td>0</td>\n",
                            "      <td>0</td>\n",
                            "      <td>0</td>\n",
                            "      <td>0</td>\n",
                            "      <td>0</td>\n",
                            "      <td>0</td>\n",
                            "      <td>0</td>\n",
                            "      <td>0</td>\n",
                            "    </tr>\n",
                            "    <tr>\n",
                            "      <th>20000147</th>\n",
                            "      <td>693</td>\n",
                            "      <td>0</td>\n",
                            "      <td>0</td>\n",
                            "      <td>0</td>\n",
                            "      <td>0</td>\n",
                            "      <td>0</td>\n",
                            "      <td>0</td>\n",
                            "      <td>0</td>\n",
                            "      <td>0</td>\n",
                            "      <td>0</td>\n",
                            "      <td>...</td>\n",
                            "      <td>0</td>\n",
                            "      <td>0</td>\n",
                            "      <td>0</td>\n",
                            "      <td>0</td>\n",
                            "      <td>0</td>\n",
                            "      <td>0</td>\n",
                            "      <td>0</td>\n",
                            "      <td>0</td>\n",
                            "      <td>0</td>\n",
                            "      <td>0</td>\n",
                            "    </tr>\n",
                            "    <tr>\n",
                            "      <th>20000147</th>\n",
                            "      <td>720</td>\n",
                            "      <td>0</td>\n",
                            "      <td>0</td>\n",
                            "      <td>0</td>\n",
                            "      <td>0</td>\n",
                            "      <td>0</td>\n",
                            "      <td>0</td>\n",
                            "      <td>0</td>\n",
                            "      <td>0</td>\n",
                            "      <td>0</td>\n",
                            "      <td>...</td>\n",
                            "      <td>0</td>\n",
                            "      <td>0</td>\n",
                            "      <td>0</td>\n",
                            "      <td>0</td>\n",
                            "      <td>0</td>\n",
                            "      <td>0</td>\n",
                            "      <td>0</td>\n",
                            "      <td>0</td>\n",
                            "      <td>0</td>\n",
                            "      <td>0</td>\n",
                            "    </tr>\n",
                            "    <tr>\n",
                            "      <th>20000147</th>\n",
                            "      <td>742</td>\n",
                            "      <td>0</td>\n",
                            "      <td>0</td>\n",
                            "      <td>0</td>\n",
                            "      <td>0</td>\n",
                            "      <td>0</td>\n",
                            "      <td>0</td>\n",
                            "      <td>0</td>\n",
                            "      <td>0</td>\n",
                            "      <td>0</td>\n",
                            "      <td>...</td>\n",
                            "      <td>0</td>\n",
                            "      <td>0</td>\n",
                            "      <td>0</td>\n",
                            "      <td>0</td>\n",
                            "      <td>0</td>\n",
                            "      <td>0</td>\n",
                            "      <td>0</td>\n",
                            "      <td>0</td>\n",
                            "      <td>0</td>\n",
                            "      <td>0</td>\n",
                            "    </tr>\n",
                            "  </tbody>\n",
                            "</table>\n",
                            "<p>5 rows × 97 columns</p>\n",
                            "</div>"
                        ],
                        "text/plain": [
                            "          Time  Mask_0  Mask_1  Mask_2  Mask_3  Mask_4  Mask_5  Mask_6  \\\n",
                            "ID                                                                       \n",
                            "20000147   578       0       0       0       0       0       0       0   \n",
                            "20000147   599       0       0       0       0       0       0       0   \n",
                            "20000147   693       0       0       0       0       0       0       0   \n",
                            "20000147   720       0       0       0       0       0       0       0   \n",
                            "20000147   742       0       0       0       0       0       0       0   \n",
                            "\n",
                            "          Mask_7  Mask_8  ...  Mask_86  Mask_87  Mask_88  Mask_89  Mask_90  \\\n",
                            "ID                        ...                                                \n",
                            "20000147       0       0  ...        0        0        0        0        0   \n",
                            "20000147       0       0  ...        0        0        0        0        0   \n",
                            "20000147       0       0  ...        0        0        0        0        0   \n",
                            "20000147       0       0  ...        0        0        0        0        0   \n",
                            "20000147       0       0  ...        0        0        0        0        0   \n",
                            "\n",
                            "          Mask_91  Mask_92  Mask_93  Mask_94  Mask_95  \n",
                            "ID                                                     \n",
                            "20000147        0        0        0        0        0  \n",
                            "20000147        0        0        0        0        0  \n",
                            "20000147        0        0        0        0        0  \n",
                            "20000147        0        0        0        0        0  \n",
                            "20000147        0        0        0        0        0  \n",
                            "\n",
                            "[5 rows x 97 columns]"
                        ]
                    },
                    "execution_count": 16,
                    "metadata": {},
                    "output_type": "execute_result"
                }
            ],
            "source": [
                "Mask_df.head()"
            ]
        },
        {
            "cell_type": "code",
            "execution_count": 17,
            "id": "5e8746aa",
            "metadata": {},
            "outputs": [],
            "source": [
                "tmp_df = Mask_df.groupby('ID').size()"
            ]
        },
        {
            "cell_type": "code",
            "execution_count": 18,
            "id": "ffe5fb0d",
            "metadata": {},
            "outputs": [
                {
                    "data": {
                        "text/plain": [
                            "<AxesSubplot: >"
                        ]
                    },
                    "execution_count": 18,
                    "metadata": {},
                    "output_type": "execute_result"
                },
                {
                    "data": {
                        "image/png": "[encoded data removed]",
                        "text/plain": [
                            "<Figure size 2000x500 with 1 Axes>"
                        ]
                    },
                    "metadata": {},
                    "output_type": "display_data"
                }
            ],
            "source": [
                "# Plot the distribution of the number of records for each patient\n",
                "tmp_df.hist(bins=200, figsize=(20, 5))"
            ]
        },
        {
            "cell_type": "code",
            "execution_count": 19,
            "id": "7052d2af",
            "metadata": {},
            "outputs": [
                {
                    "data": {
                        "text/plain": [
                            "count    54442.000000\n",
                            "mean        90.530197\n",
                            "std         93.926015\n",
                            "min          1.000000\n",
                            "25%         17.000000\n",
                            "50%         59.000000\n",
                            "75%        135.000000\n",
                            "max        786.000000\n",
                            "dtype: float64"
                        ]
                    },
                    "execution_count": 19,
                    "metadata": {},
                    "output_type": "execute_result"
                }
            ],
            "source": [
                "tmp_df.describe()"
            ]
        },
        {
            "cell_type": "code",
            "execution_count": null,
            "id": "d5241f2e",
            "metadata": {},
            "outputs": [],
            "source": []
        },
        {
            "cell_type": "code",
            "execution_count": 46,
            "metadata": {},
            "outputs": [],
            "source": [
                "ids_before = Mask_df.loc[Mask_df['Time'] < 1440].groupby('ID').size()\n",
                "ids_after = Mask_df.loc[Mask_df['Time'] > 1440].groupby('ID').size()"
            ]
        },
        {
            "cell_type": "code",
            "execution_count": 47,
            "id": "fa316b18",
            "metadata": {},
            "outputs": [
                {
                    "name": "stdout",
                    "output_type": "stream",
                    "text": [
                        "ids_before_selected:  (31804,)\n",
                        "ids_after_selected:  (27320,)\n"
                    ]
                }
            ],
            "source": [
                "ids_before_selected = ids_before.loc[ids_before >= 20].index\n",
                "ids_after_selected = ids_after.loc[ids_after >= 20].index\n",
                "\n",
                "print(\"ids_before_selected: \", ids_before_selected.shape)\n",
                "print(\"ids_after_selected: \", ids_after_selected.shape)"
            ]
        },
        {
            "cell_type": "code",
            "execution_count": null,
            "metadata": {},
            "outputs": [],
            "source": []
        },
        {
            "cell_type": "code",
            "execution_count": 48,
            "metadata": {},
            "outputs": [],
            "source": [
                "df_var_num = Mask_df.iloc[:, 1:].groupby(\"ID\").apply(lambda x: x.sum(axis=0).gt(0).sum())"
            ]
        },
        {
            "cell_type": "code",
            "execution_count": 49,
            "metadata": {},
            "outputs": [
                {
                    "data": {
                        "text/plain": [
                            "<AxesSubplot: >"
                        ]
                    },
                    "execution_count": 49,
                    "metadata": {},
                    "output_type": "execute_result"
                },
                {
                    "data": {
                        "image/png": "[encoded data removed]",
                        "text/plain": [
                            "<Figure size 640x480 with 1 Axes>"
                        ]
                    },
                    "metadata": {},
                    "output_type": "display_data"
                }
            ],
            "source": [
                "df_var_num.hist(bins=100)"
            ]
        },
        {
            "cell_type": "code",
            "execution_count": 50,
            "id": "f2f8baff",
            "metadata": {},
            "outputs": [
                {
                    "name": "stdout",
                    "output_type": "stream",
                    "text": [
                        "ids_selected_by_vars:  (53560,)\n"
                    ]
                }
            ],
            "source": [
                "ids_selected_by_vars = df_var_num.loc[df_var_num >= 10].index\n",
                "\n",
                "print(\"ids_selected_by_vars: \", ids_selected_by_vars.shape)"
            ]
        },
        {
            "cell_type": "code",
            "execution_count": 51,
            "id": "33139d2e",
            "metadata": {},
            "outputs": [
                {
                    "data": {
                        "text/plain": [
                            "22591"
                        ]
                    },
                    "execution_count": 51,
                    "metadata": {},
                    "output_type": "execute_result"
                }
            ],
            "source": [
                "ids_selected = set(ids_before_selected) & set(ids_after_selected) & set(ids_selected_by_vars)\n",
                "len(ids_selected)"
            ]
        },
        {
            "cell_type": "code",
            "execution_count": 52,
            "id": "92e6f7e2",
            "metadata": {},
            "outputs": [],
            "source": [
                "complete_df = complete_df.loc[list(ids_selected)]"
            ]
        },
        {
            "cell_type": "code",
            "execution_count": 53,
            "id": "b79f6639",
            "metadata": {},
            "outputs": [],
            "source": [
                "complete_df.to_csv(\n",
                "    path_m4/'processed/mimic4_full_dataset_smooth.csv')"
            ]
        },
        {
            "cell_type": "code",
            "execution_count": null,
            "id": "94f80aae",
            "metadata": {},
            "outputs": [],
            "source": []
        }
    ],
    "metadata": {
        "kernelspec": {
            "display_name": "Python 3.8.12 ('transfer_ehr')",
            "language": "python",
            "name": "python3"
        },
        "language_info": {
            "codemirror_mode": {
                "name": "ipython",
                "version": 3
            },
            "file_extension": ".py",
            "mimetype": "text/x-python",
            "name": "python",
            "nbconvert_exporter": "python",
            "pygments_lexer": "ipython3",
            "version": "3.10.8"
        },
        "vscode": {
            "interpreter": {
                "hash": "5ae865abb88ad0a991db65fb0a3113ce9d7dd5f50b65ef8b203d3356ff36831c"
            }
        }
    },
    "nbformat": 4,
    "nbformat_minor": 5
}
