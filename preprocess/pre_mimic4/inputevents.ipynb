{
    "cells": [
        {
            "attachments": {},
            "cell_type": "markdown",
            "metadata": {},
            "source": [
                "# MIMIC 4 data - dataset construction inputevents"
            ]
        },
        {
            "attachments": {},
            "cell_type": "markdown",
            "metadata": {},
            "source": [
                "Code taken from GRU-ODE-Bayes preprocessing; simplified and adapted for MIMIC 4 1.0"
            ]
        },
        {
            "cell_type": "code",
            "execution_count": 1,
            "metadata": {},
            "outputs": [],
            "source": [
                "import os\n",
                "import pathlib\n",
                "import pandas as pd\n",
                "from datetime import datetime\n",
                "from datetime import timedelta\n",
                "import numpy as np\n",
                "\n",
                "p_project = str(pathlib.Path(os.getcwd()).parents[1])"
            ]
        },
        {
            "cell_type": "code",
            "execution_count": 2,
            "metadata": {},
            "outputs": [],
            "source": [
                "path_data = p_project + '/data/mimic4'"
            ]
        },
        {
            "cell_type": "code",
            "execution_count": 3,
            "metadata": {},
            "outputs": [],
            "source": [
                "adm_3 = pd.read_csv(path_data + '/processed/admissions_processed.csv')"
            ]
        },
        {
            "cell_type": "code",
            "execution_count": 4,
            "metadata": {},
            "outputs": [
                {
                    "data": {
                        "text/html": [
                            "<div>\n",
                            "<style scoped>\n",
                            "    .dataframe tbody tr th:only-of-type {\n",
                            "        vertical-align: middle;\n",
                            "    }\n",
                            "\n",
                            "    .dataframe tbody tr th {\n",
                            "        vertical-align: top;\n",
                            "    }\n",
                            "\n",
                            "    .dataframe thead th {\n",
                            "        text-align: right;\n",
                            "    }\n",
                            "</style>\n",
                            "<table border=\"1\" class=\"dataframe\">\n",
                            "  <thead>\n",
                            "    <tr style=\"text-align: right;\">\n",
                            "      <th></th>\n",
                            "      <th>subject_id</th>\n",
                            "      <th>hadm_id</th>\n",
                            "      <th>stay_id</th>\n",
                            "      <th>caregiver_id</th>\n",
                            "      <th>starttime</th>\n",
                            "      <th>endtime</th>\n",
                            "      <th>storetime</th>\n",
                            "      <th>itemid</th>\n",
                            "      <th>amount</th>\n",
                            "      <th>amountuom</th>\n",
                            "      <th>...</th>\n",
                            "      <th>ordercomponenttypedescription</th>\n",
                            "      <th>ordercategorydescription</th>\n",
                            "      <th>patientweight</th>\n",
                            "      <th>totalamount</th>\n",
                            "      <th>totalamountuom</th>\n",
                            "      <th>isopenbag</th>\n",
                            "      <th>continueinnextdept</th>\n",
                            "      <th>statusdescription</th>\n",
                            "      <th>originalamount</th>\n",
                            "      <th>originalrate</th>\n",
                            "    </tr>\n",
                            "  </thead>\n",
                            "  <tbody>\n",
                            "    <tr>\n",
                            "      <th>18</th>\n",
                            "      <td>10001217</td>\n",
                            "      <td>24597018</td>\n",
                            "      <td>37067082</td>\n",
                            "      <td>7355</td>\n",
                            "      <td>2157-11-21 19:39:00</td>\n",
                            "      <td>2157-11-21 19:40:00</td>\n",
                            "      <td>2157-11-21 19:39:00</td>\n",
                            "      <td>225154</td>\n",
                            "      <td>2.000000</td>\n",
                            "      <td>mg</td>\n",
                            "      <td>...</td>\n",
                            "      <td>Main order parameter</td>\n",
                            "      <td>Drug Push</td>\n",
                            "      <td>71.2</td>\n",
                            "      <td>NaN</td>\n",
                            "      <td>NaN</td>\n",
                            "      <td>0</td>\n",
                            "      <td>0</td>\n",
                            "      <td>FinishedRunning</td>\n",
                            "      <td>2.0</td>\n",
                            "      <td>2.000000</td>\n",
                            "    </tr>\n",
                            "    <tr>\n",
                            "      <th>19</th>\n",
                            "      <td>10001217</td>\n",
                            "      <td>24597018</td>\n",
                            "      <td>37067082</td>\n",
                            "      <td>7355</td>\n",
                            "      <td>2157-11-21 21:28:00</td>\n",
                            "      <td>2157-11-21 21:29:00</td>\n",
                            "      <td>2157-11-21 21:28:00</td>\n",
                            "      <td>226452</td>\n",
                            "      <td>50.000000</td>\n",
                            "      <td>ml</td>\n",
                            "      <td>...</td>\n",
                            "      <td>Main order parameter</td>\n",
                            "      <td>Bolus</td>\n",
                            "      <td>71.2</td>\n",
                            "      <td>50.0</td>\n",
                            "      <td>ml</td>\n",
                            "      <td>0</td>\n",
                            "      <td>0</td>\n",
                            "      <td>FinishedRunning</td>\n",
                            "      <td>50.0</td>\n",
                            "      <td>50.000000</td>\n",
                            "    </tr>\n",
                            "    <tr>\n",
                            "      <th>20</th>\n",
                            "      <td>10001217</td>\n",
                            "      <td>24597018</td>\n",
                            "      <td>37067082</td>\n",
                            "      <td>7355</td>\n",
                            "      <td>2157-11-21 21:28:00</td>\n",
                            "      <td>2157-11-21 21:29:00</td>\n",
                            "      <td>2157-11-21 21:28:00</td>\n",
                            "      <td>228315</td>\n",
                            "      <td>1000.000000</td>\n",
                            "      <td>mg</td>\n",
                            "      <td>...</td>\n",
                            "      <td>Main order parameter</td>\n",
                            "      <td>Drug Push</td>\n",
                            "      <td>71.2</td>\n",
                            "      <td>NaN</td>\n",
                            "      <td>NaN</td>\n",
                            "      <td>0</td>\n",
                            "      <td>0</td>\n",
                            "      <td>FinishedRunning</td>\n",
                            "      <td>1000.0</td>\n",
                            "      <td>999.999939</td>\n",
                            "    </tr>\n",
                            "    <tr>\n",
                            "      <th>21</th>\n",
                            "      <td>10001217</td>\n",
                            "      <td>24597018</td>\n",
                            "      <td>37067082</td>\n",
                            "      <td>71578</td>\n",
                            "      <td>2157-11-21 00:51:00</td>\n",
                            "      <td>2157-11-21 02:06:00</td>\n",
                            "      <td>2157-11-21 00:52:00</td>\n",
                            "      <td>226089</td>\n",
                            "      <td>249.999994</td>\n",
                            "      <td>ml</td>\n",
                            "      <td>...</td>\n",
                            "      <td>Main order parameter</td>\n",
                            "      <td>Continuous IV</td>\n",
                            "      <td>71.2</td>\n",
                            "      <td>250.0</td>\n",
                            "      <td>ml</td>\n",
                            "      <td>0</td>\n",
                            "      <td>0</td>\n",
                            "      <td>FinishedRunning</td>\n",
                            "      <td>250.0</td>\n",
                            "      <td>200.000000</td>\n",
                            "    </tr>\n",
                            "    <tr>\n",
                            "      <th>22</th>\n",
                            "      <td>10001217</td>\n",
                            "      <td>24597018</td>\n",
                            "      <td>37067082</td>\n",
                            "      <td>72136</td>\n",
                            "      <td>2157-11-21 08:00:00</td>\n",
                            "      <td>2157-11-21 08:01:00</td>\n",
                            "      <td>2157-11-21 15:58:00</td>\n",
                            "      <td>225975</td>\n",
                            "      <td>1.000000</td>\n",
                            "      <td>dose</td>\n",
                            "      <td>...</td>\n",
                            "      <td>Main order parameter</td>\n",
                            "      <td>Drug Push</td>\n",
                            "      <td>71.2</td>\n",
                            "      <td>NaN</td>\n",
                            "      <td>NaN</td>\n",
                            "      <td>0</td>\n",
                            "      <td>0</td>\n",
                            "      <td>FinishedRunning</td>\n",
                            "      <td>1.0</td>\n",
                            "      <td>1.000000</td>\n",
                            "    </tr>\n",
                            "  </tbody>\n",
                            "</table>\n",
                            "<p>5 rows × 26 columns</p>\n",
                            "</div>"
                        ],
                        "text/plain": [
                            "    subject_id   hadm_id   stay_id  caregiver_id            starttime  \\\n",
                            "18    10001217  24597018  37067082          7355  2157-11-21 19:39:00   \n",
                            "19    10001217  24597018  37067082          7355  2157-11-21 21:28:00   \n",
                            "20    10001217  24597018  37067082          7355  2157-11-21 21:28:00   \n",
                            "21    10001217  24597018  37067082         71578  2157-11-21 00:51:00   \n",
                            "22    10001217  24597018  37067082         72136  2157-11-21 08:00:00   \n",
                            "\n",
                            "                endtime            storetime  itemid       amount amountuom  \\\n",
                            "18  2157-11-21 19:40:00  2157-11-21 19:39:00  225154     2.000000        mg   \n",
                            "19  2157-11-21 21:29:00  2157-11-21 21:28:00  226452    50.000000        ml   \n",
                            "20  2157-11-21 21:29:00  2157-11-21 21:28:00  228315  1000.000000        mg   \n",
                            "21  2157-11-21 02:06:00  2157-11-21 00:52:00  226089   249.999994        ml   \n",
                            "22  2157-11-21 08:01:00  2157-11-21 15:58:00  225975     1.000000      dose   \n",
                            "\n",
                            "    ...  ordercomponenttypedescription ordercategorydescription  \\\n",
                            "18  ...           Main order parameter                Drug Push   \n",
                            "19  ...           Main order parameter                    Bolus   \n",
                            "20  ...           Main order parameter                Drug Push   \n",
                            "21  ...           Main order parameter            Continuous IV   \n",
                            "22  ...           Main order parameter                Drug Push   \n",
                            "\n",
                            "    patientweight  totalamount totalamountuom isopenbag continueinnextdept  \\\n",
                            "18           71.2          NaN            NaN         0                  0   \n",
                            "19           71.2         50.0             ml         0                  0   \n",
                            "20           71.2          NaN            NaN         0                  0   \n",
                            "21           71.2        250.0             ml         0                  0   \n",
                            "22           71.2          NaN            NaN         0                  0   \n",
                            "\n",
                            "   statusdescription  originalamount  originalrate  \n",
                            "18   FinishedRunning             2.0      2.000000  \n",
                            "19   FinishedRunning            50.0     50.000000  \n",
                            "20   FinishedRunning          1000.0    999.999939  \n",
                            "21   FinishedRunning           250.0    200.000000  \n",
                            "22   FinishedRunning             1.0      1.000000  \n",
                            "\n",
                            "[5 rows x 26 columns]"
                        ]
                    },
                    "execution_count": 4,
                    "metadata": {},
                    "output_type": "execute_result"
                }
            ],
            "source": [
                "# only choose previously selected admission ids\n",
                "inputs=pd.read_csv(path_data + '/raw/icu/inputevents.csv.gz')\n",
                "adm_ids=list(adm_3['hadm_id'])\n",
                "inputs=inputs.loc[inputs['hadm_id'].isin(adm_ids)]\n",
                "inputs.head()"
            ]
        },
        {
            "cell_type": "code",
            "execution_count": 5,
            "metadata": {},
            "outputs": [
                {
                    "name": "stdout",
                    "output_type": "stream",
                    "text": [
                        "Number of patients remaining in the database: \n",
                        "42066\n"
                    ]
                }
            ],
            "source": [
                "# only keep columns of interest\n",
                "inputs_small=inputs[['subject_id','hadm_id','starttime','endtime','itemid','amount','amountuom','rate','rateuom','patientweight','ordercategorydescription']]\n",
                "print('Number of patients remaining in the database: ')\n",
                "print(inputs_small['subject_id'].nunique())"
            ]
        },
        {
            "cell_type": "code",
            "execution_count": 6,
            "metadata": {},
            "outputs": [
                {
                    "name": "stdout",
                    "output_type": "stream",
                    "text": [
                        "Number of patients remaining in the database: \n",
                        "42066\n"
                    ]
                }
            ],
            "source": [
                "# get item ids for inputs \n",
                "item_id=pd.read_csv(path_data + '/raw/icu/d_items.csv.gz')\n",
                "item_id_1=item_id[['itemid','label']]\n",
                "item_id_1.head()\n",
                "\n",
                "inputs_small_2=pd.merge(inputs_small,item_id_1,on='itemid')\n",
                "inputs_small_2.head()\n",
                "print('Number of patients remaining in the database: ')\n",
                "print(inputs_small_2['subject_id'].nunique())"
            ]
        },
        {
            "cell_type": "code",
            "execution_count": 7,
            "metadata": {},
            "outputs": [
                {
                    "name": "stdout",
                    "output_type": "stream",
                    "text": [
                        "['Morphine Sulfate' 'PO Intake' 'Piggyback' 'Dextrose 5%'\n",
                        " 'Magnesium Sulfate' 'Sterile Water' 'Lorazepam (Ativan)' 'Solution'\n",
                        " 'Gastric Meds' 'GT Flush' 'Heparin Sodium' 'Midazolam (Versed)'\n",
                        " 'Nitroglycerin' 'Insulin - Regular' 'Albumin 5%' 'Insulin - Glargine'\n",
                        " 'Furosemide (Lasix)' 'Phenylephrine' 'OR Crystalloid Intake'\n",
                        " 'OR Cell Saver Intake' 'LR' 'Potassium Chloride' 'KCL (Bolus)'\n",
                        " 'Calcium Gluconate' 'Packed Red Blood Cells' 'Magnesium Sulfate (Bolus)'\n",
                        " 'Norepinephrine' 'Insulin - Humalog' 'K Phos' 'Metoprolol' 'D5 1/2NS']\n"
                    ]
                }
            ],
            "source": [
                "#Only select specific labels for the inputs.\n",
                "#list of retained inputs :\n",
                "retained_list=[\"Albumin 5%\",\"Dextrose 5%\",\"Lorazepam (Ativan)\",\"Calcium Gluconate\",\"Midazolam (Versed)\",\"Phenylephrine\",\"Furosemide (Lasix)\",\"Norepinephrine\",\"Magnesium Sulfate\",\"Nitroglycerin\",\"Insulin - Glargine\",\"Insulin - Humalog\",\"Insulin - Regular\",\"Heparin Sodium\",\"Morphine Sulfate\",\"Potassium Chloride\",\"Packed Red Blood Cells\",\"Gastric Meds\",\"D5 1/2NS\",\"LR\",\"K Phos\",\"Solution\",\"Sterile Water\",\"Metoprolol\",\"Piggyback\",\"OR Crystalloid Intake\",\"OR Cell Saver Intake\",\"PO Intake\",\"GT Flush\",\"KCL (Bolus)\",\"Magnesium Sulfate (Bolus)\"]\n",
                "#missing :Fresh Frozen Plasma\n",
                "inputs_small_3=inputs_small_2.loc[inputs_small_2[\"label\"].isin(retained_list)].copy()\n",
                "print(inputs_small_3['label'].unique())"
            ]
        },
        {
            "cell_type": "code",
            "execution_count": 8,
            "metadata": {},
            "outputs": [
                {
                    "name": "stdout",
                    "output_type": "stream",
                    "text": [
                        "label                      amountuom  \n",
                        "Albumin 5%                 ml              24231\n",
                        "Calcium Gluconate          grams           56516\n",
                        "D5 1/2NS                   ml              25270\n",
                        "                           L                   3\n",
                        "Dextrose 5%                ml             942824\n",
                        "Furosemide (Lasix)         mg              92557\n",
                        "GT Flush                   ml             195686\n",
                        "                           cm3                 1\n",
                        "Gastric Meds               ml             264344\n",
                        "                           L                   1\n",
                        "Heparin Sodium             units           67938\n",
                        "Insulin - Glargine         units           27554\n",
                        "Insulin - Humalog          units           77685\n",
                        "Insulin - Regular          units          261278\n",
                        "K Phos                     mmol             8275\n",
                        "KCL (Bolus)                ml              92846\n",
                        "LR                         ml              99889\n",
                        "                           L                   2\n",
                        "Lorazepam (Ativan)         mg              33846\n",
                        "Magnesium Sulfate          grams           65760\n",
                        "                           mg                  1\n",
                        "Magnesium Sulfate (Bolus)  ml              47096\n",
                        "Metoprolol                 mg              54874\n",
                        "                           mcg                 1\n",
                        "Midazolam (Versed)         mg              95589\n",
                        "Morphine Sulfate           mg              68543\n",
                        "Nitroglycerin              mg              72773\n",
                        "Norepinephrine             mg             304482\n",
                        "OR Cell Saver Intake       ml               6510\n",
                        "OR Crystalloid Intake      ml              18488\n",
                        "                           L                   9\n",
                        "PO Intake                  ml             399679\n",
                        "                           L                   2\n",
                        "                           pL                  1\n",
                        "Packed Red Blood Cells     ml              47753\n",
                        "Phenylephrine              mg             177299\n",
                        "Piggyback                  ml              85524\n",
                        "Potassium Chloride         mEq            162711\n",
                        "                           nMol/ml/min         1\n",
                        "Solution                   ml             516887\n",
                        "Sterile Water              ml              59003\n",
                        "Name: amountuom, dtype: int64\n"
                    ]
                }
            ],
            "source": [
                "# print all content and check the commonly used metrics of each measurement\n",
                "with pd.option_context('display.max_rows', None, 'display.max_columns', None):\n",
                "    print(inputs_small_3.groupby('label')['amountuom'].value_counts())"
            ]
        },
        {
            "cell_type": "code",
            "execution_count": 9,
            "metadata": {},
            "outputs": [],
            "source": [
                "##Cleaning the Heparin Sodium (Prophylaxis) (remove the non dose)\n",
                "#inputs_small_3=inputs_small_3.drop(inputs_small_3.loc[(inputs_small_3['label']=='Heparin Sodium (Prophylaxis)') & (inputs_small_3['amountuom']!='dose')].index).copy()\n",
                "\n",
                "#Cleaning the Magnesium Sulfate (remove the non grams)\n",
                "inputs_small_3=inputs_small_3.drop(inputs_small_3.loc[(inputs_small_3['label']=='Magnesium Sulfate') & (inputs_small_3['amountuom']!='grams')].index).copy()\n",
                "\n",
                "#Cleaning the Metoprolol (remove the non mg)\n",
                "inputs_small_3=inputs_small_3.drop(inputs_small_3.loc[(inputs_small_3['label']=='Metoprolol') & (inputs_small_3['amountuom']!='mg')].index).copy()\n",
                "\n",
                "#Cleaning the D5 1/2NS (keep ml)\n",
                "inputs_small_3=inputs_small_3.drop(inputs_small_3.loc[(inputs_small_3['label']=='D5 1/2NS') & (inputs_small_3['amountuom']!='ml')].index).copy()\n",
                "\n",
                "#Cleaning the LR\n",
                "inputs_small_3=inputs_small_3.drop(inputs_small_3.loc[(inputs_small_3['label']=='LR') & (inputs_small_3['amountuom']!='ml')].index).copy()\n",
                "\n",
                "#Cleaning the OR Crystalloid Intake \n",
                "inputs_small_3=inputs_small_3.drop(inputs_small_3.loc[(inputs_small_3['label']=='OR Crystalloid Intake') & (inputs_small_3['amountuom']!='ml')].index).copy()\n",
                "\n",
                "#Cleaning the PO Intake\n",
                "inputs_small_3=inputs_small_3.drop(inputs_small_3.loc[(inputs_small_3['label']=='PO Intake') & (inputs_small_3['amountuom']!='ml')].index).copy()\n",
                "\n",
                "#Cleaning the Gastric Meds\n",
                "inputs_small_3=inputs_small_3.drop(inputs_small_3.loc[(inputs_small_3['label']=='Gastric Meds') & (inputs_small_3['amountuom']!='ml')].index).copy()\n",
                "\n",
                "#Cleaning the GT Flush\n",
                "inputs_small_3=inputs_small_3.drop(inputs_small_3.loc[(inputs_small_3['label']=='GT Flush') & (inputs_small_3['amountuom']!='ml')].index).copy()\n",
                "\n",
                "#Cleaning the Potassium Chloride\n",
                "inputs_small_3=inputs_small_3.drop(inputs_small_3.loc[(inputs_small_3['label']=='Potassium Chloride') & (inputs_small_3['amountuom']!='mEq')].index).copy()"
            ]
        },
        {
            "cell_type": "code",
            "execution_count": 10,
            "metadata": {},
            "outputs": [
                {
                    "name": "stdout",
                    "output_type": "stream",
                    "text": [
                        "label                      amountuom\n",
                        "Albumin 5%                 ml            24231\n",
                        "Calcium Gluconate          grams         56516\n",
                        "D5 1/2NS                   ml            25270\n",
                        "Dextrose 5%                ml           942824\n",
                        "Furosemide (Lasix)         mg            92557\n",
                        "GT Flush                   ml           195686\n",
                        "Gastric Meds               ml           264344\n",
                        "Heparin Sodium             units         67938\n",
                        "Insulin - Glargine         units         27554\n",
                        "Insulin - Humalog          units         77685\n",
                        "Insulin - Regular          units        261278\n",
                        "K Phos                     mmol           8275\n",
                        "KCL (Bolus)                ml            92846\n",
                        "LR                         ml            99889\n",
                        "Lorazepam (Ativan)         mg            33846\n",
                        "Magnesium Sulfate          grams         65760\n",
                        "Magnesium Sulfate (Bolus)  ml            47096\n",
                        "Metoprolol                 mg            54874\n",
                        "Midazolam (Versed)         mg            95589\n",
                        "Morphine Sulfate           mg            68543\n",
                        "Nitroglycerin              mg            72773\n",
                        "Norepinephrine             mg           304482\n",
                        "OR Cell Saver Intake       ml             6510\n",
                        "OR Crystalloid Intake      ml            18488\n",
                        "PO Intake                  ml           399679\n",
                        "Packed Red Blood Cells     ml            47753\n",
                        "Phenylephrine              mg           177299\n",
                        "Piggyback                  ml            85524\n",
                        "Potassium Chloride         mEq          162711\n",
                        "Solution                   ml           516887\n",
                        "Sterile Water              ml            59003\n",
                        "Name: amountuom, dtype: int64\n"
                    ]
                }
            ],
            "source": [
                "# Verify\n",
                "with pd.option_context('display.max_rows', None, 'display.max_columns', None):\n",
                "    print(inputs_small_3.groupby('label')['amountuom'].value_counts())"
            ]
        },
        {
            "cell_type": "code",
            "execution_count": 11,
            "metadata": {},
            "outputs": [
                {
                    "data": {
                        "text/plain": [
                            "label                      rateuom      \n",
                            "Albumin 5%                 mL/hour           24231\n",
                            "D5 1/2NS                   mL/hour           25069\n",
                            "Dextrose 5%                mL/hour          574205\n",
                            "                           mL/min                2\n",
                            "                           mL/kg/hour            1\n",
                            "Furosemide (Lasix)         mg/hour           18084\n",
                            "Heparin Sodium             units/hour        60759\n",
                            "                           units/kg/hour         2\n",
                            "Insulin - Regular          units/hour       126305\n",
                            "KCL (Bolus)                mL/hour           92846\n",
                            "LR                         mL/hour           54277\n",
                            "Lorazepam (Ativan)         mg/hour             181\n",
                            "Magnesium Sulfate (Bolus)  mL/hour           47094\n",
                            "                           mL/min                2\n",
                            "Midazolam (Versed)         mg/hour           45185\n",
                            "Morphine Sulfate           mg/hour            6471\n",
                            "Nitroglycerin              mcg/kg/min        72773\n",
                            "Norepinephrine             mcg/kg/min       304480\n",
                            "                           mg/kg/min             2\n",
                            "Packed Red Blood Cells     mL/hour           47740\n",
                            "                           mL/min               13\n",
                            "Phenylephrine              mcg/kg/min       177298\n",
                            "                           mcg/min               1\n",
                            "Piggyback                  mL/hour           85499\n",
                            "                           mL/min               11\n",
                            "Solution                   mL/hour          430113\n",
                            "                           mL/min                1\n",
                            "Sterile Water              mL/hour           57881\n",
                            "                           mL/min               19\n",
                            "Name: rateuom, dtype: int64"
                        ]
                    },
                    "execution_count": 11,
                    "metadata": {},
                    "output_type": "execute_result"
                }
            ],
            "source": [
                "# same thing for inputs given in rates\n",
                "inputs_small_3.groupby('label')['rateuom'].value_counts()"
            ]
        },
        {
            "cell_type": "code",
            "execution_count": 12,
            "metadata": {},
            "outputs": [
                {
                    "data": {
                        "text/plain": [
                            "label                      rateuom   \n",
                            "Albumin 5%                 mL/hour        24231\n",
                            "D5 1/2NS                   mL/hour        25069\n",
                            "Dextrose 5%                mL/hour       574205\n",
                            "Furosemide (Lasix)         mg/hour        18084\n",
                            "Heparin Sodium             units/hour     60759\n",
                            "Insulin - Regular          units/hour    126305\n",
                            "KCL (Bolus)                mL/hour        92846\n",
                            "LR                         mL/hour        54277\n",
                            "Lorazepam (Ativan)         mg/hour          181\n",
                            "Magnesium Sulfate (Bolus)  mL/hour        47094\n",
                            "Midazolam (Versed)         mg/hour        45185\n",
                            "Morphine Sulfate           mg/hour         6471\n",
                            "Nitroglycerin              mcg/kg/min     72773\n",
                            "Norepinephrine             mcg/kg/min    304480\n",
                            "Packed Red Blood Cells     mL/hour        47740\n",
                            "Phenylephrine              mcg/kg/min    177298\n",
                            "Piggyback                  mL/hour        85499\n",
                            "Solution                   mL/hour       430113\n",
                            "Sterile Water              mL/hour        57881\n",
                            "Name: rateuom, dtype: int64"
                        ]
                    },
                    "execution_count": 12,
                    "metadata": {},
                    "output_type": "execute_result"
                }
            ],
            "source": [
                "#Cleaning of Dextrose 5%  (remove the non mL/hour)\n",
                "inputs_small_3=inputs_small_3.drop(inputs_small_3.loc[(inputs_small_3['label']=='Dextrose 5%') & (inputs_small_3['rateuom']!='mL/hour')].index).copy()\n",
                "\n",
                "#Cleaning of Magnesium Sulfate (Bolus)  (remove the non mL/hour)\n",
                "inputs_small_3=inputs_small_3.drop(inputs_small_3.loc[(inputs_small_3['label']=='Magnesium Sulfate (Bolus)') & (inputs_small_3['rateuom']!='mL/hour')].index).copy()\n",
                "\n",
                "#Cleaning of Piggyback (remove the non mL/hour)\n",
                "inputs_small_3=inputs_small_3.drop(inputs_small_3.loc[(inputs_small_3['label']=='Piggyback') & (inputs_small_3['rateuom']!='mL/hour')].index).copy()\n",
                "\n",
                "#Cleaning of Packed Red Bllod Cells (remove the non mL/hour)\n",
                "inputs_small_3=inputs_small_3.drop(inputs_small_3.loc[(inputs_small_3['label']=='Packed Red Blood Cells') & (inputs_small_3['rateuom']!='mL/hour')].index).copy()\n",
                "\n",
                "#Cleaning of Phenylephrine\n",
                "inputs_small_3=inputs_small_3.drop(inputs_small_3.loc[(inputs_small_3['label']=='Phenylephrine') & (inputs_small_3['rateuom']!='mcg/kg/min')].index).copy()\n",
                "\n",
                "#Cleaning of Sterile Water \n",
                "inputs_small_3=inputs_small_3.drop(inputs_small_3.loc[(inputs_small_3['label']=='Sterile Water') & (inputs_small_3['rateuom']!='mL/hour')].index).copy()\n",
                "\n",
                "#Cleaning of Heparin Sodium \n",
                "inputs_small_3=inputs_small_3.drop(inputs_small_3.loc[(inputs_small_3['label']=='Heparin Sodium') & (inputs_small_3['rateuom']!='units/hour')].index).copy()\n",
                "\n",
                "#Cleaning of Norepinephrine\n",
                "inputs_small_3=inputs_small_3.drop(inputs_small_3.loc[(inputs_small_3['label']=='Norepinephrine') & (inputs_small_3['rateuom']!='mcg/kg/min')].index).copy()\n",
                "\n",
                "#Cleaning of Solution\n",
                "inputs_small_3=inputs_small_3.drop(inputs_small_3.loc[(inputs_small_3['label']=='Solution') & (inputs_small_3['rateuom']!='mL/hour')].index).copy()\n",
                "\n",
                "#Check if a single unit per drug\n",
                "inputs_small_3.groupby('label')['rateuom'].value_counts()"
            ]
        },
        {
            "attachments": {},
            "cell_type": "markdown",
            "metadata": {},
            "source": [
                "We now split the entries which are spread in time.\n",
                "We chose the duration window for the sampling. here we choose 30 minutes. So every entry which has a rate and with duration larger than 1 hour, we split it into fixed times injections."
            ]
        },
        {
            "cell_type": "code",
            "execution_count": 13,
            "metadata": {},
            "outputs": [],
            "source": [
                "# We now split the entries which are spread in time. We chose the duration window for the sampling. here we choose 30 minutes. \n",
                "# So every entry which has a rate and with duration larger than 1 hour, we split it into fixed times injections.\n",
                "\n",
                "#First check the /hours units\n",
                "df_temp=inputs_small_3.loc[(inputs_small_3['rate'].notnull()) & (inputs_small_3['rateuom'].str.contains('mcg/kg/hour'))].copy()\n",
                "df_temp['computed_amount']=df_temp['rate']*((pd.to_datetime(df_temp['endtime'])-pd.to_datetime(df_temp['starttime'])).dt.total_seconds()/3600)*df_temp['patientweight']\n",
                "\n",
                "#Check with a 0.01 tolerance\n",
                "assert(len(df_temp.loc[(abs(df_temp['computed_amount']-1000*df_temp['amount'])>0.01)].index)==0) #OK\n",
                "\n",
                "df_temp=inputs_small_3.loc[(inputs_small_3['rate'].notnull()) & (inputs_small_3['rateuom'].str.contains('mL/hour'))].copy()\n",
                "df_temp['computed_amount']=df_temp['rate']*((pd.to_datetime(df_temp['endtime'])-pd.to_datetime(df_temp['starttime'])).dt.total_seconds()/3600)\n",
                "\n",
                "#Check with a 0.01 tolerance\n",
                "assert(len(df_temp.loc[(abs(df_temp['computed_amount']-df_temp['amount'])>0.01)].index)==0) #OK\n",
                "\n",
                "df_temp=inputs_small_3.loc[(inputs_small_3['rate'].notnull()) & (inputs_small_3['rateuom'].str.contains('mg/hour'))].copy()\n",
                "df_temp['computed_amount']=df_temp['rate']*((pd.to_datetime(df_temp['endtime'])-pd.to_datetime(df_temp['starttime'])).dt.total_seconds()/3600)\n",
                "\n",
                "#Check with a 0.01 tolerance\n",
                "assert(len(df_temp.loc[(abs(df_temp['computed_amount']-df_temp['amount'])>0.01)].index)==0) #OK\n",
                "\n",
                "df_temp=inputs_small_3.loc[(inputs_small_3['rate'].notnull()) & (inputs_small_3['rateuom'].str.contains('mcg/hour'))].copy()\n",
                "df_temp['computed_amount']=df_temp['rate']*((pd.to_datetime(df_temp['endtime'])-pd.to_datetime(df_temp['starttime'])).dt.total_seconds()/3600)\n",
                "\n",
                "#Check with a 0.01 tolerance\n",
                "assert(len(df_temp.loc[(abs(df_temp['computed_amount']-df_temp['amount'])>0.01)].index)==0) #OK\n",
                "\n",
                "df_temp=inputs_small_3.loc[(inputs_small_3['rate'].notnull()) & (inputs_small_3['rateuom'].str.contains('units/hour'))].copy()\n",
                "df_temp['computed_amount']=df_temp['rate']*((pd.to_datetime(df_temp['endtime'])-pd.to_datetime(df_temp['starttime'])).dt.total_seconds()/3600)\n",
                "\n",
                "#Check with a 0.01 tolerance\n",
                "assert(len(df_temp.loc[(abs(df_temp['computed_amount']-df_temp['amount'])>0.01)].index)==0) #OK\n",
                "\n",
                "df_temp=inputs_small_3.loc[(inputs_small_3['rate'].notnull()) & (inputs_small_3['rateuom'].str.contains('mg/min'))].copy()\n",
                "df_temp['computed_amount']=df_temp['rate']*((pd.to_datetime(df_temp['endtime'])-pd.to_datetime(df_temp['starttime'])).dt.total_seconds()/60)\n",
                "\n",
                "#Check with a 0.01 tolerance\n",
                "assert(len(df_temp.loc[(abs(df_temp['computed_amount']-df_temp['amount'])>0.01)].index)==0) #OK\n",
                "\n",
                "#Third check the kg/min units\n",
                "df_temp=inputs_small_3.loc[(inputs_small_3['rate'].notnull()) & (inputs_small_3['rateuom'].str.contains('mcg/kg/min'))].copy()\n",
                "df_temp['computed_amount']=df_temp['rate']*((pd.to_datetime(df_temp['endtime'])-pd.to_datetime(df_temp['starttime'])).dt.total_seconds()/60)*df_temp['patientweight']\n",
                "\n",
                "#Check with a 0.01 tolerance\n",
                "assert(len(df_temp.loc[(abs(df_temp['computed_amount']/1000-df_temp['amount'])>0.01)].index)==0) #OK"
            ]
        },
        {
            "cell_type": "code",
            "execution_count": 14,
            "metadata": {},
            "outputs": [],
            "source": [
                "duration_split_hours=0.5\n",
                "to_sec_fact=3600*duration_split_hours\n",
                "\n",
                "#split data set in four.\n",
                "\n",
                "#The first dataframe contains the entries with no rate but with extended duration inputs (over 0.5 hour)\n",
                "df_temp1=inputs_small_3.loc[((pd.to_datetime(inputs_small_3['endtime'])-pd.to_datetime(inputs_small_3['starttime']))>timedelta(hours=duration_split_hours)) & (inputs_small_3['rate'].isnull())].copy().reset_index(drop=True)\n",
                "#The second dataframe contains the entries with no rate and low duration entries (<0.5hour)\n",
                "df_temp2=inputs_small_3.loc[((pd.to_datetime(inputs_small_3['endtime'])-pd.to_datetime(inputs_small_3['starttime']))<=timedelta(hours=duration_split_hours)) & (inputs_small_3['rate'].isnull())].copy().reset_index(drop=True)\n",
                "#The third dataframe contains the entries with a rate and extended duration inputs (over 0.5 hour)\n",
                "df_temp3=inputs_small_3.loc[((pd.to_datetime(inputs_small_3['endtime'])-pd.to_datetime(inputs_small_3['starttime']))>timedelta(hours=duration_split_hours)) & (inputs_small_3['rate'].notnull())].copy().reset_index(drop=True)\n",
                "#The forth dataframe contains the entries with a rate and low duration entries (< 0.5 hour)\n",
                "df_temp4=inputs_small_3.loc[((pd.to_datetime(inputs_small_3['endtime'])-pd.to_datetime(inputs_small_3['starttime']))<=timedelta(hours=duration_split_hours)) & (inputs_small_3['rate'].notnull())].copy().reset_index(drop=True)\n",
                "\n",
                "#Check if split is complete\n",
                "assert(len(df_temp1.index)+len(df_temp2.index)+len(df_temp3.index)+len(df_temp4.index)==len(inputs_small_3.index))"
            ]
        },
        {
            "cell_type": "code",
            "execution_count": 15,
            "metadata": {},
            "outputs": [],
            "source": [
                "#We then process all of these dfs.\n",
                "#In the first one, we need to duplicate the entries according to their duration and then divide each entry by the number of duplicates\n",
                "\n",
                "#We duplicate the rows with the number bins for each injection\n",
                "df_temp1['Repeat']=np.ceil((pd.to_datetime(df_temp1['endtime'])-pd.to_datetime(df_temp1['starttime'])).dt.total_seconds()/to_sec_fact).astype(int)\n",
                "df_new1=df_temp1.reindex(df_temp1.index.repeat(df_temp1['Repeat']))\n",
                "\n",
                "#We then create the admninistration time as a shifted version of the STARTTIME.\n",
                "df_new1['charttime']=df_new1.groupby(level=0)['starttime'].transform(lambda x: pd.date_range(start=x.iat[0],freq=str(60*duration_split_hours)+'min',periods=len(x)))\n",
                "#We divide each entry by the number of repeats\n",
                "df_new1['amount']=df_new1['amount']/df_new1['Repeat']"
            ]
        },
        {
            "cell_type": "code",
            "execution_count": 16,
            "metadata": {},
            "outputs": [],
            "source": [
                "# In the third one, we do the same\n",
                "#We duplicate the rows with the number bins for each injection\n",
                "df_temp3['Repeat']=np.ceil((pd.to_datetime(df_temp3['endtime'])-pd.to_datetime(df_temp3['starttime'])).dt.total_seconds()/to_sec_fact).astype(int)\n",
                "df_new3=df_temp3.reindex(df_temp3.index.repeat(df_temp3['Repeat']))\n",
                "#We then create the admninistration time as a shifted version of the STARTTIME.\n",
                "df_new3['charttime']=df_new3.groupby(level=0)['starttime'].transform(lambda x: pd.date_range(start=x.iat[0],freq=str(60*duration_split_hours)+'min',periods=len(x)))\n",
                "#We divide each entry by the number of repeats\n",
                "df_new3['amount']=df_new3['amount']/df_new3['Repeat']"
            ]
        },
        {
            "cell_type": "code",
            "execution_count": 17,
            "metadata": {},
            "outputs": [],
            "source": [
                "df_temp2['charttime']=df_temp2['starttime']\n",
                "df_temp4['charttime']=df_temp4['starttime']"
            ]
        },
        {
            "cell_type": "code",
            "execution_count": 18,
            "metadata": {},
            "outputs": [
                {
                    "name": "stderr",
                    "output_type": "stream",
                    "text": [
                        "/tmp/ipykernel_2680774/2021890589.py:2: FutureWarning: The frame.append method is deprecated and will be removed from pandas in a future version. Use pandas.concat instead.\n",
                        "  inputs_small_4=df_new1.append([df_temp2,df_new3,df_temp4], sort=True)\n"
                    ]
                },
                {
                    "data": {
                        "text/plain": [
                            "(17637683, 14)"
                        ]
                    },
                    "execution_count": 18,
                    "metadata": {},
                    "output_type": "execute_result"
                }
            ],
            "source": [
                "#Eventually, we merge all 4splits into one.\n",
                "inputs_small_4=df_new1.append([df_temp2,df_new3,df_temp4], sort=True)\n",
                "#The result is a dataset with discrete inputs for each treatment.\n",
                "inputs_small_4.shape"
            ]
        },
        {
            "cell_type": "code",
            "execution_count": 19,
            "metadata": {},
            "outputs": [
                {
                    "data": {
                        "text/plain": [
                            "52548"
                        ]
                    },
                    "execution_count": 19,
                    "metadata": {},
                    "output_type": "execute_result"
                }
            ],
            "source": [
                "inputs_small_4.to_csv(path_data + '/processed/inputs_processed.csv')\n",
                "inputs_small_4['hadm_id'].nunique()"
            ]
        },
        {
            "cell_type": "code",
            "execution_count": null,
            "metadata": {},
            "outputs": [],
            "source": []
        }
    ],
    "metadata": {
        "kernelspec": {
            "display_name": "Python 3 (ipykernel)",
            "language": "python",
            "name": "python3"
        },
        "language_info": {
            "codemirror_mode": {
                "name": "ipython",
                "version": 3
            },
            "file_extension": ".py",
            "mimetype": "text/x-python",
            "name": "python",
            "nbconvert_exporter": "python",
            "pygments_lexer": "ipython3",
            "version": "3.8.16"
        },
        "vscode": {
            "interpreter": {
                "hash": "31f2aee4e71d21fbe5cf8b01ff0e069b9275f58929596ceb00d14d90e3e16cd6"
            }
        }
    },
    "nbformat": 4,
    "nbformat_minor": 4
}
