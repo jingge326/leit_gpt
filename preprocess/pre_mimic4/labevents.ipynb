{
    "cells": [
        {
            "attachments": {},
            "cell_type": "markdown",
            "metadata": {},
            "source": [
                "# MIMIC 4 data - dataset construction labevents"
            ]
        },
        {
            "attachments": {},
            "cell_type": "markdown",
            "metadata": {},
            "source": [
                "Code taken from GRU-ODE-Bayes preprocessing; simplified and adapted for MIMIC 4 1.0"
            ]
        },
        {
            "cell_type": "code",
            "execution_count": 1,
            "metadata": {},
            "outputs": [],
            "source": [
                "import os\n",
                "import pathlib\n",
                "import pandas as pd\n",
                "\n",
                "p_project = str(pathlib.Path(os.getcwd()).parents[1])"
            ]
        },
        {
            "cell_type": "code",
            "execution_count": 2,
            "metadata": {},
            "outputs": [],
            "source": [
                "pd.set_option('display.max_rows', 50)\n",
                "pd.set_option('display.max_columns', 300)"
            ]
        },
        {
            "cell_type": "code",
            "execution_count": 3,
            "metadata": {},
            "outputs": [],
            "source": [
                "path_data = p_project + '/data/mimic4'"
            ]
        },
        {
            "cell_type": "code",
            "execution_count": 4,
            "metadata": {},
            "outputs": [
                {
                    "data": {
                        "text/html": [
                            "<div>\n",
                            "<style scoped>\n",
                            "    .dataframe tbody tr th:only-of-type {\n",
                            "        vertical-align: middle;\n",
                            "    }\n",
                            "\n",
                            "    .dataframe tbody tr th {\n",
                            "        vertical-align: top;\n",
                            "    }\n",
                            "\n",
                            "    .dataframe thead th {\n",
                            "        text-align: right;\n",
                            "    }\n",
                            "</style>\n",
                            "<table border=\"1\" class=\"dataframe\">\n",
                            "  <thead>\n",
                            "    <tr style=\"text-align: right;\">\n",
                            "      <th></th>\n",
                            "      <th>Unnamed: 0</th>\n",
                            "      <th>hadm_id</th>\n",
                            "      <th>icu_los</th>\n",
                            "      <th>subject_id</th>\n",
                            "      <th>anchor_age</th>\n",
                            "      <th>admittime</th>\n",
                            "      <th>dischtime</th>\n",
                            "      <th>deathtime</th>\n",
                            "      <th>admission_type</th>\n",
                            "      <th>admit_provider_id</th>\n",
                            "      <th>admission_location</th>\n",
                            "      <th>discharge_location</th>\n",
                            "      <th>insurance</th>\n",
                            "      <th>language</th>\n",
                            "      <th>marital_status</th>\n",
                            "      <th>race</th>\n",
                            "      <th>edregtime</th>\n",
                            "      <th>edouttime</th>\n",
                            "      <th>hospital_expire_flag</th>\n",
                            "    </tr>\n",
                            "  </thead>\n",
                            "  <tbody>\n",
                            "    <tr>\n",
                            "      <th>0</th>\n",
                            "      <td>2</td>\n",
                            "      <td>24597018</td>\n",
                            "      <td>1.118032</td>\n",
                            "      <td>10001217</td>\n",
                            "      <td>55</td>\n",
                            "      <td>2157-11-18 22:56:00</td>\n",
                            "      <td>2157-11-25 18:00:00</td>\n",
                            "      <td>NaN</td>\n",
                            "      <td>EW EMER.</td>\n",
                            "      <td>P4645A</td>\n",
                            "      <td>EMERGENCY ROOM</td>\n",
                            "      <td>HOME HEALTH CARE</td>\n",
                            "      <td>Other</td>\n",
                            "      <td>?</td>\n",
                            "      <td>MARRIED</td>\n",
                            "      <td>WHITE</td>\n",
                            "      <td>2157-11-18 17:38:00</td>\n",
                            "      <td>2157-11-19 01:24:00</td>\n",
                            "      <td>0</td>\n",
                            "    </tr>\n",
                            "    <tr>\n",
                            "      <th>1</th>\n",
                            "      <td>4</td>\n",
                            "      <td>25563031</td>\n",
                            "      <td>1.338588</td>\n",
                            "      <td>10001725</td>\n",
                            "      <td>46</td>\n",
                            "      <td>2110-04-11 15:08:00</td>\n",
                            "      <td>2110-04-14 15:00:00</td>\n",
                            "      <td>NaN</td>\n",
                            "      <td>EW EMER.</td>\n",
                            "      <td>P35SU0</td>\n",
                            "      <td>PACU</td>\n",
                            "      <td>HOME</td>\n",
                            "      <td>Other</td>\n",
                            "      <td>ENGLISH</td>\n",
                            "      <td>MARRIED</td>\n",
                            "      <td>WHITE</td>\n",
                            "      <td>NaN</td>\n",
                            "      <td>NaN</td>\n",
                            "      <td>0</td>\n",
                            "    </tr>\n",
                            "    <tr>\n",
                            "      <th>2</th>\n",
                            "      <td>5</td>\n",
                            "      <td>26184834</td>\n",
                            "      <td>9.171817</td>\n",
                            "      <td>10001884</td>\n",
                            "      <td>68</td>\n",
                            "      <td>2131-01-07 20:39:00</td>\n",
                            "      <td>2131-01-20 05:15:00</td>\n",
                            "      <td>2131-01-20 05:15:00</td>\n",
                            "      <td>OBSERVATION ADMIT</td>\n",
                            "      <td>P874LG</td>\n",
                            "      <td>EMERGENCY ROOM</td>\n",
                            "      <td>DIED</td>\n",
                            "      <td>Medicare</td>\n",
                            "      <td>ENGLISH</td>\n",
                            "      <td>MARRIED</td>\n",
                            "      <td>BLACK/AFRICAN AMERICAN</td>\n",
                            "      <td>2131-01-07 13:36:00</td>\n",
                            "      <td>2131-01-07 22:13:00</td>\n",
                            "      <td>1</td>\n",
                            "    </tr>\n",
                            "    <tr>\n",
                            "      <th>3</th>\n",
                            "      <td>6</td>\n",
                            "      <td>23581541</td>\n",
                            "      <td>1.314352</td>\n",
                            "      <td>10002013</td>\n",
                            "      <td>53</td>\n",
                            "      <td>2160-05-18 07:45:00</td>\n",
                            "      <td>2160-05-23 13:30:00</td>\n",
                            "      <td>NaN</td>\n",
                            "      <td>SURGICAL SAME DAY ADMISSION</td>\n",
                            "      <td>P47E1G</td>\n",
                            "      <td>PHYSICIAN REFERRAL</td>\n",
                            "      <td>HOME HEALTH CARE</td>\n",
                            "      <td>Medicare</td>\n",
                            "      <td>ENGLISH</td>\n",
                            "      <td>SINGLE</td>\n",
                            "      <td>OTHER</td>\n",
                            "      <td>NaN</td>\n",
                            "      <td>NaN</td>\n",
                            "      <td>0</td>\n",
                            "    </tr>\n",
                            "    <tr>\n",
                            "      <th>4</th>\n",
                            "      <td>8</td>\n",
                            "      <td>23822395</td>\n",
                            "      <td>6.178912</td>\n",
                            "      <td>10002155</td>\n",
                            "      <td>80</td>\n",
                            "      <td>2129-08-04 12:44:00</td>\n",
                            "      <td>2129-08-18 16:53:00</td>\n",
                            "      <td>NaN</td>\n",
                            "      <td>EW EMER.</td>\n",
                            "      <td>P05HUO</td>\n",
                            "      <td>PROCEDURE SITE</td>\n",
                            "      <td>CHRONIC/LONG TERM ACUTE CARE</td>\n",
                            "      <td>Other</td>\n",
                            "      <td>ENGLISH</td>\n",
                            "      <td>MARRIED</td>\n",
                            "      <td>WHITE</td>\n",
                            "      <td>2129-08-04 11:00:00</td>\n",
                            "      <td>2129-08-04 12:35:00</td>\n",
                            "      <td>0</td>\n",
                            "    </tr>\n",
                            "  </tbody>\n",
                            "</table>\n",
                            "</div>"
                        ],
                        "text/plain": [
                            "   Unnamed: 0   hadm_id   icu_los  subject_id  anchor_age  \\\n",
                            "0           2  24597018  1.118032    10001217          55   \n",
                            "1           4  25563031  1.338588    10001725          46   \n",
                            "2           5  26184834  9.171817    10001884          68   \n",
                            "3           6  23581541  1.314352    10002013          53   \n",
                            "4           8  23822395  6.178912    10002155          80   \n",
                            "\n",
                            "             admittime            dischtime            deathtime  \\\n",
                            "0  2157-11-18 22:56:00  2157-11-25 18:00:00                  NaN   \n",
                            "1  2110-04-11 15:08:00  2110-04-14 15:00:00                  NaN   \n",
                            "2  2131-01-07 20:39:00  2131-01-20 05:15:00  2131-01-20 05:15:00   \n",
                            "3  2160-05-18 07:45:00  2160-05-23 13:30:00                  NaN   \n",
                            "4  2129-08-04 12:44:00  2129-08-18 16:53:00                  NaN   \n",
                            "\n",
                            "                admission_type admit_provider_id  admission_location  \\\n",
                            "0                     EW EMER.            P4645A      EMERGENCY ROOM   \n",
                            "1                     EW EMER.            P35SU0                PACU   \n",
                            "2            OBSERVATION ADMIT            P874LG      EMERGENCY ROOM   \n",
                            "3  SURGICAL SAME DAY ADMISSION            P47E1G  PHYSICIAN REFERRAL   \n",
                            "4                     EW EMER.            P05HUO      PROCEDURE SITE   \n",
                            "\n",
                            "             discharge_location insurance language marital_status  \\\n",
                            "0              HOME HEALTH CARE     Other        ?        MARRIED   \n",
                            "1                          HOME     Other  ENGLISH        MARRIED   \n",
                            "2                          DIED  Medicare  ENGLISH        MARRIED   \n",
                            "3              HOME HEALTH CARE  Medicare  ENGLISH         SINGLE   \n",
                            "4  CHRONIC/LONG TERM ACUTE CARE     Other  ENGLISH        MARRIED   \n",
                            "\n",
                            "                     race            edregtime            edouttime  \\\n",
                            "0                   WHITE  2157-11-18 17:38:00  2157-11-19 01:24:00   \n",
                            "1                   WHITE                  NaN                  NaN   \n",
                            "2  BLACK/AFRICAN AMERICAN  2131-01-07 13:36:00  2131-01-07 22:13:00   \n",
                            "3                   OTHER                  NaN                  NaN   \n",
                            "4                   WHITE  2129-08-04 11:00:00  2129-08-04 12:35:00   \n",
                            "\n",
                            "   hospital_expire_flag  \n",
                            "0                     0  \n",
                            "1                     0  \n",
                            "2                     1  \n",
                            "3                     0  \n",
                            "4                     0  "
                        ]
                    },
                    "execution_count": 4,
                    "metadata": {},
                    "output_type": "execute_result"
                }
            ],
            "source": [
                "adm = pd.read_csv(path_data + '/processed/admissions_processed.csv')\n",
                "adm.head()"
            ]
        },
        {
            "cell_type": "code",
            "execution_count": null,
            "metadata": {},
            "outputs": [],
            "source": [
                "df = pd.DataFrame()\n",
                "for chunk in pd.read_csv(path_data + '/raw/hosp/labevents.csv.gz', chunksize=500000):\n",
                "    adm_ids=list(adm['hadm_id'])\n",
                "    chunk=chunk.loc[chunk['hadm_id'].isin(adm_ids)]\n",
                "    df = pd.concat([df, chunk[['subject_id', 'hadm_id', 'charttime', 'valuenum', 'itemid']]])"
            ]
        },
        {
            "cell_type": "code",
            "execution_count": 6,
            "metadata": {},
            "outputs": [
                {
                    "name": "stdout",
                    "output_type": "stream",
                    "text": [
                        "Number of patients remaining in the database: \n",
                        "41986\n"
                    ]
                }
            ],
            "source": [
                "# only choose previously selected admission ids.\n",
                "print('Number of patients remaining in the database: ')\n",
                "print(df['subject_id'].nunique())"
            ]
        },
        {
            "cell_type": "code",
            "execution_count": 7,
            "metadata": {},
            "outputs": [
                {
                    "data": {
                        "text/html": [
                            "<div>\n",
                            "<style scoped>\n",
                            "    .dataframe tbody tr th:only-of-type {\n",
                            "        vertical-align: middle;\n",
                            "    }\n",
                            "\n",
                            "    .dataframe tbody tr th {\n",
                            "        vertical-align: top;\n",
                            "    }\n",
                            "\n",
                            "    .dataframe thead th {\n",
                            "        text-align: right;\n",
                            "    }\n",
                            "</style>\n",
                            "<table border=\"1\" class=\"dataframe\">\n",
                            "  <thead>\n",
                            "    <tr style=\"text-align: right;\">\n",
                            "      <th></th>\n",
                            "      <th>itemid</th>\n",
                            "      <th>label</th>\n",
                            "    </tr>\n",
                            "  </thead>\n",
                            "  <tbody>\n",
                            "    <tr>\n",
                            "      <th>0</th>\n",
                            "      <td>50801</td>\n",
                            "      <td>Alveolar-arterial Gradient</td>\n",
                            "    </tr>\n",
                            "    <tr>\n",
                            "      <th>1</th>\n",
                            "      <td>50802</td>\n",
                            "      <td>Base Excess</td>\n",
                            "    </tr>\n",
                            "    <tr>\n",
                            "      <th>2</th>\n",
                            "      <td>50803</td>\n",
                            "      <td>Calculated Bicarbonate, Whole Blood</td>\n",
                            "    </tr>\n",
                            "    <tr>\n",
                            "      <th>3</th>\n",
                            "      <td>50804</td>\n",
                            "      <td>Calculated Total CO2</td>\n",
                            "    </tr>\n",
                            "    <tr>\n",
                            "      <th>4</th>\n",
                            "      <td>50805</td>\n",
                            "      <td>Carboxyhemoglobin</td>\n",
                            "    </tr>\n",
                            "  </tbody>\n",
                            "</table>\n",
                            "</div>"
                        ],
                        "text/plain": [
                            "   itemid                                label\n",
                            "0   50801           Alveolar-arterial Gradient\n",
                            "1   50802                          Base Excess\n",
                            "2   50803  Calculated Bicarbonate, Whole Blood\n",
                            "3   50804                 Calculated Total CO2\n",
                            "4   50805                    Carboxyhemoglobin"
                        ]
                    },
                    "execution_count": 7,
                    "metadata": {},
                    "output_type": "execute_result"
                }
            ],
            "source": [
                "# get item ids\n",
                "item_id=pd.read_csv(path_data + '/raw/hosp/d_labitems.csv.gz')\n",
                "item_id_1=item_id[['itemid','label']]\n",
                "item_id_1.head()"
            ]
        },
        {
            "cell_type": "code",
            "execution_count": 8,
            "metadata": {},
            "outputs": [
                {
                    "name": "stdout",
                    "output_type": "stream",
                    "text": [
                        "Number of patients remaining in the database: \n",
                        "41986\n"
                    ]
                }
            ],
            "source": [
                "# get names of administered items\n",
                "lab2=pd.merge(df,item_id_1,on='itemid')\n",
                "lab2.head()\n",
                "print('Number of patients remaining in the database: ')\n",
                "print(lab2['subject_id'].nunique())"
            ]
        },
        {
            "cell_type": "code",
            "execution_count": 9,
            "metadata": {},
            "outputs": [
                {
                    "name": "stdout",
                    "output_type": "stream",
                    "text": [
                        "Number of patients remaining in the database: \n",
                        "41985\n"
                    ]
                }
            ],
            "source": [
                "# get only top 150 most used tests\n",
                "n_best=150\n",
                "pat_for_item=lab2.groupby('label')['subject_id'].nunique()\n",
                "frequent_labels=pat_for_item.sort_values(ascending=False)[:n_best]\n",
                "lab3=lab2.loc[lab2['label'].isin(list(frequent_labels.index))].copy()\n",
                "\n",
                "print('Number of patients remaining in the database: ')\n",
                "print(lab3['subject_id'].nunique())"
            ]
        },
        {
            "cell_type": "code",
            "execution_count": 10,
            "metadata": {},
            "outputs": [
                {
                    "data": {
                        "text/plain": [
                            "label\n",
                            "Glucose                            41959\n",
                            "Sodium                             41952\n",
                            "Potassium                          41952\n",
                            "Chloride                           41951\n",
                            "Creatinine                         41950\n",
                            "Urea Nitrogen                      41948\n",
                            "Anion Gap                          41948\n",
                            "Bicarbonate                        41948\n",
                            "Hematocrit                         41939\n",
                            "Platelet Count                     41936\n",
                            "Hemoglobin                         41934\n",
                            "MCHC                               41933\n",
                            "White Blood Cells                  41933\n",
                            "MCH                                41933\n",
                            "RDW                                41933\n",
                            "MCV                                41933\n",
                            "Red Blood Cells                    41933\n",
                            "Magnesium                          41884\n",
                            "Phosphate                          41128\n",
                            "Calcium, Total                     41090\n",
                            "PT                                 39998\n",
                            "INR(PT)                            39998\n",
                            "PTT                                39878\n",
                            "pH                                 36508\n",
                            "Specimen Type                      32738\n",
                            "Lactate                            31802\n",
                            "Estimated GFR (MDRD equation)      31360\n",
                            "Base Excess                        31311\n",
                            "Calculated Total CO2               31307\n",
                            "pCO2                               31306\n",
                            "pO2                                31306\n",
                            "Alanine Aminotransferase (ALT)     29083\n",
                            "Asparate Aminotransferase (AST)    29059\n",
                            "Bilirubin, Total                   28922\n",
                            "Alkaline Phosphatase               28743\n",
                            "Lymphocytes                        27708\n",
                            "Monocytes                          27665\n",
                            "Eosinophils                        27562\n",
                            "Nitrite                            27424\n",
                            "Protein                            27424\n",
                            "Urobilinogen                       27424\n",
                            "Urine Appearance                   27424\n",
                            "Blood                              27424\n",
                            "Urine Color                        27424\n",
                            "Ketone                             27424\n",
                            "Bilirubin                          27424\n",
                            "Leukocytes                         27424\n",
                            "Specific Gravity                   27424\n",
                            "Basophils                          27241\n",
                            "Neutrophils                        27208\n",
                            "Name: subject_id, dtype: int64"
                        ]
                    },
                    "execution_count": 10,
                    "metadata": {},
                    "output_type": "execute_result"
                }
            ],
            "source": [
                "frequent_labels.head(50)"
            ]
        },
        {
            "cell_type": "code",
            "execution_count": 11,
            "metadata": {},
            "outputs": [],
            "source": [
                "# only select the subset that was used in the paper (only missing is INR(PT))\n",
                "subset=['Albumin','Alanine Aminotransferase (ALT)','Alkaline Phosphatase','Anion Gap','Asparate Aminotransferase (AST)','Base Excess','Basophils','Bicarbonate','Bilirubin, Total','Calcium, Total','Calculated Total CO2','Chloride','Creatinine','Eosinophils','Glucose','Hematocrit','Hemoglobin',\n",
                "'Lactate','Lymphocytes','MCH','MCV','Magnesium','Monocytes','Neutrophils','PT','PTT','Phosphate','Platelet Count','Potassium','RDW','Red Blood Cells','Sodium','Specific Gravity','Urea Nitrogen','White Blood Cells','pCO2','pH','pO2']\n",
                "\n",
                "lab3=lab3.loc[lab3['label'].isin(subset)].copy()"
            ]
        },
        {
            "cell_type": "code",
            "execution_count": 12,
            "metadata": {},
            "outputs": [
                {
                    "data": {
                        "text/plain": [
                            "array(['Monocytes', 'Creatinine', 'Hematocrit', 'Hemoglobin', 'MCH',\n",
                            "       'MCV', 'Platelet Count', 'RDW', 'Red Blood Cells',\n",
                            "       'White Blood Cells', 'PT', 'PTT', 'Anion Gap', 'Bicarbonate',\n",
                            "       'Calcium, Total', 'Chloride', 'Glucose', 'Magnesium', 'Phosphate',\n",
                            "       'Potassium', 'Sodium', 'Urea Nitrogen', 'Basophils', 'Eosinophils',\n",
                            "       'Lymphocytes', 'Neutrophils', 'pH', 'Specific Gravity',\n",
                            "       'Alanine Aminotransferase (ALT)', 'Alkaline Phosphatase',\n",
                            "       'Asparate Aminotransferase (AST)', 'Bilirubin, Total',\n",
                            "       'Base Excess', 'Calculated Total CO2', 'Lactate', 'pCO2', 'pO2',\n",
                            "       'Albumin'], dtype=object)"
                        ]
                    },
                    "execution_count": 12,
                    "metadata": {},
                    "output_type": "execute_result"
                }
            ],
            "source": [
                "lab3['label'].unique()"
            ]
        },
        {
            "cell_type": "code",
            "execution_count": 13,
            "metadata": {},
            "outputs": [],
            "source": [
                "lab3.to_csv(path_data + '/processed/lab_processed.csv')"
            ]
        }
    ],
    "metadata": {
        "kernelspec": {
            "display_name": "Python 3 (ipykernel)",
            "language": "python",
            "name": "python3"
        },
        "language_info": {
            "codemirror_mode": {
                "name": "ipython",
                "version": 3
            },
            "file_extension": ".py",
            "mimetype": "text/x-python",
            "name": "python",
            "nbconvert_exporter": "python",
            "pygments_lexer": "ipython3",
            "version": "3.8.16"
        },
        "vscode": {
            "interpreter": {
                "hash": "31f2aee4e71d21fbe5cf8b01ff0e069b9275f58929596ceb00d14d90e3e16cd6"
            }
        }
    },
    "nbformat": 4,
    "nbformat_minor": 4
}
