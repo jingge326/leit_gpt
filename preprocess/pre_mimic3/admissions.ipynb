{
    "cells": [
        {
            "cell_type": "code",
            "execution_count": 1,
            "metadata": {},
            "outputs": [],
            "source": [
                "import os\n",
                "import pathlib\n",
                "\n",
                "p_project = str(pathlib.Path(os.getcwd()).parents[1])"
            ]
        },
        {
            "cell_type": "code",
            "execution_count": 2,
            "metadata": {},
            "outputs": [],
            "source": [
                "import pandas as pd\n",
                "import matplotlib.pyplot as plt\n",
                "\n",
                "from datetime import datetime\n",
                "from datetime import timedelta\n",
                "\n",
                "import numpy as np"
            ]
        },
        {
            "cell_type": "code",
            "execution_count": 3,
            "metadata": {
                "scrolled": true
            },
            "outputs": [
                {
                    "data": {
                        "text/html": [
                            "<div>\n",
                            "<style scoped>\n",
                            "    .dataframe tbody tr th:only-of-type {\n",
                            "        vertical-align: middle;\n",
                            "    }\n",
                            "\n",
                            "    .dataframe tbody tr th {\n",
                            "        vertical-align: top;\n",
                            "    }\n",
                            "\n",
                            "    .dataframe thead th {\n",
                            "        text-align: right;\n",
                            "    }\n",
                            "</style>\n",
                            "<table border=\"1\" class=\"dataframe\">\n",
                            "  <thead>\n",
                            "    <tr style=\"text-align: right;\">\n",
                            "      <th></th>\n",
                            "      <th>ROW_ID</th>\n",
                            "      <th>SUBJECT_ID</th>\n",
                            "      <th>HADM_ID</th>\n",
                            "      <th>ADMITTIME</th>\n",
                            "      <th>DISCHTIME</th>\n",
                            "      <th>DEATHTIME</th>\n",
                            "      <th>ADMISSION_TYPE</th>\n",
                            "      <th>ADMISSION_LOCATION</th>\n",
                            "      <th>DISCHARGE_LOCATION</th>\n",
                            "      <th>INSURANCE</th>\n",
                            "      <th>LANGUAGE</th>\n",
                            "      <th>RELIGION</th>\n",
                            "      <th>MARITAL_STATUS</th>\n",
                            "      <th>ETHNICITY</th>\n",
                            "      <th>EDREGTIME</th>\n",
                            "      <th>EDOUTTIME</th>\n",
                            "      <th>DIAGNOSIS</th>\n",
                            "      <th>HOSPITAL_EXPIRE_FLAG</th>\n",
                            "      <th>HAS_CHARTEVENTS_DATA</th>\n",
                            "    </tr>\n",
                            "  </thead>\n",
                            "  <tbody>\n",
                            "    <tr>\n",
                            "      <th>0</th>\n",
                            "      <td>21</td>\n",
                            "      <td>22</td>\n",
                            "      <td>165315</td>\n",
                            "      <td>2196-04-09 12:26:00</td>\n",
                            "      <td>2196-04-10 15:54:00</td>\n",
                            "      <td>NaN</td>\n",
                            "      <td>EMERGENCY</td>\n",
                            "      <td>EMERGENCY ROOM ADMIT</td>\n",
                            "      <td>DISC-TRAN CANCER/CHLDRN H</td>\n",
                            "      <td>Private</td>\n",
                            "      <td>NaN</td>\n",
                            "      <td>UNOBTAINABLE</td>\n",
                            "      <td>MARRIED</td>\n",
                            "      <td>WHITE</td>\n",
                            "      <td>2196-04-09 10:06:00</td>\n",
                            "      <td>2196-04-09 13:24:00</td>\n",
                            "      <td>BENZODIAZEPINE OVERDOSE</td>\n",
                            "      <td>0</td>\n",
                            "      <td>1</td>\n",
                            "    </tr>\n",
                            "    <tr>\n",
                            "      <th>1</th>\n",
                            "      <td>22</td>\n",
                            "      <td>23</td>\n",
                            "      <td>152223</td>\n",
                            "      <td>2153-09-03 07:15:00</td>\n",
                            "      <td>2153-09-08 19:10:00</td>\n",
                            "      <td>NaN</td>\n",
                            "      <td>ELECTIVE</td>\n",
                            "      <td>PHYS REFERRAL/NORMAL DELI</td>\n",
                            "      <td>HOME HEALTH CARE</td>\n",
                            "      <td>Medicare</td>\n",
                            "      <td>NaN</td>\n",
                            "      <td>CATHOLIC</td>\n",
                            "      <td>MARRIED</td>\n",
                            "      <td>WHITE</td>\n",
                            "      <td>NaN</td>\n",
                            "      <td>NaN</td>\n",
                            "      <td>CORONARY ARTERY DISEASE\\CORONARY ARTERY BYPASS...</td>\n",
                            "      <td>0</td>\n",
                            "      <td>1</td>\n",
                            "    </tr>\n",
                            "    <tr>\n",
                            "      <th>2</th>\n",
                            "      <td>23</td>\n",
                            "      <td>23</td>\n",
                            "      <td>124321</td>\n",
                            "      <td>2157-10-18 19:34:00</td>\n",
                            "      <td>2157-10-25 14:00:00</td>\n",
                            "      <td>NaN</td>\n",
                            "      <td>EMERGENCY</td>\n",
                            "      <td>TRANSFER FROM HOSP/EXTRAM</td>\n",
                            "      <td>HOME HEALTH CARE</td>\n",
                            "      <td>Medicare</td>\n",
                            "      <td>ENGL</td>\n",
                            "      <td>CATHOLIC</td>\n",
                            "      <td>MARRIED</td>\n",
                            "      <td>WHITE</td>\n",
                            "      <td>NaN</td>\n",
                            "      <td>NaN</td>\n",
                            "      <td>BRAIN MASS</td>\n",
                            "      <td>0</td>\n",
                            "      <td>1</td>\n",
                            "    </tr>\n",
                            "    <tr>\n",
                            "      <th>3</th>\n",
                            "      <td>24</td>\n",
                            "      <td>24</td>\n",
                            "      <td>161859</td>\n",
                            "      <td>2139-06-06 16:14:00</td>\n",
                            "      <td>2139-06-09 12:48:00</td>\n",
                            "      <td>NaN</td>\n",
                            "      <td>EMERGENCY</td>\n",
                            "      <td>TRANSFER FROM HOSP/EXTRAM</td>\n",
                            "      <td>HOME</td>\n",
                            "      <td>Private</td>\n",
                            "      <td>NaN</td>\n",
                            "      <td>PROTESTANT QUAKER</td>\n",
                            "      <td>SINGLE</td>\n",
                            "      <td>WHITE</td>\n",
                            "      <td>NaN</td>\n",
                            "      <td>NaN</td>\n",
                            "      <td>INTERIOR MYOCARDIAL INFARCTION</td>\n",
                            "      <td>0</td>\n",
                            "      <td>1</td>\n",
                            "    </tr>\n",
                            "    <tr>\n",
                            "      <th>4</th>\n",
                            "      <td>25</td>\n",
                            "      <td>25</td>\n",
                            "      <td>129635</td>\n",
                            "      <td>2160-11-02 02:06:00</td>\n",
                            "      <td>2160-11-05 14:55:00</td>\n",
                            "      <td>NaN</td>\n",
                            "      <td>EMERGENCY</td>\n",
                            "      <td>EMERGENCY ROOM ADMIT</td>\n",
                            "      <td>HOME</td>\n",
                            "      <td>Private</td>\n",
                            "      <td>NaN</td>\n",
                            "      <td>UNOBTAINABLE</td>\n",
                            "      <td>MARRIED</td>\n",
                            "      <td>WHITE</td>\n",
                            "      <td>2160-11-02 01:01:00</td>\n",
                            "      <td>2160-11-02 04:27:00</td>\n",
                            "      <td>ACUTE CORONARY SYNDROME</td>\n",
                            "      <td>0</td>\n",
                            "      <td>1</td>\n",
                            "    </tr>\n",
                            "  </tbody>\n",
                            "</table>\n",
                            "</div>"
                        ],
                        "text/plain": [
                            "   ROW_ID  SUBJECT_ID  HADM_ID            ADMITTIME            DISCHTIME  \\\n",
                            "0      21          22   165315  2196-04-09 12:26:00  2196-04-10 15:54:00   \n",
                            "1      22          23   152223  2153-09-03 07:15:00  2153-09-08 19:10:00   \n",
                            "2      23          23   124321  2157-10-18 19:34:00  2157-10-25 14:00:00   \n",
                            "3      24          24   161859  2139-06-06 16:14:00  2139-06-09 12:48:00   \n",
                            "4      25          25   129635  2160-11-02 02:06:00  2160-11-05 14:55:00   \n",
                            "\n",
                            "  DEATHTIME ADMISSION_TYPE         ADMISSION_LOCATION  \\\n",
                            "0       NaN      EMERGENCY       EMERGENCY ROOM ADMIT   \n",
                            "1       NaN       ELECTIVE  PHYS REFERRAL/NORMAL DELI   \n",
                            "2       NaN      EMERGENCY  TRANSFER FROM HOSP/EXTRAM   \n",
                            "3       NaN      EMERGENCY  TRANSFER FROM HOSP/EXTRAM   \n",
                            "4       NaN      EMERGENCY       EMERGENCY ROOM ADMIT   \n",
                            "\n",
                            "          DISCHARGE_LOCATION INSURANCE LANGUAGE           RELIGION  \\\n",
                            "0  DISC-TRAN CANCER/CHLDRN H   Private      NaN       UNOBTAINABLE   \n",
                            "1           HOME HEALTH CARE  Medicare      NaN           CATHOLIC   \n",
                            "2           HOME HEALTH CARE  Medicare     ENGL           CATHOLIC   \n",
                            "3                       HOME   Private      NaN  PROTESTANT QUAKER   \n",
                            "4                       HOME   Private      NaN       UNOBTAINABLE   \n",
                            "\n",
                            "  MARITAL_STATUS ETHNICITY            EDREGTIME            EDOUTTIME  \\\n",
                            "0        MARRIED     WHITE  2196-04-09 10:06:00  2196-04-09 13:24:00   \n",
                            "1        MARRIED     WHITE                  NaN                  NaN   \n",
                            "2        MARRIED     WHITE                  NaN                  NaN   \n",
                            "3         SINGLE     WHITE                  NaN                  NaN   \n",
                            "4        MARRIED     WHITE  2160-11-02 01:01:00  2160-11-02 04:27:00   \n",
                            "\n",
                            "                                           DIAGNOSIS  HOSPITAL_EXPIRE_FLAG  \\\n",
                            "0                            BENZODIAZEPINE OVERDOSE                     0   \n",
                            "1  CORONARY ARTERY DISEASE\\CORONARY ARTERY BYPASS...                     0   \n",
                            "2                                         BRAIN MASS                     0   \n",
                            "3                     INTERIOR MYOCARDIAL INFARCTION                     0   \n",
                            "4                            ACUTE CORONARY SYNDROME                     0   \n",
                            "\n",
                            "   HAS_CHARTEVENTS_DATA  \n",
                            "0                     1  \n",
                            "1                     1  \n",
                            "2                     1  \n",
                            "3                     1  \n",
                            "4                     1  "
                        ]
                    },
                    "execution_count": 3,
                    "metadata": {},
                    "output_type": "execute_result"
                }
            ],
            "source": [
                "adm=pd.read_csv(p_project + \"/data/mimic3/ADMISSIONS.csv.gz\", compression='gzip')\n",
                "adm.head()"
            ]
        },
        {
            "cell_type": "code",
            "execution_count": 4,
            "metadata": {},
            "outputs": [],
            "source": [
                "#Load the patients data base and add the Date of birth to the admission dataset.\n",
                "patients_df=pd.read_csv(p_project + \"/data/mimic3/PATIENTS.csv.gz\", compression='gzip')\n",
                "patients_df[\"DOBTIME\"]=pd.to_datetime(patients_df[\"DOB\"], format='%Y-%m-%d')\n",
                "patients_df[[\"SUBJECT_ID\",\"DOBTIME\"]].head()\n",
                "adm_dob=pd.merge(patients_df[[\"SUBJECT_ID\",\"DOBTIME\"]],adm,on=\"SUBJECT_ID\")"
            ]
        },
        {
            "cell_type": "code",
            "execution_count": 5,
            "metadata": {},
            "outputs": [
                {
                    "data": {
                        "image/png": "[encoded data removed]",
                        "text/plain": [
                            "<Figure size 432x288 with 1 Axes>"
                        ]
                    },
                    "metadata": {
                        "needs_background": "light"
                    },
                    "output_type": "display_data"
                },
                {
                    "name": "stdout",
                    "output_type": "stream",
                    "text": [
                        "Number of patients with specific number of admissions : \n",
                        " 1     38983\n",
                        "2      5160\n",
                        "3      1342\n",
                        "4       508\n",
                        "5       246\n",
                        "6       113\n",
                        "7        51\n",
                        "8        31\n",
                        "9        26\n",
                        "10       14\n",
                        "11       13\n",
                        "12        8\n",
                        "13        5\n",
                        "14        4\n",
                        "17        3\n",
                        "16        2\n",
                        "34        2\n",
                        "31        1\n",
                        "21        1\n",
                        "22        1\n",
                        "19        1\n",
                        "42        1\n",
                        "23        1\n",
                        "24        1\n",
                        "20        1\n",
                        "15        1\n",
                        "Name: HADM_ID, dtype: int64\n"
                    ]
                }
            ],
            "source": [
                "#Number of admissions by patient\n",
                "df=adm.groupby(\"SUBJECT_ID\")[\"HADM_ID\"].nunique()\n",
                "plt.hist(df,bins=100)\n",
                "plt.show()\n",
                "print(\"Number of patients with specific number of admissions : \\n\",df.value_counts())"
            ]
        },
        {
            "cell_type": "markdown",
            "metadata": {},
            "source": [
                "As the majortity of patients only present a single admission, we filter out all the patients with more than 1 admission"
            ]
        },
        {
            "cell_type": "code",
            "execution_count": 6,
            "metadata": {},
            "outputs": [
                {
                    "name": "stdout",
                    "output_type": "stream",
                    "text": [
                        "Number of patients remaining in the dataframe: \n",
                        "38983\n"
                    ]
                }
            ],
            "source": [
                "subj_ids=list(df[df==1].index) #index of patients with only one visit.\n",
                "adm_1=adm_dob.loc[adm_dob[\"SUBJECT_ID\"].isin(subj_ids)] #filter out the patients with more than one visit\n",
                "print(\"Number of patients remaining in the dataframe: \")\n",
                "print(len(adm_1.index))"
            ]
        },
        {
            "cell_type": "code",
            "execution_count": 7,
            "metadata": {},
            "outputs": [
                {
                    "data": {
                        "image/png": "[encoded data removed]",
                        "text/plain": [
                            "<Figure size 432x288 with 1 Axes>"
                        ]
                    },
                    "metadata": {
                        "needs_background": "light"
                    },
                    "output_type": "display_data"
                },
                {
                    "name": "stdout",
                    "output_type": "stream",
                    "text": [
                        "Number of patients with specific duration of admissions in days : \n",
                        " 4      4333\n",
                        "2      4216\n",
                        "3      3478\n",
                        "5      3119\n",
                        "6      2739\n",
                        "       ... \n",
                        "181       1\n",
                        "128       1\n",
                        "202       1\n",
                        "151       1\n",
                        "206       1\n",
                        "Name: ELAPSED_DAYS, Length: 156, dtype: int64\n"
                    ]
                }
            ],
            "source": [
                "#We now add a new column with the duration of each stay.\n",
                "adm_1=adm_1.copy()\n",
                "adm_1['ADMITTIME']=pd.to_datetime(adm_1[\"ADMITTIME\"], format='%Y-%m-%d %H:%M:%S')\n",
                "adm_1['DISCHTIME']=pd.to_datetime(adm_1[\"DISCHTIME\"], format='%Y-%m-%d %H:%M:%S')\n",
                "\n",
                "adm_1[\"ELAPSED_TIME\"]=adm_1[\"DISCHTIME\"]-adm_1[\"ADMITTIME\"]\n",
                "adm_1.head()\n",
                "adm_1[\"ELAPSED_DAYS\"]=adm_1[\"ELAPSED_TIME\"].dt.days #Elapsed time in days in ICU\n",
                "plt.hist(adm_1[\"ELAPSED_DAYS\"], bins=200)\n",
                "plt.show()\n",
                "print(\"Number of patients with specific duration of admissions in days : \\n\",adm_1[\"ELAPSED_DAYS\"].value_counts())"
            ]
        },
        {
            "cell_type": "code",
            "execution_count": 8,
            "metadata": {},
            "outputs": [
                {
                    "data": {
                        "image/png": "[encoded data removed]",
                        "text/plain": [
                            "<Figure size 432x288 with 1 Axes>"
                        ]
                    },
                    "metadata": {
                        "needs_background": "light"
                    },
                    "output_type": "display_data"
                }
            ],
            "source": [
                "#Let's now report the death rate in function of the duration stay in ICU.\n",
                "adm_1[\"DEATHTAG\"]=0\n",
                "adm_1.loc[adm_1.DEATHTIME.notnull(),\"DEATHTAG\"]=1\n",
                "\n",
                "df_deaths_per_duration=adm_1.groupby(\"ELAPSED_DAYS\")[\"DEATHTAG\"].sum()\n",
                "df_patients_per_duration=adm_1.groupby(\"ELAPSED_DAYS\")[\"SUBJECT_ID\"].nunique()\n",
                "df_death_ratio_per_duration=df_deaths_per_duration/df_patients_per_duration\n",
                "plt.plot(df_death_ratio_per_duration)\n",
                "plt.title(\"Death Ratio per ICU stay duration\")\n",
                "plt.xlabel(\"Duration in days\")\n",
                "plt.ylabel(\"Death rate (Number of deaths/Nunber of patients)\")\n",
                "plt.show()"
            ]
        },
        {
            "cell_type": "markdown",
            "metadata": {},
            "source": [
                "Given the results above, we select patients with a least 48 hours in the ICU and with less than 30 days stay."
            ]
        },
        {
            "cell_type": "code",
            "execution_count": 9,
            "metadata": {},
            "outputs": [
                {
                    "name": "stdout",
                    "output_type": "stream",
                    "text": [
                        "Number of patients remaining in the dataframe: \n",
                        "28840\n"
                    ]
                }
            ],
            "source": [
                "adm_2=adm_1.loc[(adm_1[\"ELAPSED_DAYS\"]<30) & (adm_1[\"ELAPSED_DAYS\"]>2)]\n",
                "print(\"Number of patients remaining in the dataframe: \")\n",
                "print(len(adm_2.index))"
            ]
        },
        {
            "cell_type": "markdown",
            "metadata": {},
            "source": [
                "We remove the patients who are younger than 15 at admission time"
            ]
        },
        {
            "cell_type": "code",
            "execution_count": null,
            "metadata": {},
            "outputs": [],
            "source": [
                "adm_2['ADMITTIME'] = adm_2['ADMITTIME'].dt.date\n",
                "adm_2['DOBTIME'] = adm_2['DOBTIME'].dt.date\n",
                "adm_2['age'] = adm_2.apply(lambda e: (e['ADMITTIME'] - e['DOBTIME']).days/365, axis=1)"
            ]
        },
        {
            "cell_type": "code",
            "execution_count": 22,
            "metadata": {},
            "outputs": [
                {
                    "name": "stdout",
                    "output_type": "stream",
                    "text": [
                        "Number of patients remaining in the dataframe: \n",
                        "24721\n"
                    ]
                }
            ],
            "source": [
                "adm_2_15=adm_2.loc[adm_2['age'] > 15].copy()\n",
                "print(\"Number of patients remaining in the dataframe: \")\n",
                "print(len(adm_2_15.index))"
            ]
        },
        {
            "cell_type": "markdown",
            "metadata": {},
            "source": [
                "We remove the admissions with no chart events data."
            ]
        },
        {
            "cell_type": "code",
            "execution_count": 23,
            "metadata": {},
            "outputs": [
                {
                    "name": "stdout",
                    "output_type": "stream",
                    "text": [
                        "Number of patients remaining in the dataframe: \n",
                        "24689\n"
                    ]
                }
            ],
            "source": [
                "adm_2_15_chart=adm_2_15.loc[adm_2_15[\"HAS_CHARTEVENTS_DATA\"]==1].copy()\n",
                "print(\"Number of patients remaining in the dataframe: \")\n",
                "print(len(adm_2_15_chart.index))"
            ]
        },
        {
            "cell_type": "code",
            "execution_count": 24,
            "metadata": {},
            "outputs": [
                {
                    "data": {
                        "text/plain": [
                            "ADMISSION_TYPE\n",
                            "ELECTIVE      4633\n",
                            "EMERGENCY    19334\n",
                            "URGENT         722\n",
                            "Name: SUBJECT_ID, dtype: int64"
                        ]
                    },
                    "execution_count": 24,
                    "metadata": {},
                    "output_type": "execute_result"
                }
            ],
            "source": [
                "#We now investigate the admission_type\n",
                "df_type=adm_2_15_chart.groupby(\"ADMISSION_TYPE\")[\"SUBJECT_ID\"].count()\n",
                "df_type"
            ]
        },
        {
            "cell_type": "markdown",
            "metadata": {},
            "source": [
                "We remove the newborns as they are specific"
            ]
        },
        {
            "cell_type": "code",
            "execution_count": 26,
            "metadata": {},
            "outputs": [
                {
                    "name": "stdout",
                    "output_type": "stream",
                    "text": [
                        "Number of patients remaining in the dataframe: \n",
                        "24689\n"
                    ]
                }
            ],
            "source": [
                "adm_3=adm_2_15_chart.loc[adm_2_15_chart[\"ADMISSION_TYPE\"]!=\"NEWBORN\"]\n",
                "print(\"Number of patients remaining in the dataframe: \")\n",
                "print(adm_3[\"SUBJECT_ID\"].nunique())\n",
                "\n",
                "adm_3.to_csv(p_project + \"/data/mimic3/processed/admissions_processed.csv\")"
            ]
        }
    ],
    "metadata": {
        "kernelspec": {
            "display_name": "Python 3 (ipykernel)",
            "language": "python",
            "name": "python3"
        },
        "language_info": {
            "codemirror_mode": {
                "name": "ipython",
                "version": 3
            },
            "file_extension": ".py",
            "mimetype": "text/x-python",
            "name": "python",
            "nbconvert_exporter": "python",
            "pygments_lexer": "ipython3",
            "version": "3.8.12"
        }
    },
    "nbformat": 4,
    "nbformat_minor": 4
}