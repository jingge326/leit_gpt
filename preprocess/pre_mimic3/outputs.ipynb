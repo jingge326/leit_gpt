{
    "cells": [
        {
            "cell_type": "markdown",
            "metadata": {
                "tags": []
            },
            "source": [
                "# Pre-processing of the outputevents dataset"
            ]
        },
        {
            "cell_type": "code",
            "execution_count": 1,
            "metadata": {},
            "outputs": [],
            "source": [
                "import os\n",
                "import pathlib\n",
                "\n",
                "p_project = str(pathlib.Path(os.getcwd()).parents[1])"
            ]
        },
        {
            "cell_type": "code",
            "execution_count": 2,
            "metadata": {},
            "outputs": [],
            "source": [
                "import pandas as pd\n",
                "import matplotlib.pyplot as plt\n",
                "\n",
                "pd.set_option('display.max_rows', 50)\n",
                "pd.set_option('display.max_columns', 300)"
            ]
        },
        {
            "cell_type": "code",
            "execution_count": 3,
            "metadata": {},
            "outputs": [],
            "source": [
                "adm=pd.read_csv(p_project + \"/data/mimic3/processed/admissions_processed.csv\")"
            ]
        },
        {
            "cell_type": "markdown",
            "metadata": {},
            "source": [
                "We now consider the outputevents dataset. We select only the patients with the same criteria as above."
            ]
        },
        {
            "cell_type": "code",
            "execution_count": 4,
            "metadata": {},
            "outputs": [],
            "source": [
                "outputs=pd.read_csv(p_project + \"/data/mimic3/OUTPUTEVENTS.csv.gz\", compression='gzip')"
            ]
        },
        {
            "cell_type": "code",
            "execution_count": 5,
            "metadata": {},
            "outputs": [
                {
                    "name": "stdout",
                    "output_type": "stream",
                    "text": [
                        "Number of patients remaining in the database: \n",
                        "24540\n"
                    ]
                }
            ],
            "source": [
                "#Some checks\n",
                "assert(len(outputs.loc[outputs[\"ISERROR\"].notnull()].index)==0) #No entry with iserror==TRUE\n",
                "\n",
                "#Restrict the dataset to the previously selected admission ids only.\n",
                "adm_ids=list(adm[\"HADM_ID\"])\n",
                "outputs=outputs.loc[outputs[\"HADM_ID\"].isin(adm_ids)]\n",
                "\n",
                "print(\"Number of patients remaining in the database: \")\n",
                "print(outputs[\"SUBJECT_ID\"].nunique())"
            ]
        },
        {
            "cell_type": "markdown",
            "metadata": {},
            "source": [
                "We load the D_ITEMS dataframe which contains the name of the ITEMID. And we merge both tables together."
            ]
        },
        {
            "cell_type": "code",
            "execution_count": 6,
            "metadata": {},
            "outputs": [
                {
                    "name": "stdout",
                    "output_type": "stream",
                    "text": [
                        "Number of patients remaining in the database: \n",
                        "24540\n"
                    ]
                }
            ],
            "source": [
                "#item_id \n",
                "item_id=pd.read_csv(p_project + \"/data/mimic3/D_ITEMS.csv.gz\", compression='gzip')\n",
                "\n",
                "#We merge the name of the item administrated.\n",
                "outputs_2=pd.merge(outputs, item_id[[\"ITEMID\",\"LABEL\"]], on=\"ITEMID\")\n",
                "outputs_2.head()\n",
                "print(\"Number of patients remaining in the database: \")\n",
                "print(outputs_2[\"SUBJECT_ID\"].nunique())"
            ]
        },
        {
            "cell_type": "code",
            "execution_count": 7,
            "metadata": {},
            "outputs": [
                {
                    "name": "stdout",
                    "output_type": "stream",
                    "text": [
                        "Number of patients remaining in the database: \n",
                        "15964\n",
                        "Number of datapoints remaining in the database: \n",
                        "781675\n"
                    ]
                }
            ],
            "source": [
                "outputs_label_list=['Gastric Gastric Tube','Stool Out Stool','Urine Out Incontinent','Ultrafiltrate Ultrafiltrate','Foley', 'Void','Condom Cath','Fecal Bag','Ostomy (output)','Chest Tube #1','Chest Tube #2','Jackson Pratt #1','OR EBL','Pre-Admission','TF Residual']\n",
                "outputs_bis=outputs_2.loc[outputs_2[\"LABEL\"].isin(outputs_label_list)].copy()\n",
                "\n",
                "print(\"Number of patients remaining in the database: \")\n",
                "print(outputs_bis[\"SUBJECT_ID\"].nunique())\n",
                "print(\"Number of datapoints remaining in the database: \")\n",
                "print(len(outputs_bis.index))\n",
                "\n",
                "outputs_3=outputs_bis.copy()"
            ]
        },
        {
            "cell_type": "markdown",
            "metadata": {},
            "source": [
                "# Cleaning of the output data\n",
                "\n",
                "### Units Cleaning\n",
                "\n",
                "#### 1) Amounts"
            ]
        },
        {
            "cell_type": "code",
            "execution_count": 8,
            "metadata": {},
            "outputs": [
                {
                    "data": {
                        "text/plain": [
                            "LABEL                        VALUEUOM\n",
                            "Chest Tube #1                mL           59614\n",
                            "Chest Tube #2                mL            7647\n",
                            "Condom Cath                  mL            2439\n",
                            "Fecal Bag                    mL            1278\n",
                            "Foley                        mL          603016\n",
                            "Gastric Gastric Tube         ml            1665\n",
                            "Jackson Pratt #1             mL            8487\n",
                            "OR EBL                       mL            1992\n",
                            "Ostomy (output)              mL            1579\n",
                            "Pre-Admission                mL            2759\n",
                            "Stool Out Stool              ml           30987\n",
                            "TF Residual                  mL           12181\n",
                            "Ultrafiltrate Ultrafiltrate  ml           18850\n",
                            "Urine Out Incontinent        ml             976\n",
                            "Void                         mL           27689\n",
                            "Name: VALUEUOM, dtype: int64"
                        ]
                    },
                    "execution_count": 8,
                    "metadata": {},
                    "output_type": "execute_result"
                }
            ],
            "source": [
                "#Verification that all input labels have the same amounts units.\n",
                "outputs_3.groupby(\"LABEL\")[\"VALUEUOM\"].value_counts() #OK"
            ]
        },
        {
            "cell_type": "markdown",
            "metadata": {},
            "source": [
                "### Check for outliers\n",
                "\n",
                "#### 1) In amounts"
            ]
        },
        {
            "cell_type": "code",
            "execution_count": 13,
            "metadata": {},
            "outputs": [
                {
                    "data": {
                        "text/html": [
                            "<div>\n",
                            "<style scoped>\n",
                            "    .dataframe tbody tr th:only-of-type {\n",
                            "        vertical-align: middle;\n",
                            "    }\n",
                            "\n",
                            "    .dataframe tbody tr th {\n",
                            "        vertical-align: top;\n",
                            "    }\n",
                            "\n",
                            "    .dataframe thead th {\n",
                            "        text-align: right;\n",
                            "    }\n",
                            "</style>\n",
                            "<table border=\"1\" class=\"dataframe\">\n",
                            "  <thead>\n",
                            "    <tr style=\"text-align: right;\">\n",
                            "      <th></th>\n",
                            "      <th>count</th>\n",
                            "      <th>mean</th>\n",
                            "      <th>std</th>\n",
                            "      <th>min</th>\n",
                            "      <th>25%</th>\n",
                            "      <th>50%</th>\n",
                            "      <th>75%</th>\n",
                            "      <th>max</th>\n",
                            "    </tr>\n",
                            "    <tr>\n",
                            "      <th>LABEL</th>\n",
                            "      <th></th>\n",
                            "      <th></th>\n",
                            "      <th></th>\n",
                            "      <th></th>\n",
                            "      <th></th>\n",
                            "      <th></th>\n",
                            "      <th></th>\n",
                            "      <th></th>\n",
                            "    </tr>\n",
                            "  </thead>\n",
                            "  <tbody>\n",
                            "    <tr>\n",
                            "      <th>Chest Tube #1</th>\n",
                            "      <td>59250.0</td>\n",
                            "      <td>34.549377</td>\n",
                            "      <td>35.458291</td>\n",
                            "      <td>0.0</td>\n",
                            "      <td>10.0</td>\n",
                            "      <td>30.0</td>\n",
                            "      <td>50.0</td>\n",
                            "      <td>275.0</td>\n",
                            "    </tr>\n",
                            "    <tr>\n",
                            "      <th>Chest Tube #2</th>\n",
                            "      <td>7597.0</td>\n",
                            "      <td>28.456628</td>\n",
                            "      <td>36.330744</td>\n",
                            "      <td>0.0</td>\n",
                            "      <td>0.0</td>\n",
                            "      <td>20.0</td>\n",
                            "      <td>40.0</td>\n",
                            "      <td>285.0</td>\n",
                            "    </tr>\n",
                            "    <tr>\n",
                            "      <th>Condom Cath</th>\n",
                            "      <td>2423.0</td>\n",
                            "      <td>236.160957</td>\n",
                            "      <td>201.437466</td>\n",
                            "      <td>0.0</td>\n",
                            "      <td>100.0</td>\n",
                            "      <td>200.0</td>\n",
                            "      <td>320.0</td>\n",
                            "      <td>1100.0</td>\n",
                            "    </tr>\n",
                            "    <tr>\n",
                            "      <th>Fecal Bag</th>\n",
                            "      <td>1275.0</td>\n",
                            "      <td>441.047843</td>\n",
                            "      <td>329.053094</td>\n",
                            "      <td>0.0</td>\n",
                            "      <td>200.0</td>\n",
                            "      <td>350.0</td>\n",
                            "      <td>662.5</td>\n",
                            "      <td>1600.0</td>\n",
                            "    </tr>\n",
                            "    <tr>\n",
                            "      <th>Foley</th>\n",
                            "      <td>603012.0</td>\n",
                            "      <td>117.139080</td>\n",
                            "      <td>117.433634</td>\n",
                            "      <td>0.0</td>\n",
                            "      <td>45.0</td>\n",
                            "      <td>80.0</td>\n",
                            "      <td>150.0</td>\n",
                            "      <td>5400.0</td>\n",
                            "    </tr>\n",
                            "    <tr>\n",
                            "      <th>Gastric Gastric Tube</th>\n",
                            "      <td>1709.0</td>\n",
                            "      <td>107.950848</td>\n",
                            "      <td>128.437188</td>\n",
                            "      <td>0.0</td>\n",
                            "      <td>10.0</td>\n",
                            "      <td>60.0</td>\n",
                            "      <td>150.0</td>\n",
                            "      <td>700.0</td>\n",
                            "    </tr>\n",
                            "    <tr>\n",
                            "      <th>Jackson Pratt #1</th>\n",
                            "      <td>8384.0</td>\n",
                            "      <td>67.468356</td>\n",
                            "      <td>75.721128</td>\n",
                            "      <td>0.0</td>\n",
                            "      <td>20.0</td>\n",
                            "      <td>40.0</td>\n",
                            "      <td>85.0</td>\n",
                            "      <td>475.0</td>\n",
                            "    </tr>\n",
                            "    <tr>\n",
                            "      <th>OR EBL</th>\n",
                            "      <td>1962.0</td>\n",
                            "      <td>543.196738</td>\n",
                            "      <td>819.538233</td>\n",
                            "      <td>0.0</td>\n",
                            "      <td>100.0</td>\n",
                            "      <td>250.0</td>\n",
                            "      <td>600.0</td>\n",
                            "      <td>5000.0</td>\n",
                            "    </tr>\n",
                            "    <tr>\n",
                            "      <th>Ostomy (output)</th>\n",
                            "      <td>1567.0</td>\n",
                            "      <td>196.530951</td>\n",
                            "      <td>147.667173</td>\n",
                            "      <td>0.0</td>\n",
                            "      <td>100.0</td>\n",
                            "      <td>175.0</td>\n",
                            "      <td>275.0</td>\n",
                            "      <td>850.0</td>\n",
                            "    </tr>\n",
                            "    <tr>\n",
                            "      <th>Pre-Admission</th>\n",
                            "      <td>2732.0</td>\n",
                            "      <td>572.232796</td>\n",
                            "      <td>601.981761</td>\n",
                            "      <td>0.0</td>\n",
                            "      <td>140.0</td>\n",
                            "      <td>400.0</td>\n",
                            "      <td>800.0</td>\n",
                            "      <td>3600.0</td>\n",
                            "    </tr>\n",
                            "    <tr>\n",
                            "      <th>Stool Out Stool</th>\n",
                            "      <td>7838.0</td>\n",
                            "      <td>165.913498</td>\n",
                            "      <td>202.593913</td>\n",
                            "      <td>0.0</td>\n",
                            "      <td>0.0</td>\n",
                            "      <td>100.0</td>\n",
                            "      <td>250.0</td>\n",
                            "      <td>1100.0</td>\n",
                            "    </tr>\n",
                            "    <tr>\n",
                            "      <th>TF Residual</th>\n",
                            "      <td>12052.0</td>\n",
                            "      <td>27.954530</td>\n",
                            "      <td>47.671276</td>\n",
                            "      <td>0.0</td>\n",
                            "      <td>0.0</td>\n",
                            "      <td>10.0</td>\n",
                            "      <td>30.0</td>\n",
                            "      <td>270.0</td>\n",
                            "    </tr>\n",
                            "    <tr>\n",
                            "      <th>Ultrafiltrate Ultrafiltrate</th>\n",
                            "      <td>18646.0</td>\n",
                            "      <td>173.156972</td>\n",
                            "      <td>154.501741</td>\n",
                            "      <td>0.0</td>\n",
                            "      <td>79.0</td>\n",
                            "      <td>148.0</td>\n",
                            "      <td>234.0</td>\n",
                            "      <td>1700.0</td>\n",
                            "    </tr>\n",
                            "    <tr>\n",
                            "      <th>Urine Out Incontinent</th>\n",
                            "      <td>176.0</td>\n",
                            "      <td>58.789773</td>\n",
                            "      <td>104.074457</td>\n",
                            "      <td>0.0</td>\n",
                            "      <td>0.0</td>\n",
                            "      <td>0.0</td>\n",
                            "      <td>100.0</td>\n",
                            "      <td>500.0</td>\n",
                            "    </tr>\n",
                            "    <tr>\n",
                            "      <th>Void</th>\n",
                            "      <td>27594.0</td>\n",
                            "      <td>296.648619</td>\n",
                            "      <td>188.472766</td>\n",
                            "      <td>0.0</td>\n",
                            "      <td>150.0</td>\n",
                            "      <td>250.0</td>\n",
                            "      <td>400.0</td>\n",
                            "      <td>1050.0</td>\n",
                            "    </tr>\n",
                            "  </tbody>\n",
                            "</table>\n",
                            "</div>"
                        ],
                        "text/plain": [
                            "                                count        mean         std  min    25%  \\\n",
                            "LABEL                                                                       \n",
                            "Chest Tube #1                 59250.0   34.549377   35.458291  0.0   10.0   \n",
                            "Chest Tube #2                  7597.0   28.456628   36.330744  0.0    0.0   \n",
                            "Condom Cath                    2423.0  236.160957  201.437466  0.0  100.0   \n",
                            "Fecal Bag                      1275.0  441.047843  329.053094  0.0  200.0   \n",
                            "Foley                        603012.0  117.139080  117.433634  0.0   45.0   \n",
                            "Gastric Gastric Tube           1709.0  107.950848  128.437188  0.0   10.0   \n",
                            "Jackson Pratt #1               8384.0   67.468356   75.721128  0.0   20.0   \n",
                            "OR EBL                         1962.0  543.196738  819.538233  0.0  100.0   \n",
                            "Ostomy (output)                1567.0  196.530951  147.667173  0.0  100.0   \n",
                            "Pre-Admission                  2732.0  572.232796  601.981761  0.0  140.0   \n",
                            "Stool Out Stool                7838.0  165.913498  202.593913  0.0    0.0   \n",
                            "TF Residual                   12052.0   27.954530   47.671276  0.0    0.0   \n",
                            "Ultrafiltrate Ultrafiltrate   18646.0  173.156972  154.501741  0.0   79.0   \n",
                            "Urine Out Incontinent           176.0   58.789773  104.074457  0.0    0.0   \n",
                            "Void                          27594.0  296.648619  188.472766  0.0  150.0   \n",
                            "\n",
                            "                               50%    75%     max  \n",
                            "LABEL                                              \n",
                            "Chest Tube #1                 30.0   50.0   275.0  \n",
                            "Chest Tube #2                 20.0   40.0   285.0  \n",
                            "Condom Cath                  200.0  320.0  1100.0  \n",
                            "Fecal Bag                    350.0  662.5  1600.0  \n",
                            "Foley                         80.0  150.0  5400.0  \n",
                            "Gastric Gastric Tube          60.0  150.0   700.0  \n",
                            "Jackson Pratt #1              40.0   85.0   475.0  \n",
                            "OR EBL                       250.0  600.0  5000.0  \n",
                            "Ostomy (output)              175.0  275.0   850.0  \n",
                            "Pre-Admission                400.0  800.0  3600.0  \n",
                            "Stool Out Stool              100.0  250.0  1100.0  \n",
                            "TF Residual                   10.0   30.0   270.0  \n",
                            "Ultrafiltrate Ultrafiltrate  148.0  234.0  1700.0  \n",
                            "Urine Out Incontinent          0.0  100.0   500.0  \n",
                            "Void                         250.0  400.0  1050.0  "
                        ]
                    },
                    "execution_count": 13,
                    "metadata": {},
                    "output_type": "execute_result"
                }
            ],
            "source": [
                "outputs_3.groupby(\"LABEL\")[\"VALUE\"].describe()"
            ]
        },
        {
            "cell_type": "code",
            "execution_count": 10,
            "metadata": {},
            "outputs": [
                {
                    "name": "stdout",
                    "output_type": "stream",
                    "text": [
                        "Number of patients remaining in the database: \n",
                        "15934\n",
                        "Number of datapoints remaining in the database: \n",
                        "780550\n"
                    ]
                }
            ],
            "source": [
                "#Remove all entries whose rate is more than 4 std away from the mean.\n",
                "out_desc=outputs_3.groupby(\"LABEL\")[\"VALUE\"].describe()\n",
                "name_list=list(out_desc.loc[out_desc[\"count\"]!=0].index)\n",
                "for label in name_list:\n",
                "    outputs_3=outputs_3.drop(outputs_3.loc[(outputs_3[\"LABEL\"]==label)&(outputs_3[\"VALUE\"]>(out_desc.loc[label,\"mean\"]+4*out_desc.loc[label,\"std\"]))].index).copy()\n",
                "\n",
                "print(\"Number of patients remaining in the database: \")\n",
                "print(outputs_3[\"SUBJECT_ID\"].nunique())\n",
                "print(\"Number of datapoints remaining in the database: \")\n",
                "print(len(outputs_3.index))"
            ]
        },
        {
            "cell_type": "code",
            "execution_count": 11,
            "metadata": {},
            "outputs": [
                {
                    "name": "stdout",
                    "output_type": "stream",
                    "text": [
                        "Number of patients remaining in the database: \n",
                        "12987\n",
                        "Number of datapoints remaining in the database: \n",
                        "756217\n"
                    ]
                }
            ],
            "source": [
                "#Clean Foley, remove too large values\n",
                "outputs_3=outputs_3.drop(outputs_3.loc[(outputs_3[\"LABEL\"]==\"Foley\") & (outputs_3[\"VALUE\"]>5500)].index).copy()\n",
                "#Clean Expected Blood Loss, remove too large values\n",
                "outputs_3=outputs_3.drop(outputs_3.loc[(outputs_3[\"LABEL\"]==\"OR EBL\") & (outputs_3[\"VALUE\"]>5000)].index).copy()\n",
                "#Clean Out Expected Blood Loss, remove too large values\n",
                "outputs_3=outputs_3.drop(outputs_3.loc[(outputs_3[\"LABEL\"]==\"OR Out EBL\") & (outputs_3[\"VALUE\"]>5000)].index).copy()\n",
                "#Clean OR Urine, remove too large values\n",
                "outputs_3=outputs_3.drop(outputs_3.loc[(outputs_3[\"LABEL\"]==\"OR Urine\") & (outputs_3[\"VALUE\"]>5000)].index).copy()\n",
                "#Clean Pre-Admission, remove too large and negative values\n",
                "outputs_3=outputs_3.drop(outputs_3.loc[(outputs_3[\"LABEL\"]==\"Pre-Admission\") & (outputs_3[\"VALUE\"]<0)].index).copy()\n",
                "outputs_3=outputs_3.drop(outputs_3.loc[(outputs_3[\"LABEL\"]==\"Pre-Admission\") & (outputs_3[\"VALUE\"]>5000)].index).copy()\n",
                "#Clean Pre-Admission output, remove too large values\n",
                "outputs_3=outputs_3.drop(outputs_3.loc[(outputs_3[\"LABEL\"]==\"Pre-Admission Output Pre-Admission Output\") & (outputs_3[\"VALUE\"]>5000)].index).copy()\n",
                "#Clean Urine Out Foley output, remove too large values\n",
                "outputs_3=outputs_3.drop(outputs_3.loc[(outputs_3[\"LABEL\"]==\"Urine Out Foley\") & (outputs_3[\"VALUE\"]>5000)].index).copy()\n",
                "#Clean Void, remove negative values\n",
                "outputs_3=outputs_3.drop(outputs_3.loc[(outputs_3[\"LABEL\"]==\"Void\") & (outputs_3[\"VALUE\"]<0)].index).copy()\n",
                "\n",
                "outputs_3.dropna(subset=[\"VALUE\"],inplace=True)\n",
                "\n",
                "print(\"Number of patients remaining in the database: \")\n",
                "print(outputs_3[\"SUBJECT_ID\"].nunique())\n",
                "print(\"Number of datapoints remaining in the database: \")\n",
                "print(len(outputs_3.index))"
            ]
        },
        {
            "cell_type": "markdown",
            "metadata": {},
            "source": [
                "As data is already in timestamp format, we don't neeed to consider rates"
            ]
        },
        {
            "cell_type": "code",
            "execution_count": 14,
            "metadata": {},
            "outputs": [],
            "source": [
                "outputs_3.to_csv(p_project + \"/data/mimic3/processed/outputs_processed.csv\")"
            ]
        }
    ],
    "metadata": {
        "kernelspec": {
            "display_name": "Python 3 (ipykernel)",
            "language": "python",
            "name": "python3"
        },
        "language_info": {
            "codemirror_mode": {
                "name": "ipython",
                "version": 3
            },
            "file_extension": ".py",
            "mimetype": "text/x-python",
            "name": "python",
            "nbconvert_exporter": "python",
            "pygments_lexer": "ipython3",
            "version": "3.8.12"
        }
    },
    "nbformat": 4,
    "nbformat_minor": 4
}