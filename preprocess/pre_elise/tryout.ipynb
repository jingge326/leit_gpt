{
 "cells": [
  {
   "cell_type": "code",
   "execution_count": 1,
   "id": "fef431e0-778f-4637-a9c2-c1c992342d89",
   "metadata": {},
   "outputs": [],
   "source": [
    "import os\n",
    "import pathlib\n",
    "\n",
    "import pandas as pd"
   ]
  },
  {
   "cell_type": "code",
   "execution_count": 2,
   "id": "4c332747-8b18-4c3e-b1ec-5917324d0b70",
   "metadata": {},
   "outputs": [],
   "source": [
    "p_project = str(pathlib.Path(os.getcwd()).parents[1])\n",
    "os.chdir(p_project)"
   ]
  },
  {
   "cell_type": "code",
   "execution_count": 6,
   "id": "291ae9d0-d9cd-4601-8bba-a742f780b451",
   "metadata": {},
   "outputs": [],
   "source": [
    "days_df=pd.read_csv(p_project + '/data/elise/Days.csv', sep=';')"
   ]
  },
  {
   "cell_type": "code",
   "execution_count": 7,
   "id": "6e8a2f78-15ed-4b13-aad8-39c177dd156f",
   "metadata": {},
   "outputs": [
    {
     "data": {
      "text/plain": [
       "(30043, 2)"
      ]
     },
     "execution_count": 7,
     "metadata": {},
     "output_type": "execute_result"
    }
   ],
   "source": [
    "days_df.shape"
   ]
  },
  {
   "cell_type": "code",
   "execution_count": 8,
   "id": "57cca710-8bc0-4f51-83bf-a6bbfcb42c1c",
   "metadata": {},
   "outputs": [
    {
     "data": {
      "text/html": [
       "<div>\n",
       "<style scoped>\n",
       "    .dataframe tbody tr th:only-of-type {\n",
       "        vertical-align: middle;\n",
       "    }\n",
       "\n",
       "    .dataframe tbody tr th {\n",
       "        vertical-align: top;\n",
       "    }\n",
       "\n",
       "    .dataframe thead th {\n",
       "        text-align: right;\n",
       "    }\n",
       "</style>\n",
       "<table border=\"1\" class=\"dataframe\">\n",
       "  <thead>\n",
       "    <tr style=\"text-align: right;\">\n",
       "      <th></th>\n",
       "      <th>Messzeitpunkt</th>\n",
       "      <th>Patient_Master_ID</th>\n",
       "    </tr>\n",
       "  </thead>\n",
       "  <tbody>\n",
       "    <tr>\n",
       "      <th>0</th>\n",
       "      <td>2247-09-11T00:00:00</td>\n",
       "      <td>946</td>\n",
       "    </tr>\n",
       "    <tr>\n",
       "      <th>1</th>\n",
       "      <td>2247-09-20T00:00:00</td>\n",
       "      <td>946</td>\n",
       "    </tr>\n",
       "    <tr>\n",
       "      <th>2</th>\n",
       "      <td>2247-09-23T00:00:00</td>\n",
       "      <td>946</td>\n",
       "    </tr>\n",
       "    <tr>\n",
       "      <th>3</th>\n",
       "      <td>2248-05-12T00:00:00</td>\n",
       "      <td>946</td>\n",
       "    </tr>\n",
       "    <tr>\n",
       "      <th>4</th>\n",
       "      <td>2248-05-13T00:00:00</td>\n",
       "      <td>946</td>\n",
       "    </tr>\n",
       "  </tbody>\n",
       "</table>\n",
       "</div>"
      ],
      "text/plain": [
       "         Messzeitpunkt  Patient_Master_ID\n",
       "0  2247-09-11T00:00:00                946\n",
       "1  2247-09-20T00:00:00                946\n",
       "2  2247-09-23T00:00:00                946\n",
       "3  2248-05-12T00:00:00                946\n",
       "4  2248-05-13T00:00:00                946"
      ]
     },
     "execution_count": 8,
     "metadata": {},
     "output_type": "execute_result"
    }
   ],
   "source": [
    "days_df.head()"
   ]
  },
  {
   "cell_type": "code",
   "execution_count": 9,
   "id": "f5c090b7-e6a3-496c-afe7-f01b2a3694e6",
   "metadata": {},
   "outputs": [
    {
     "data": {
      "text/plain": [
       "1349    296\n",
       "2077    257\n",
       "376     246\n",
       "826     233\n",
       "409     229\n",
       "       ... \n",
       "3274      1\n",
       "1252      1\n",
       "1275      1\n",
       "1276      1\n",
       "2850      1\n",
       "Name: Patient_Master_ID, Length: 3519, dtype: int64"
      ]
     },
     "execution_count": 9,
     "metadata": {},
     "output_type": "execute_result"
    }
   ],
   "source": [
    "days_df['Patient_Master_ID'].value_counts()"
   ]
  },
  {
   "cell_type": "code",
   "execution_count": 10,
   "id": "baf85f91-e053-46f7-a29c-4683b1d34c35",
   "metadata": {},
   "outputs": [],
   "source": [
    "lookup_df=pd.read_csv(p_project + '/data/elise/Lookup.csv', sep=';')"
   ]
  },
  {
   "cell_type": "code",
   "execution_count": 11,
   "id": "f992d901-acc8-4c77-be99-a2d03516c552",
   "metadata": {},
   "outputs": [
    {
     "data": {
      "text/html": [
       "<div>\n",
       "<style scoped>\n",
       "    .dataframe tbody tr th:only-of-type {\n",
       "        vertical-align: middle;\n",
       "    }\n",
       "\n",
       "    .dataframe tbody tr th {\n",
       "        vertical-align: top;\n",
       "    }\n",
       "\n",
       "    .dataframe thead th {\n",
       "        text-align: right;\n",
       "    }\n",
       "</style>\n",
       "<table border=\"1\" class=\"dataframe\">\n",
       "  <thead>\n",
       "    <tr style=\"text-align: right;\">\n",
       "      <th></th>\n",
       "      <th>ID</th>\n",
       "      <th>PMID</th>\n",
       "      <th>SMID</th>\n",
       "    </tr>\n",
       "  </thead>\n",
       "  <tbody>\n",
       "    <tr>\n",
       "      <th>0</th>\n",
       "      <td>1</td>\n",
       "      <td>178</td>\n",
       "      <td>178001</td>\n",
       "    </tr>\n",
       "    <tr>\n",
       "      <th>1</th>\n",
       "      <td>2</td>\n",
       "      <td>179</td>\n",
       "      <td>179001</td>\n",
       "    </tr>\n",
       "    <tr>\n",
       "      <th>2</th>\n",
       "      <td>3</td>\n",
       "      <td>180</td>\n",
       "      <td>180001</td>\n",
       "    </tr>\n",
       "    <tr>\n",
       "      <th>3</th>\n",
       "      <td>4</td>\n",
       "      <td>181</td>\n",
       "      <td>181001</td>\n",
       "    </tr>\n",
       "    <tr>\n",
       "      <th>4</th>\n",
       "      <td>5</td>\n",
       "      <td>182</td>\n",
       "      <td>182001</td>\n",
       "    </tr>\n",
       "  </tbody>\n",
       "</table>\n",
       "</div>"
      ],
      "text/plain": [
       "   ID  PMID    SMID\n",
       "0   1   178  178001\n",
       "1   2   179  179001\n",
       "2   3   180  180001\n",
       "3   4   181  181001\n",
       "4   5   182  182001"
      ]
     },
     "execution_count": 11,
     "metadata": {},
     "output_type": "execute_result"
    }
   ],
   "source": [
    "lookup_df.head()"
   ]
  },
  {
   "cell_type": "code",
   "execution_count": 12,
   "id": "ab59bbf4-3db0-4940-b015-d08c08355fac",
   "metadata": {},
   "outputs": [
    {
     "data": {
      "text/plain": [
       "(4835, 3)"
      ]
     },
     "execution_count": 12,
     "metadata": {},
     "output_type": "execute_result"
    }
   ],
   "source": [
    "lookup_df.shape"
   ]
  },
  {
   "cell_type": "code",
   "execution_count": 13,
   "id": "3c9db0dd-8205-4f3d-a8e4-a93d57777ed6",
   "metadata": {},
   "outputs": [
    {
     "data": {
      "text/plain": [
       "489     21\n",
       "427     18\n",
       "363     16\n",
       "679     12\n",
       "987     12\n",
       "        ..\n",
       "1641     1\n",
       "1643     1\n",
       "1644     1\n",
       "1646     1\n",
       "3752     1\n",
       "Name: PMID, Length: 3573, dtype: int64"
      ]
     },
     "execution_count": 13,
     "metadata": {},
     "output_type": "execute_result"
    }
   ],
   "source": [
    "lookup_df['PMID'].value_counts()"
   ]
  },
  {
   "cell_type": "code",
   "execution_count": 14,
   "id": "e116357b-7a2d-4124-bf2e-6dffa4fdad21",
   "metadata": {},
   "outputs": [],
   "source": [
    "patient_df=pd.read_csv(p_project + '/data/elise/Patient_Master_Data.csv', sep=';')"
   ]
  },
  {
   "cell_type": "code",
   "execution_count": 15,
   "id": "215c7385-794a-4abe-b1fb-81b06a2054ae",
   "metadata": {},
   "outputs": [
    {
     "data": {
      "text/html": [
       "<div>\n",
       "<style scoped>\n",
       "    .dataframe tbody tr th:only-of-type {\n",
       "        vertical-align: middle;\n",
       "    }\n",
       "\n",
       "    .dataframe tbody tr th {\n",
       "        vertical-align: top;\n",
       "    }\n",
       "\n",
       "    .dataframe thead th {\n",
       "        text-align: right;\n",
       "    }\n",
       "</style>\n",
       "<table border=\"1\" class=\"dataframe\">\n",
       "  <thead>\n",
       "    <tr style=\"text-align: right;\">\n",
       "      <th></th>\n",
       "      <th>PMID</th>\n",
       "      <th>Sex</th>\n",
       "      <th>DateOfBirth</th>\n",
       "      <th>DateOfDie</th>\n",
       "    </tr>\n",
       "  </thead>\n",
       "  <tbody>\n",
       "    <tr>\n",
       "      <th>0</th>\n",
       "      <td>3246</td>\n",
       "      <td>1.0</td>\n",
       "      <td>2232-03-09 00:00:00.000</td>\n",
       "      <td>2245-06-26 18:23:00.000</td>\n",
       "    </tr>\n",
       "    <tr>\n",
       "      <th>1</th>\n",
       "      <td>822</td>\n",
       "      <td>2.0</td>\n",
       "      <td>2232-09-16 00:00:00.000</td>\n",
       "      <td>NaN</td>\n",
       "    </tr>\n",
       "    <tr>\n",
       "      <th>2</th>\n",
       "      <td>2661</td>\n",
       "      <td>1.0</td>\n",
       "      <td>2234-07-08 00:00:00.000</td>\n",
       "      <td>NaN</td>\n",
       "    </tr>\n",
       "    <tr>\n",
       "      <th>3</th>\n",
       "      <td>1717</td>\n",
       "      <td>2.0</td>\n",
       "      <td>2231-08-29 00:00:00.000</td>\n",
       "      <td>NaN</td>\n",
       "    </tr>\n",
       "    <tr>\n",
       "      <th>4</th>\n",
       "      <td>961</td>\n",
       "      <td>1.0</td>\n",
       "      <td>2229-09-14 00:00:00.000</td>\n",
       "      <td>NaN</td>\n",
       "    </tr>\n",
       "  </tbody>\n",
       "</table>\n",
       "</div>"
      ],
      "text/plain": [
       "   PMID  Sex              DateOfBirth                DateOfDie\n",
       "0  3246  1.0  2232-03-09 00:00:00.000  2245-06-26 18:23:00.000\n",
       "1   822  2.0  2232-09-16 00:00:00.000                      NaN\n",
       "2  2661  1.0  2234-07-08 00:00:00.000                      NaN\n",
       "3  1717  2.0  2231-08-29 00:00:00.000                      NaN\n",
       "4   961  1.0  2229-09-14 00:00:00.000                      NaN"
      ]
     },
     "execution_count": 15,
     "metadata": {},
     "output_type": "execute_result"
    }
   ],
   "source": [
    "patient_df.head()"
   ]
  },
  {
   "cell_type": "code",
   "execution_count": null,
   "id": "58c2c63e-a24a-49a8-8b68-6329074b2ae7",
   "metadata": {},
   "outputs": [],
   "source": []
  }
 ],
 "metadata": {
  "kernelspec": {
   "display_name": "Python 3 (ipykernel)",
   "language": "python",
   "name": "python3"
  },
  "language_info": {
   "codemirror_mode": {
    "name": "ipython",
    "version": 3
   },
   "file_extension": ".py",
   "mimetype": "text/x-python",
   "name": "python",
   "nbconvert_exporter": "python",
   "pygments_lexer": "ipython3",
   "version": "3.8.12"
  }
 },
 "nbformat": 4,
 "nbformat_minor": 5
}
